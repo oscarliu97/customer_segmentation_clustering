{
 "cells": [
  {
   "cell_type": "markdown",
   "metadata": {},
   "source": [
    "# Introduction to Clustering with Customer Segmentation"
   ]
  },
  {
   "cell_type": "markdown",
   "metadata": {},
   "source": [
    "What is clustering? Clustering is an unsupervised machine learning algorithm that only takes input, X, but not labelled output, y. Clustering algorithms partition datas into distinct subgroups/clusters. For example, given a dataset of mall customers with features like 'Age', 'Income', 'Spending Score', we feed the clustering algorithm with the dataset and it will create a number of clusters based on the characteristics of the data and the specific algorithm with its parameters we use for clustering. In clustering, our main goal is to break down a big dataset into a few distinct subgroups so that we can use the subgroups to understand our data more easily or in a technical term, exploratory data analysis. However, since we do not have any labelled data for clustering algorithm, it is often diffucult to measure the performance of our model since we cannot compare the clusters with some ground truth answer to measure the performance. So, domain knowledge of the dataset is very important to interpret if we have reasonable and useful clusters.\n",
    "\n",
    "There are many clustering algorithms and we will discuss three of the most popular ones which are:\n",
    " - K-Means clustering\n",
    " - Hierachical clustering(Agglomerative approach)\n",
    " - DBSCAN(Density Based Spatial Clustering of Application with Noise) \n",
    "\n",
    "Goals of this notebook:\n",
    " - Provide intuitive tutorial of clustering technique\n",
    " - Applying clustering techniques and evaluate their performance on certain dataset\n",
    " - Discuss the pros and cons of each of the three techniques"
   ]
  },
  {
   "cell_type": "markdown",
   "metadata": {},
   "source": [
    "## Understanding the data"
   ]
  },
  {
   "cell_type": "code",
   "execution_count": 1,
   "metadata": {},
   "outputs": [],
   "source": [
    "import numpy as np\n",
    "import pandas as pd\n",
    "import matplotlib.pyplot as plt\n",
    "import plotly.express as px\n",
    "import seaborn as sns\n",
    "import mglearn\n",
    "\n",
    "df = pd.read_csv(\"mall_customers.csv\")"
   ]
  },
  {
   "cell_type": "markdown",
   "metadata": {},
   "source": [
    "#### 1. Looking at the first 5 rows of the data"
   ]
  },
  {
   "cell_type": "code",
   "execution_count": 2,
   "metadata": {
    "scrolled": false
   },
   "outputs": [
    {
     "data": {
      "text/html": [
       "<div>\n",
       "<style scoped>\n",
       "    .dataframe tbody tr th:only-of-type {\n",
       "        vertical-align: middle;\n",
       "    }\n",
       "\n",
       "    .dataframe tbody tr th {\n",
       "        vertical-align: top;\n",
       "    }\n",
       "\n",
       "    .dataframe thead th {\n",
       "        text-align: right;\n",
       "    }\n",
       "</style>\n",
       "<table border=\"1\" class=\"dataframe\">\n",
       "  <thead>\n",
       "    <tr style=\"text-align: right;\">\n",
       "      <th></th>\n",
       "      <th>CustomerID</th>\n",
       "      <th>Gender</th>\n",
       "      <th>Age</th>\n",
       "      <th>Annual Income (k$)</th>\n",
       "      <th>Spending Score (1-100)</th>\n",
       "    </tr>\n",
       "  </thead>\n",
       "  <tbody>\n",
       "    <tr>\n",
       "      <th>0</th>\n",
       "      <td>1</td>\n",
       "      <td>Male</td>\n",
       "      <td>19</td>\n",
       "      <td>15</td>\n",
       "      <td>39</td>\n",
       "    </tr>\n",
       "    <tr>\n",
       "      <th>1</th>\n",
       "      <td>2</td>\n",
       "      <td>Male</td>\n",
       "      <td>21</td>\n",
       "      <td>15</td>\n",
       "      <td>81</td>\n",
       "    </tr>\n",
       "    <tr>\n",
       "      <th>2</th>\n",
       "      <td>3</td>\n",
       "      <td>Female</td>\n",
       "      <td>20</td>\n",
       "      <td>16</td>\n",
       "      <td>6</td>\n",
       "    </tr>\n",
       "    <tr>\n",
       "      <th>3</th>\n",
       "      <td>4</td>\n",
       "      <td>Female</td>\n",
       "      <td>23</td>\n",
       "      <td>16</td>\n",
       "      <td>77</td>\n",
       "    </tr>\n",
       "    <tr>\n",
       "      <th>4</th>\n",
       "      <td>5</td>\n",
       "      <td>Female</td>\n",
       "      <td>31</td>\n",
       "      <td>17</td>\n",
       "      <td>40</td>\n",
       "    </tr>\n",
       "  </tbody>\n",
       "</table>\n",
       "</div>"
      ],
      "text/plain": [
       "   CustomerID  Gender  Age  Annual Income (k$)  Spending Score (1-100)\n",
       "0           1    Male   19                  15                      39\n",
       "1           2    Male   21                  15                      81\n",
       "2           3  Female   20                  16                       6\n",
       "3           4  Female   23                  16                      77\n",
       "4           5  Female   31                  17                      40"
      ]
     },
     "execution_count": 2,
     "metadata": {},
     "output_type": "execute_result"
    }
   ],
   "source": [
    "df.head()"
   ]
  },
  {
   "cell_type": "markdown",
   "metadata": {},
   "source": [
    "#### 2. Renaming the columns so that it is easier to use later."
   ]
  },
  {
   "cell_type": "code",
   "execution_count": 3,
   "metadata": {},
   "outputs": [
    {
     "data": {
      "text/html": [
       "<div>\n",
       "<style scoped>\n",
       "    .dataframe tbody tr th:only-of-type {\n",
       "        vertical-align: middle;\n",
       "    }\n",
       "\n",
       "    .dataframe tbody tr th {\n",
       "        vertical-align: top;\n",
       "    }\n",
       "\n",
       "    .dataframe thead th {\n",
       "        text-align: right;\n",
       "    }\n",
       "</style>\n",
       "<table border=\"1\" class=\"dataframe\">\n",
       "  <thead>\n",
       "    <tr style=\"text-align: right;\">\n",
       "      <th></th>\n",
       "      <th>customer_ID</th>\n",
       "      <th>gender</th>\n",
       "      <th>age</th>\n",
       "      <th>annual_income</th>\n",
       "      <th>spending_score</th>\n",
       "    </tr>\n",
       "  </thead>\n",
       "  <tbody>\n",
       "    <tr>\n",
       "      <th>0</th>\n",
       "      <td>1</td>\n",
       "      <td>Male</td>\n",
       "      <td>19</td>\n",
       "      <td>15</td>\n",
       "      <td>39</td>\n",
       "    </tr>\n",
       "    <tr>\n",
       "      <th>1</th>\n",
       "      <td>2</td>\n",
       "      <td>Male</td>\n",
       "      <td>21</td>\n",
       "      <td>15</td>\n",
       "      <td>81</td>\n",
       "    </tr>\n",
       "    <tr>\n",
       "      <th>2</th>\n",
       "      <td>3</td>\n",
       "      <td>Female</td>\n",
       "      <td>20</td>\n",
       "      <td>16</td>\n",
       "      <td>6</td>\n",
       "    </tr>\n",
       "    <tr>\n",
       "      <th>3</th>\n",
       "      <td>4</td>\n",
       "      <td>Female</td>\n",
       "      <td>23</td>\n",
       "      <td>16</td>\n",
       "      <td>77</td>\n",
       "    </tr>\n",
       "    <tr>\n",
       "      <th>4</th>\n",
       "      <td>5</td>\n",
       "      <td>Female</td>\n",
       "      <td>31</td>\n",
       "      <td>17</td>\n",
       "      <td>40</td>\n",
       "    </tr>\n",
       "  </tbody>\n",
       "</table>\n",
       "</div>"
      ],
      "text/plain": [
       "   customer_ID  gender  age  annual_income  spending_score\n",
       "0            1    Male   19             15              39\n",
       "1            2    Male   21             15              81\n",
       "2            3  Female   20             16               6\n",
       "3            4  Female   23             16              77\n",
       "4            5  Female   31             17              40"
      ]
     },
     "execution_count": 3,
     "metadata": {},
     "output_type": "execute_result"
    }
   ],
   "source": [
    "df.columns = ['customer_ID','gender','age','annual_income','spending_score']\n",
    "df.head()"
   ]
  },
  {
   "cell_type": "markdown",
   "metadata": {},
   "source": [
    "#### 3. The data contains 200 rows and 5 columns."
   ]
  },
  {
   "cell_type": "code",
   "execution_count": 4,
   "metadata": {},
   "outputs": [
    {
     "data": {
      "text/plain": [
       "(200, 5)"
      ]
     },
     "execution_count": 4,
     "metadata": {},
     "output_type": "execute_result"
    }
   ],
   "source": [
    "df.shape"
   ]
  },
  {
   "cell_type": "markdown",
   "metadata": {},
   "source": [
    "#### 4. There is no duplicated rows."
   ]
  },
  {
   "cell_type": "code",
   "execution_count": 5,
   "metadata": {},
   "outputs": [
    {
     "data": {
      "text/plain": [
       "False"
      ]
     },
     "execution_count": 5,
     "metadata": {},
     "output_type": "execute_result"
    }
   ],
   "source": [
    "df.duplicated().any()"
   ]
  },
  {
   "cell_type": "markdown",
   "metadata": {},
   "source": [
    "#### 5. There is no missing values in the dataset. "
   ]
  },
  {
   "cell_type": "code",
   "execution_count": 6,
   "metadata": {
    "scrolled": true
   },
   "outputs": [
    {
     "data": {
      "text/plain": [
       "customer_ID       False\n",
       "gender            False\n",
       "age               False\n",
       "annual_income     False\n",
       "spending_score    False\n",
       "dtype: bool"
      ]
     },
     "execution_count": 6,
     "metadata": {},
     "output_type": "execute_result"
    }
   ],
   "source": [
    "df.isnull().any()"
   ]
  },
  {
   "cell_type": "markdown",
   "metadata": {},
   "source": [
    "#### 6. Changing the index of the dataset to 'customer_ID' since 'customer_ID' will not provide us any insightful information for that customer except for indexing the specific customer."
   ]
  },
  {
   "cell_type": "code",
   "execution_count": 7,
   "metadata": {
    "scrolled": false
   },
   "outputs": [
    {
     "data": {
      "text/html": [
       "<div>\n",
       "<style scoped>\n",
       "    .dataframe tbody tr th:only-of-type {\n",
       "        vertical-align: middle;\n",
       "    }\n",
       "\n",
       "    .dataframe tbody tr th {\n",
       "        vertical-align: top;\n",
       "    }\n",
       "\n",
       "    .dataframe thead th {\n",
       "        text-align: right;\n",
       "    }\n",
       "</style>\n",
       "<table border=\"1\" class=\"dataframe\">\n",
       "  <thead>\n",
       "    <tr style=\"text-align: right;\">\n",
       "      <th></th>\n",
       "      <th>gender</th>\n",
       "      <th>age</th>\n",
       "      <th>annual_income</th>\n",
       "      <th>spending_score</th>\n",
       "    </tr>\n",
       "    <tr>\n",
       "      <th>customer_ID</th>\n",
       "      <th></th>\n",
       "      <th></th>\n",
       "      <th></th>\n",
       "      <th></th>\n",
       "    </tr>\n",
       "  </thead>\n",
       "  <tbody>\n",
       "    <tr>\n",
       "      <th>1</th>\n",
       "      <td>Male</td>\n",
       "      <td>19</td>\n",
       "      <td>15</td>\n",
       "      <td>39</td>\n",
       "    </tr>\n",
       "    <tr>\n",
       "      <th>2</th>\n",
       "      <td>Male</td>\n",
       "      <td>21</td>\n",
       "      <td>15</td>\n",
       "      <td>81</td>\n",
       "    </tr>\n",
       "    <tr>\n",
       "      <th>3</th>\n",
       "      <td>Female</td>\n",
       "      <td>20</td>\n",
       "      <td>16</td>\n",
       "      <td>6</td>\n",
       "    </tr>\n",
       "    <tr>\n",
       "      <th>4</th>\n",
       "      <td>Female</td>\n",
       "      <td>23</td>\n",
       "      <td>16</td>\n",
       "      <td>77</td>\n",
       "    </tr>\n",
       "    <tr>\n",
       "      <th>5</th>\n",
       "      <td>Female</td>\n",
       "      <td>31</td>\n",
       "      <td>17</td>\n",
       "      <td>40</td>\n",
       "    </tr>\n",
       "  </tbody>\n",
       "</table>\n",
       "</div>"
      ],
      "text/plain": [
       "             gender  age  annual_income  spending_score\n",
       "customer_ID                                            \n",
       "1              Male   19             15              39\n",
       "2              Male   21             15              81\n",
       "3            Female   20             16               6\n",
       "4            Female   23             16              77\n",
       "5            Female   31             17              40"
      ]
     },
     "execution_count": 7,
     "metadata": {},
     "output_type": "execute_result"
    }
   ],
   "source": [
    "df = df.set_index(['customer_ID'])\n",
    "df.head()"
   ]
  },
  {
   "cell_type": "markdown",
   "metadata": {},
   "source": [
    "## Exploratory Data Analysis and Data Visualization"
   ]
  },
  {
   "cell_type": "markdown",
   "metadata": {},
   "source": [
    "#### Inspect the relationship between each feature using a pairplot."
   ]
  },
  {
   "cell_type": "code",
   "execution_count": 8,
   "metadata": {
    "scrolled": false
   },
   "outputs": [
    {
     "data": {
      "image/png": "[encoded data removed]",
      "text/plain": [
       "<Figure size 882.125x540 with 12 Axes>"
      ]
     },
     "metadata": {
      "needs_background": "light"
     },
     "output_type": "display_data"
    }
   ],
   "source": [
    "sns.pairplot(df, hue='gender',aspect = 1.5)\n",
    "plt.show()"
   ]
  },
  {
   "cell_type": "markdown",
   "metadata": {},
   "source": [
    "- From the plot above, we can see that there is no obvious difference between Male and Female in all plots.\n",
    "- As a result, we will drop the 'gender' column since most of the distance-based algorithm cannot process categorical/binary data properly to provide meaningful results. To cluster a dataset with both numerical and categorical data, you can consider and look for K-Modes clustering which is out-of-scope of this discussion."
   ]
  },
  {
   "cell_type": "markdown",
   "metadata": {},
   "source": [
    "## Clustering"
   ]
  },
  {
   "cell_type": "markdown",
   "metadata": {},
   "source": [
    "#### Dropping the 'gender' column for our three distance-based clustering techniques."
   ]
  },
  {
   "cell_type": "code",
   "execution_count": 9,
   "metadata": {},
   "outputs": [
    {
     "data": {
      "text/html": [
       "<div>\n",
       "<style scoped>\n",
       "    .dataframe tbody tr th:only-of-type {\n",
       "        vertical-align: middle;\n",
       "    }\n",
       "\n",
       "    .dataframe tbody tr th {\n",
       "        vertical-align: top;\n",
       "    }\n",
       "\n",
       "    .dataframe thead th {\n",
       "        text-align: right;\n",
       "    }\n",
       "</style>\n",
       "<table border=\"1\" class=\"dataframe\">\n",
       "  <thead>\n",
       "    <tr style=\"text-align: right;\">\n",
       "      <th></th>\n",
       "      <th>age</th>\n",
       "      <th>annual_income</th>\n",
       "      <th>spending_score</th>\n",
       "    </tr>\n",
       "    <tr>\n",
       "      <th>customer_ID</th>\n",
       "      <th></th>\n",
       "      <th></th>\n",
       "      <th></th>\n",
       "    </tr>\n",
       "  </thead>\n",
       "  <tbody>\n",
       "    <tr>\n",
       "      <th>1</th>\n",
       "      <td>19</td>\n",
       "      <td>15</td>\n",
       "      <td>39</td>\n",
       "    </tr>\n",
       "    <tr>\n",
       "      <th>2</th>\n",
       "      <td>21</td>\n",
       "      <td>15</td>\n",
       "      <td>81</td>\n",
       "    </tr>\n",
       "    <tr>\n",
       "      <th>3</th>\n",
       "      <td>20</td>\n",
       "      <td>16</td>\n",
       "      <td>6</td>\n",
       "    </tr>\n",
       "    <tr>\n",
       "      <th>4</th>\n",
       "      <td>23</td>\n",
       "      <td>16</td>\n",
       "      <td>77</td>\n",
       "    </tr>\n",
       "    <tr>\n",
       "      <th>5</th>\n",
       "      <td>31</td>\n",
       "      <td>17</td>\n",
       "      <td>40</td>\n",
       "    </tr>\n",
       "  </tbody>\n",
       "</table>\n",
       "</div>"
      ],
      "text/plain": [
       "             age  annual_income  spending_score\n",
       "customer_ID                                    \n",
       "1             19             15              39\n",
       "2             21             15              81\n",
       "3             20             16               6\n",
       "4             23             16              77\n",
       "5             31             17              40"
      ]
     },
     "execution_count": 9,
     "metadata": {},
     "output_type": "execute_result"
    }
   ],
   "source": [
    "X = df.drop(['gender'], axis=1)\n",
    "X.head()"
   ]
  },
  {
   "cell_type": "markdown",
   "metadata": {},
   "source": [
    "### 1. K-Means Clustering"
   ]
  },
  {
   "cell_type": "markdown",
   "metadata": {},
   "source": [
    "K-Means clustering is one of the most simple and commonly used clustering algorithm. It works as follows:\n",
    " 1. Randomly assign k = n_clusters of cluster centre(centroids).\n",
    " 2. Assign each datapoint to the closest centroids.\n",
    " 3. Calculate the mean of all the points in each cluster and reassign the centroid of each cluster as the mean.\n",
    " 4. Reassign each datapoint to the closest centroid based on Euclidean distance.\n",
    " 5. Repeat Step 3 and Step 4 until the total sum of the within-cluster variation over the three clusters is the minimum."
   ]
  },
  {
   "cell_type": "markdown",
   "metadata": {},
   "source": [
    "#### An illustration showing the steps of K-Means clustering, taken from 'Introduction to Machine Learning with Python' book."
   ]
  },
  {
   "cell_type": "code",
   "execution_count": 10,
   "metadata": {
    "scrolled": true
   },
   "outputs": [
    {
     "data": {
      "image/png": "[encoded data removed]",
      "text/plain": [
       "<Figure size 720x576 with 9 Axes>"
      ]
     },
     "metadata": {},
     "output_type": "display_data"
    }
   ],
   "source": [
    "mglearn.plots.plot_kmeans_algorithm()"
   ]
  },
  {
   "cell_type": "markdown",
   "metadata": {},
   "source": [
    "#### Implementation for Customer Data"
   ]
  },
  {
   "cell_type": "code",
   "execution_count": 11,
   "metadata": {},
   "outputs": [],
   "source": [
    "from sklearn.cluster import KMeans\n",
    "from sklearn.metrics import silhouette_score\n",
    "clusters = []\n",
    "ss = []\n",
    "\n",
    "#Calculate all the sum of within-cluster variance for n_clusters from 2 to 14\n",
    "\n",
    "for i in range(2,15):\n",
    "    km = KMeans(n_clusters = i)\n",
    "    km.fit(X)\n",
    "    clusters.append(km.inertia_)\n",
    "    ss.append(silhouette_score(X, km.labels_, metric='euclidean'))\n"
   ]
  },
  {
   "cell_type": "code",
   "execution_count": 12,
   "metadata": {},
   "outputs": [
    {
     "data": {
      "image/png": "[encoded data removed]",
      "text/plain": [
       "<Figure size 864x576 with 1 Axes>"
      ]
     },
     "metadata": {
      "needs_background": "light"
     },
     "output_type": "display_data"
    }
   ],
   "source": [
    "fig, ax = plt.subplots(figsize=(12, 8))\n",
    "sns.lineplot(x=list(range(2, 15)), y=clusters, ax=ax)\n",
    "ax.set_title('Searching for Elbow')\n",
    "ax.set_xlabel('Clusters')\n",
    "ax.set_ylabel('Inertia')\n",
    "\n",
    "# Annotate arrow\n",
    "ax.annotate('Possible Elbow Point', xy=(6, 57000), xytext=(3, 50000), xycoords='data',          \n",
    "             arrowprops=dict(arrowstyle='->', connectionstyle='arc3', color='blue', lw=2))\n",
    "\n",
    "ax.annotate('Possible Elbow Point', xy=(5, 80000), xytext=(5, 150000), xycoords='data',          \n",
    "             arrowprops=dict(arrowstyle='->', connectionstyle='arc3', color='blue', lw=2))\n",
    "\n",
    "plt.show()"
   ]
  },
  {
   "cell_type": "markdown",
   "metadata": {},
   "source": [
    "- __The plot above is called an elbow method/plot. It illustrates the inertia(sum of squared distances of each data point to their closest centroid / sum of within-cluster variance) against n_clusters(number of clusters). Practically, we will not choose the n_clusters for the minimum inertia and instead, we will choose the so-called elbow point, as illustrated above, since it explains the majority of the inertia(variance). However, sometimes by just visually inspecting the elbow points are not enough to tell which n_clusters is the optimal choice like the elbow plot illustrated above. One way to tackle this problem is to pick both elbow points, use them for clustering, evaluate the results based on our domain knowledge and finally choose the best n_clusters. Increasing the number of clusters from that elbow point does not provide extra much information and it might produce an undesired results. As a rule of thumb, we choose the n_clusters based on the elbow point.__"
   ]
  },
  {
   "cell_type": "markdown",
   "metadata": {},
   "source": [
    "- __Another way is to use another metric, Silhouette score, to validate our choice of n_clusters.The Silhouette score measures how similar a point is to its own cluster (cohesion) compared to other clusters (separation). The range of Silhouette score is between -1 and +1. The score closer to +1 indicates that the data points are in the right cluster. If many points have negative Silhouette score, it may indicate that we either have created too many clusters or too less clusters. Silhouette score also utilize Euclidean distance to compute its score. In contrast to inertia, Silhouette score reaches its global maximum at the optimal K value.__ "
   ]
  },
  {
   "cell_type": "code",
   "execution_count": 13,
   "metadata": {},
   "outputs": [
    {
     "data": {
      "text/plain": [
       "Text(0, 0.5, 'Silhouette Score')"
      ]
     },
     "execution_count": 13,
     "metadata": {},
     "output_type": "execute_result"
    },
    {
     "data": {
      "image/png": "[encoded data removed]",
      "text/plain": [
       "<Figure size 864x576 with 1 Axes>"
      ]
     },
     "metadata": {
      "needs_background": "light"
     },
     "output_type": "display_data"
    }
   ],
   "source": [
    "fig, ax = plt.subplots(figsize=(12, 8))\n",
    "sns.lineplot(x=list(range(2, 15)), y=ss, ax=ax)\n",
    "ax.set_title('Silhouette Score for each n_clusters')\n",
    "ax.set_xlabel('Clusters')\n",
    "ax.set_ylabel('Silhouette Score')"
   ]
  },
  {
   "cell_type": "markdown",
   "metadata": {},
   "source": [
    "- __As we can see from the plot above, K=6 is has a higher Silhouette score than K=5 but both are very close, hence, we can inspect both possibilities and finally choose the one which is more sensible gauged by our domain knowledge.__\n",
    "- __The Elbow method is more like a decision rule rather than a metric while the Silhouette score is a metric for clustering validation. Hence, they are not alternative to each other to find optimal K but rather, they can be used together to find a value of K with more confident.__"
   ]
  },
  {
   "cell_type": "code",
   "execution_count": 14,
   "metadata": {
    "scrolled": false
   },
   "outputs": [
    {
     "name": "stderr",
     "output_type": "stream",
     "text": [
      "/Users/oscarliu/opt/anaconda3/lib/python3.8/site-packages/seaborn/_decorators.py:36: FutureWarning: Pass the following variables as keyword args: x, y. From version 0.12, the only valid positional argument will be `data`, and passing other arguments without an explicit keyword will result in an error or misinterpretation.\n",
      "  warnings.warn(\n"
     ]
    },
    {
     "data": {
      "image/png": "[encoded data removed]",
      "text/plain": [
       "<Figure size 1008x720 with 1 Axes>"
      ]
     },
     "metadata": {
      "needs_background": "light"
     },
     "output_type": "display_data"
    }
   ],
   "source": [
    "km6 = KMeans(n_clusters=6).fit(X)\n",
    "\n",
    "X['Labels'] = km6.labels_\n",
    "plt.figure(figsize=(14, 10))\n",
    "sns.scatterplot(X['annual_income'], X['spending_score'], hue=X['Labels'], \n",
    "                palette=sns.color_palette('hls', 6))\n",
    "plt.title('KMeans with 6 Clusters')\n",
    "plt.legend(loc='center right')\n",
    "plt.show()"
   ]
  },
  {
   "cell_type": "markdown",
   "metadata": {},
   "source": [
    "- __As we can see from the scatterplot above, there are 4 obvious clusters and two mixed clusters in the middle(green+red)__"
   ]
  },
  {
   "cell_type": "code",
   "execution_count": 15,
   "metadata": {
    "scrolled": false
   },
   "outputs": [
    {
     "name": "stderr",
     "output_type": "stream",
     "text": [
      "/Users/oscarliu/opt/anaconda3/lib/python3.8/site-packages/seaborn/_decorators.py:36: FutureWarning: Pass the following variables as keyword args: x, y. From version 0.12, the only valid positional argument will be `data`, and passing other arguments without an explicit keyword will result in an error or misinterpretation.\n",
      "  warnings.warn(\n"
     ]
    },
    {
     "data": {
      "image/png": "[encoded data removed]",
      "text/plain": [
       "<Figure size 1008x720 with 1 Axes>"
      ]
     },
     "metadata": {
      "needs_background": "light"
     },
     "output_type": "display_data"
    }
   ],
   "source": [
    "km5 = KMeans(n_clusters=5).fit(X)\n",
    "\n",
    "X['Labels'] = km5.labels_\n",
    "plt.figure(figsize=(14, 10))\n",
    "sns.scatterplot(X['annual_income'], X['spending_score'], hue=X['Labels'], \n",
    "                palette=sns.color_palette('hls', 5))\n",
    "plt.title('KMeans with 5 Clusters')\n",
    "plt.legend(loc='center right')\n",
    "plt.show()"
   ]
  },
  {
   "cell_type": "markdown",
   "metadata": {},
   "source": [
    "- __As compare to the 6 clusters plot, 5 clusters can better differentiate each of the subgroups. The five groups are:__\n",
    " 1. Low income with low spending score(Cluster 1)\n",
    " 2. Low income with high spending score(Cluster 2)\n",
    " 3. Medium income with medium spending score(Cluster 0)\n",
    " 4. High income with low spending score(Cluster 4)\n",
    " 5. High income with high spending score(Cluster 3)\n",
    " \n",
    "\n",
    "- __For the 6 clusters plot, there are two clusters in the middle income with medium spending score which we cannot tell the differences between the two clusters in the middle. Hence, with our domain knowledge, we choose K = 5 which is better representing our data.__\n",
    "\n",
    "- __We can also conclude that K-Means is very good at customer segmentation, more specifically on data clusters that have a spherical distribution. This is because K-Means utilize a centroid and the centroid measure each data point's distance from the centroid to the point using Euclidean distance in all direction from the centroid.__\n",
    "\n",
    "- __As a result, K-Means tend to perform very badly when the data clusters do not have spherical shape.__"
   ]
  },
  {
   "cell_type": "markdown",
   "metadata": {},
   "source": [
    "#### Clustering of half-moon-shaped dataset with KMeans"
   ]
  },
  {
   "cell_type": "code",
   "execution_count": 16,
   "metadata": {},
   "outputs": [
    {
     "data": {
      "text/plain": [
       "Text(0, 0.5, 'Feature 1')"
      ]
     },
     "execution_count": 16,
     "metadata": {},
     "output_type": "execute_result"
    },
    {
     "data": {
      "image/png": "[encoded data removed]",
      "text/plain": [
       "<Figure size 432x288 with 1 Axes>"
      ]
     },
     "metadata": {
      "needs_background": "light"
     },
     "output_type": "display_data"
    }
   ],
   "source": [
    "from sklearn.datasets import make_moons\n",
    "x, y = make_moons(n_samples=200, noise=0.05, random_state=0)\n",
    "\n",
    "# cluster the data into two clusters\n",
    "kmeans = KMeans(n_clusters=2)\n",
    "kmeans.fit(x)\n",
    "y_pred = kmeans.predict(x)\n",
    "  \n",
    "\n",
    "plt.scatter(x[:, 0], x[:, 1], c=y_pred, cmap=mglearn.cm2, s=60)\n",
    "plt.scatter(kmeans.cluster_centers_[:, 0], kmeans.cluster_centers_[:, 1],\n",
    "                marker='^', c=[mglearn.cm2(0), mglearn.cm2(1)], s=100, linewidth=2)\n",
    "plt.xlabel(\"Feature 0\")\n",
    "plt.ylabel(\"Feature 1\")"
   ]
  },
  {
   "cell_type": "markdown",
   "metadata": {},
   "source": [
    "- __We can clearly see KMeans fail to cluster correctly the above two half-moon shaped datas because their distribution of data is not spherical. We can see that the model cluster all the datapoint that is within a certain distance from the centroid(blue and red triangle) as the same cluster. So, we should inspect our data and consider properly when we choose our clustering algorithm.__"
   ]
  },
  {
   "cell_type": "markdown",
   "metadata": {},
   "source": [
    "### 2. Hierachical clustering(Agglomerative approach)"
   ]
  },
  {
   "cell_type": "markdown",
   "metadata": {},
   "source": [
    "Agglomerative hierachical clustering is a suite of clustering algorithms which build upon the same principles(bottom-up): the algorithms first declaring all the data points as clusters of its own and then the two most similar clusters will merge together and so on until a stopping criterion is achieved. For scikit-learn, the stopping criterion is the number of clusters(n_clusters). The algorithm also takes a 'linkage' parameter which tells us 'how to identify two most similar clusters'. There are four types of linkage implemented by scikit-learn:\n",
    " 1. ward: minimize the variance of the clusters being merged.\n",
    " 2. average: uses the average distance of each observation of the two sets\n",
    " 3. complete/maximum: uses the maximum distance between all the observations of the two sets\n",
    " 4. single: uses the minimum distance between all the observations of the two sets\n",
    "ward works on most datasets and it is the default option for scikit-learn, if the clusters have very dissimilar number of members(if one is much bigger than all the others) , average or complete might work better.\n",
    "\n",
    "The metric(a.k.a dissimilarity measure) to compute the linkage can be chosen as well, the most common ones are:\n",
    "1. Euclidean distance(default)\n",
    "2. Manhattan distance\n",
    "3. Correlation-based distance(Focus on shape of observations rather than magnitudes)\n",
    "Choices of linkage and its metric affect the result produce by the algorithm, so we should consider the type of data being examined and the scientific question at hand before picking a certain combination of linkage and metric.\n",
    "In practice, we should try all possibly insightful and useful combinations and then determine which one matches our desired outcome/ provide us the most insight from the data.\n",
    "\n",
    "The algorithm work as follows:\n",
    "1. Assign each point as a cluster of their own\n",
    "2. Two clusters that are closest to each other, if we uses Euclidean distance as dissimilarity metric and average as linkage.For example, a cluster will compare itself to all the other clusters by finding the Euclidean distance between the cluster centroid(average of a cluster) and all other clusters centroids. \n",
    "3. After that, the cluster will merge with the other cluster that have the shortest(minimal) Euclidean distance from its centroid. This is how the algorithm recognize 'how similar two clusters are'(i.e. shortest Euclidean distance between cluster centroids for 'average' linkage case).\n",
    "4. Step 2-4 are repeated until the stopping criterion(i.e. the number of clusters determined) is satisfied.\n",
    "\n",
    "After the agglomerative hierachical clustering, we will always use a dendrogram to visually inspect our result. We will look into the details dendrogram later."
   ]
  },
  {
   "cell_type": "markdown",
   "metadata": {},
   "source": [
    "#### An example of the agglomerative clustering operations with 3 clusters (plot taken from 'Introduction to Machine Learning in Python' book)"
   ]
  },
  {
   "cell_type": "code",
   "execution_count": 17,
   "metadata": {},
   "outputs": [
    {
     "data": {
      "image/png": "[encoded data removed]",
      "text/plain": [
       "<Figure size 1440x576 with 10 Axes>"
      ]
     },
     "metadata": {},
     "output_type": "display_data"
    }
   ],
   "source": [
    "mglearn.plots.plot_agglomerative_algorithm()"
   ]
  },
  {
   "cell_type": "markdown",
   "metadata": {},
   "source": [
    "- __First, all the points are initialized as individual clusters. Then, in each step, the two closest clusters are merged together. In the first four steps, 4 set of two points clusters are formed. In step 5 - 7, three 3-point clusters are formed and then finally in step 9, 3 main clusters are formed.__"
   ]
  },
  {
   "cell_type": "markdown",
   "metadata": {},
   "source": [
    "#### Clustering for customer data"
   ]
  },
  {
   "cell_type": "code",
   "execution_count": 18,
   "metadata": {},
   "outputs": [
    {
     "name": "stderr",
     "output_type": "stream",
     "text": [
      "/Users/oscarliu/opt/anaconda3/lib/python3.8/site-packages/seaborn/_decorators.py:36: FutureWarning: Pass the following variables as keyword args: x, y. From version 0.12, the only valid positional argument will be `data`, and passing other arguments without an explicit keyword will result in an error or misinterpretation.\n",
      "  warnings.warn(\n"
     ]
    },
    {
     "data": {
      "image/png": "[encoded data removed]",
      "text/plain": [
       "<Figure size 1008x720 with 1 Axes>"
      ]
     },
     "metadata": {
      "needs_background": "light"
     },
     "output_type": "display_data"
    }
   ],
   "source": [
    "from sklearn.cluster import AgglomerativeClustering \n",
    "\n",
    "aggloclus = AgglomerativeClustering(n_clusters=5, linkage='complete').fit(X)\n",
    "\n",
    "labels = aggloclus.labels_\n",
    "plt.figure(figsize=(14, 10))\n",
    "sns.scatterplot(X['annual_income'], X['spending_score'], hue=labels, \n",
    "                palette=sns.color_palette('hls', 5))\n",
    "plt.title('Agglomerative with 5 Clusters with \"complete\" linkage')\n",
    "plt.show()"
   ]
  },
  {
   "cell_type": "markdown",
   "metadata": {},
   "source": [
    "- __From the scatterplot above, we can see that agglomerative clustering work as well as KMeans clustering in customer segmentation, the five distinct clusters are similar to the five clusters produced by KMeans clustering. In this plot, we used 'complete' linkage and 5 clusters.__"
   ]
  },
  {
   "cell_type": "code",
   "execution_count": 19,
   "metadata": {},
   "outputs": [
    {
     "name": "stderr",
     "output_type": "stream",
     "text": [
      "/Users/oscarliu/opt/anaconda3/lib/python3.8/site-packages/seaborn/_decorators.py:36: FutureWarning: Pass the following variables as keyword args: x, y. From version 0.12, the only valid positional argument will be `data`, and passing other arguments without an explicit keyword will result in an error or misinterpretation.\n",
      "  warnings.warn(\n"
     ]
    },
    {
     "data": {
      "image/png": "[encoded data removed]",
      "text/plain": [
       "<Figure size 1008x720 with 1 Axes>"
      ]
     },
     "metadata": {
      "needs_background": "light"
     },
     "output_type": "display_data"
    }
   ],
   "source": [
    "from sklearn.cluster import AgglomerativeClustering \n",
    "\n",
    "aggloclus = AgglomerativeClustering(n_clusters=5, linkage='ward').fit(X)\n",
    "\n",
    "labels = aggloclus.labels_\n",
    "plt.figure(figsize=(14, 10))\n",
    "sns.scatterplot(X['annual_income'], X['spending_score'], hue=labels, \n",
    "                palette=sns.color_palette('hls', 5))\n",
    "plt.title('Agglomerative with 5 Clusters with \"ward\" linkage')\n",
    "plt.show()"
   ]
  },
  {
   "cell_type": "markdown",
   "metadata": {},
   "source": [
    "- __We can see that the clusters are identical to the one using 'complete' linkage. This might indicate that the clusters are well-defined since changing the linkage does not affect the clusters. This plot uses 'ward' linkage and 5 clusters.__"
   ]
  },
  {
   "cell_type": "markdown",
   "metadata": {},
   "source": [
    "#### Dendrogram"
   ]
  },
  {
   "cell_type": "code",
   "execution_count": 42,
   "metadata": {
    "scrolled": false
   },
   "outputs": [
    {
     "data": {
      "application/vnd.plotly.v1+json": {
       "config": {
        "plotlyServerURL": "https://plot.ly"
       },
       "data": [
        {
         "hoverinfo": "text",
         "marker": {
          "color": "rgb(61,153,112)"
         },
         "mode": "lines",
         "type": "scatter",
         "x": [
          25,
          25,
          35,
          35
         ],
         "xaxis": "x",
         "y": [
          0,
          3.0283510064199732,
          3.0283510064199732,
          0
         ],
         "yaxis": "y"
        },
        {
         "hoverinfo": "text",
         "marker": {
          "color": "rgb(61,153,112)"
         },
         "mode": "lines",
         "type": "scatter",
         "x": [
          15,
          15,
          30,
          30
         ],
         "xaxis": "x",
         "y": [
          0,
          6.152606297363946,
          6.152606297363946,
          3.0283510064199732
         ],
         "yaxis": "y"
        },
        {
         "hoverinfo": "text",
         "marker": {
          "color": "rgb(61,153,112)"
         },
         "mode": "lines",
         "type": "scatter",
         "x": [
          5,
          5,
          22.5,
          22.5
         ],
         "xaxis": "x",
         "y": [
          0,
          6.596613352054572,
          6.596613352054572,
          6.152606297363946
         ],
         "yaxis": "y"
        },
        {
         "hoverinfo": "text",
         "marker": {
          "color": "rgb(61,153,112)"
         },
         "mode": "lines",
         "type": "scatter",
         "x": [
          65,
          65,
          75,
          75
         ],
         "xaxis": "x",
         "y": [
          0,
          2.8776810444112817,
          2.8776810444112817,
          0
         ],
         "yaxis": "y"
        },
        {
         "hoverinfo": "text",
         "marker": {
          "color": "rgb(61,153,112)"
         },
         "mode": "lines",
         "type": "scatter",
         "x": [
          55,
          55,
          70,
          70
         ],
         "xaxis": "x",
         "y": [
          0,
          5.446129785964572,
          5.446129785964572,
          2.8776810444112817
         ],
         "yaxis": "y"
        },
        {
         "hoverinfo": "text",
         "marker": {
          "color": "rgb(61,153,112)"
         },
         "mode": "lines",
         "type": "scatter",
         "x": [
          45,
          45,
          62.5,
          62.5
         ],
         "xaxis": "x",
         "y": [
          0,
          9.490179559341893,
          9.490179559341893,
          5.446129785964572
         ],
         "yaxis": "y"
        },
        {
         "hoverinfo": "text",
         "marker": {
          "color": "rgb(61,153,112)"
         },
         "mode": "lines",
         "type": "scatter",
         "x": [
          13.75,
          13.75,
          53.75,
          53.75
         ],
         "xaxis": "x",
         "y": [
          6.596613352054572,
          22.808212550250104,
          22.808212550250104,
          9.490179559341893
         ],
         "yaxis": "y"
        },
        {
         "hoverinfo": "text",
         "marker": {
          "color": "rgb(61,153,112)"
         },
         "mode": "lines",
         "type": "scatter",
         "x": [
          105,
          105,
          115,
          115
         ],
         "xaxis": "x",
         "y": [
          0,
          4.6557697989289375,
          4.6557697989289375,
          0
         ],
         "yaxis": "y"
        },
        {
         "hoverinfo": "text",
         "marker": {
          "color": "rgb(61,153,112)"
         },
         "mode": "lines",
         "type": "scatter",
         "x": [
          95,
          95,
          110,
          110
         ],
         "xaxis": "x",
         "y": [
          0,
          5.8334755722058915,
          5.8334755722058915,
          4.6557697989289375
         ],
         "yaxis": "y"
        },
        {
         "hoverinfo": "text",
         "marker": {
          "color": "rgb(61,153,112)"
         },
         "mode": "lines",
         "type": "scatter",
         "x": [
          85,
          85,
          102.5,
          102.5
         ],
         "xaxis": "x",
         "y": [
          0,
          11.77245509364251,
          11.77245509364251,
          5.8334755722058915
         ],
         "yaxis": "y"
        },
        {
         "hoverinfo": "text",
         "marker": {
          "color": "rgb(61,153,112)"
         },
         "mode": "lines",
         "type": "scatter",
         "x": [
          135,
          135,
          145,
          145
         ],
         "xaxis": "x",
         "y": [
          0,
          4.736609513972928,
          4.736609513972928,
          0
         ],
         "yaxis": "y"
        },
        {
         "hoverinfo": "text",
         "marker": {
          "color": "rgb(61,153,112)"
         },
         "mode": "lines",
         "type": "scatter",
         "x": [
          125,
          125,
          140,
          140
         ],
         "xaxis": "x",
         "y": [
          0,
          12.346681024626863,
          12.346681024626863,
          4.736609513972928
         ],
         "yaxis": "y"
        },
        {
         "hoverinfo": "text",
         "marker": {
          "color": "rgb(61,153,112)"
         },
         "mode": "lines",
         "type": "scatter",
         "x": [
          93.75,
          93.75,
          132.5,
          132.5
         ],
         "xaxis": "x",
         "y": [
          11.77245509364251,
          25.824962584567174,
          25.824962584567174,
          12.346681024626863
         ],
         "yaxis": "y"
        },
        {
         "hoverinfo": "text",
         "marker": {
          "color": "rgb(61,153,112)"
         },
         "mode": "lines",
         "type": "scatter",
         "x": [
          33.75,
          33.75,
          113.125,
          113.125
         ],
         "xaxis": "x",
         "y": [
          22.808212550250104,
          55.5164076639732,
          55.5164076639732,
          25.824962584567174
         ],
         "yaxis": "y"
        },
        {
         "hoverinfo": "text",
         "marker": {
          "color": "rgb(61,153,112)"
         },
         "mode": "lines",
         "type": "scatter",
         "x": [
          155,
          155,
          165,
          165
         ],
         "xaxis": "x",
         "y": [
          0,
          5.8334755722058915,
          5.8334755722058915,
          0
         ],
         "yaxis": "y"
        },
        {
         "hoverinfo": "text",
         "marker": {
          "color": "rgb(61,153,112)"
         },
         "mode": "lines",
         "type": "scatter",
         "x": [
          195,
          195,
          205,
          205
         ],
         "xaxis": "x",
         "y": [
          0,
          2.6771140975768404,
          2.6771140975768404,
          0
         ],
         "yaxis": "y"
        },
        {
         "hoverinfo": "text",
         "marker": {
          "color": "rgb(61,153,112)"
         },
         "mode": "lines",
         "type": "scatter",
         "x": [
          185,
          185,
          200,
          200
         ],
         "xaxis": "x",
         "y": [
          0,
          5.0794352303102555,
          5.0794352303102555,
          2.6771140975768404
         ],
         "yaxis": "y"
        },
        {
         "hoverinfo": "text",
         "marker": {
          "color": "rgb(61,153,112)"
         },
         "mode": "lines",
         "type": "scatter",
         "x": [
          175,
          175,
          192.5,
          192.5
         ],
         "xaxis": "x",
         "y": [
          0,
          8.191465763751486,
          8.191465763751486,
          5.0794352303102555
         ],
         "yaxis": "y"
        },
        {
         "hoverinfo": "text",
         "marker": {
          "color": "rgb(61,153,112)"
         },
         "mode": "lines",
         "type": "scatter",
         "x": [
          160,
          160,
          183.75,
          183.75
         ],
         "xaxis": "x",
         "y": [
          5.8334755722058915,
          15.780021915717668,
          15.780021915717668,
          8.191465763751486
         ],
         "yaxis": "y"
        },
        {
         "hoverinfo": "text",
         "marker": {
          "color": "rgb(61,153,112)"
         },
         "mode": "lines",
         "type": "scatter",
         "x": [
          225,
          225,
          235,
          235
         ],
         "xaxis": "x",
         "y": [
          0,
          2.3981178050308123,
          2.3981178050308123,
          0
         ],
         "yaxis": "y"
        },
        {
         "hoverinfo": "text",
         "marker": {
          "color": "rgb(61,153,112)"
         },
         "mode": "lines",
         "type": "scatter",
         "x": [
          215,
          215,
          230,
          230
         ],
         "xaxis": "x",
         "y": [
          0,
          9.824575417976298,
          9.824575417976298,
          2.3981178050308123
         ],
         "yaxis": "y"
        },
        {
         "hoverinfo": "text",
         "marker": {
          "color": "rgb(61,153,112)"
         },
         "mode": "lines",
         "type": "scatter",
         "x": [
          255,
          255,
          265,
          265
         ],
         "xaxis": "x",
         "y": [
          0,
          3.76393202250021,
          3.76393202250021,
          0
         ],
         "yaxis": "y"
        },
        {
         "hoverinfo": "text",
         "marker": {
          "color": "rgb(61,153,112)"
         },
         "mode": "lines",
         "type": "scatter",
         "x": [
          275,
          275,
          285,
          285
         ],
         "xaxis": "x",
         "y": [
          0,
          5.1724064755938,
          5.1724064755938,
          0
         ],
         "yaxis": "y"
        },
        {
         "hoverinfo": "text",
         "marker": {
          "color": "rgb(61,153,112)"
         },
         "mode": "lines",
         "type": "scatter",
         "x": [
          260,
          260,
          280,
          280
         ],
         "xaxis": "x",
         "y": [
          3.76393202250021,
          5.803054771382332,
          5.803054771382332,
          5.1724064755938
         ],
         "yaxis": "y"
        },
        {
         "hoverinfo": "text",
         "marker": {
          "color": "rgb(61,153,112)"
         },
         "mode": "lines",
         "type": "scatter",
         "x": [
          245,
          245,
          270,
          270
         ],
         "xaxis": "x",
         "y": [
          0,
          11.611824789386187,
          11.611824789386187,
          5.803054771382332
         ],
         "yaxis": "y"
        },
        {
         "hoverinfo": "text",
         "marker": {
          "color": "rgb(61,153,112)"
         },
         "mode": "lines",
         "type": "scatter",
         "x": [
          222.5,
          222.5,
          257.5,
          257.5
         ],
         "xaxis": "x",
         "y": [
          9.824575417976298,
          21.33393014896874,
          21.33393014896874,
          11.611824789386187
         ],
         "yaxis": "y"
        },
        {
         "hoverinfo": "text",
         "marker": {
          "color": "rgb(61,153,112)"
         },
         "mode": "lines",
         "type": "scatter",
         "x": [
          171.875,
          171.875,
          240,
          240
         ],
         "xaxis": "x",
         "y": [
          15.780021915717668,
          42.45059090375515,
          42.45059090375515,
          21.33393014896874
         ],
         "yaxis": "y"
        },
        {
         "hoverinfo": "text",
         "marker": {
          "color": "rgb(61,153,112)"
         },
         "mode": "lines",
         "type": "scatter",
         "x": [
          305,
          305,
          315,
          315
         ],
         "xaxis": "x",
         "y": [
          0,
          2.4153652956609433,
          2.4153652956609433,
          0
         ],
         "yaxis": "y"
        },
        {
         "hoverinfo": "text",
         "marker": {
          "color": "rgb(61,153,112)"
         },
         "mode": "lines",
         "type": "scatter",
         "x": [
          295,
          295,
          310,
          310
         ],
         "xaxis": "x",
         "y": [
          0,
          5.940680684220854,
          5.940680684220854,
          2.4153652956609433
         ],
         "yaxis": "y"
        },
        {
         "hoverinfo": "text",
         "marker": {
          "color": "rgb(61,153,112)"
         },
         "mode": "lines",
         "type": "scatter",
         "x": [
          335,
          335,
          345,
          345
         ],
         "xaxis": "x",
         "y": [
          0,
          3.446082486447894,
          3.446082486447894,
          0
         ],
         "yaxis": "y"
        },
        {
         "hoverinfo": "text",
         "marker": {
          "color": "rgb(61,153,112)"
         },
         "mode": "lines",
         "type": "scatter",
         "x": [
          325,
          325,
          340,
          340
         ],
         "xaxis": "x",
         "y": [
          0,
          7.227063537723986,
          7.227063537723986,
          3.446082486447894
         ],
         "yaxis": "y"
        },
        {
         "hoverinfo": "text",
         "marker": {
          "color": "rgb(61,153,112)"
         },
         "mode": "lines",
         "type": "scatter",
         "x": [
          302.5,
          302.5,
          332.5,
          332.5
         ],
         "xaxis": "x",
         "y": [
          5.940680684220854,
          18.52445923087333,
          18.52445923087333,
          7.227063537723986
         ],
         "yaxis": "y"
        },
        {
         "hoverinfo": "text",
         "marker": {
          "color": "rgb(61,153,112)"
         },
         "mode": "lines",
         "type": "scatter",
         "x": [
          355,
          355,
          365,
          365
         ],
         "xaxis": "x",
         "y": [
          0,
          7.214965564020444,
          7.214965564020444,
          0
         ],
         "yaxis": "y"
        },
        {
         "hoverinfo": "text",
         "marker": {
          "color": "rgb(61,153,112)"
         },
         "mode": "lines",
         "type": "scatter",
         "x": [
          375,
          375,
          385,
          385
         ],
         "xaxis": "x",
         "y": [
          0,
          2.280071518082201,
          2.280071518082201,
          0
         ],
         "yaxis": "y"
        },
        {
         "hoverinfo": "text",
         "marker": {
          "color": "rgb(61,153,112)"
         },
         "mode": "lines",
         "type": "scatter",
         "x": [
          405,
          405,
          415,
          415
         ],
         "xaxis": "x",
         "y": [
          0,
          5.058022551847833,
          5.058022551847833,
          0
         ],
         "yaxis": "y"
        },
        {
         "hoverinfo": "text",
         "marker": {
          "color": "rgb(61,153,112)"
         },
         "mode": "lines",
         "type": "scatter",
         "x": [
          395,
          395,
          410,
          410
         ],
         "xaxis": "x",
         "y": [
          0,
          6.471126988663018,
          6.471126988663018,
          5.058022551847833
         ],
         "yaxis": "y"
        },
        {
         "hoverinfo": "text",
         "marker": {
          "color": "rgb(61,153,112)"
         },
         "mode": "lines",
         "type": "scatter",
         "x": [
          380,
          380,
          402.5,
          402.5
         ],
         "xaxis": "x",
         "y": [
          2.280071518082201,
          10.44099078780018,
          10.44099078780018,
          6.471126988663018
         ],
         "yaxis": "y"
        },
        {
         "hoverinfo": "text",
         "marker": {
          "color": "rgb(61,153,112)"
         },
         "mode": "lines",
         "type": "scatter",
         "x": [
          360,
          360,
          391.25,
          391.25
         ],
         "xaxis": "x",
         "y": [
          7.214965564020444,
          22.035961339024926,
          22.035961339024926,
          10.44099078780018
         ],
         "yaxis": "y"
        },
        {
         "hoverinfo": "text",
         "marker": {
          "color": "rgb(61,153,112)"
         },
         "mode": "lines",
         "type": "scatter",
         "x": [
          317.5,
          317.5,
          375.625,
          375.625
         ],
         "xaxis": "x",
         "y": [
          18.52445923087333,
          48.08356722677221,
          48.08356722677221,
          22.035961339024926
         ],
         "yaxis": "y"
        },
        {
         "hoverinfo": "text",
         "marker": {
          "color": "rgb(61,153,112)"
         },
         "mode": "lines",
         "type": "scatter",
         "x": [
          205.9375,
          205.9375,
          346.5625,
          346.5625
         ],
         "xaxis": "x",
         "y": [
          42.45059090375515,
          100.50643838022161,
          100.50643838022161,
          48.08356722677221
         ],
         "yaxis": "y"
        },
        {
         "hoverinfo": "text",
         "marker": {
          "color": "rgb(61,153,112)"
         },
         "mode": "lines",
         "type": "scatter",
         "x": [
          73.4375,
          73.4375,
          276.25,
          276.25
         ],
         "xaxis": "x",
         "y": [
          55.5164076639732,
          161.22533205161832,
          161.22533205161832,
          100.50643838022161
         ],
         "yaxis": "y"
        },
        {
         "hoverinfo": "text",
         "marker": {
          "color": "rgb(255,65,54)"
         },
         "mode": "lines",
         "type": "scatter",
         "x": [
          425,
          425,
          435,
          435
         ],
         "xaxis": "x",
         "y": [
          0,
          17.650671473083502,
          17.650671473083502,
          0
         ],
         "yaxis": "y"
        },
        {
         "hoverinfo": "text",
         "marker": {
          "color": "rgb(255,65,54)"
         },
         "mode": "lines",
         "type": "scatter",
         "x": [
          455,
          455,
          465,
          465
         ],
         "xaxis": "x",
         "y": [
          0,
          8.211078158487101,
          8.211078158487101,
          0
         ],
         "yaxis": "y"
        },
        {
         "hoverinfo": "text",
         "marker": {
          "color": "rgb(255,65,54)"
         },
         "mode": "lines",
         "type": "scatter",
         "x": [
          445,
          445,
          460,
          460
         ],
         "xaxis": "x",
         "y": [
          0,
          14.387199115753916,
          14.387199115753916,
          8.211078158487101
         ],
         "yaxis": "y"
        },
        {
         "hoverinfo": "text",
         "marker": {
          "color": "rgb(255,65,54)"
         },
         "mode": "lines",
         "type": "scatter",
         "x": [
          485,
          485,
          495,
          495
         ],
         "xaxis": "x",
         "y": [
          0,
          6.494266014950424,
          6.494266014950424,
          0
         ],
         "yaxis": "y"
        },
        {
         "hoverinfo": "text",
         "marker": {
          "color": "rgb(255,65,54)"
         },
         "mode": "lines",
         "type": "scatter",
         "x": [
          475,
          475,
          490,
          490
         ],
         "xaxis": "x",
         "y": [
          0,
          10.547623998605204,
          10.547623998605204,
          6.494266014950424
         ],
         "yaxis": "y"
        },
        {
         "hoverinfo": "text",
         "marker": {
          "color": "rgb(255,65,54)"
         },
         "mode": "lines",
         "type": "scatter",
         "x": [
          505,
          505,
          515,
          515
         ],
         "xaxis": "x",
         "y": [
          0,
          12.9553563794816,
          12.9553563794816,
          0
         ],
         "yaxis": "y"
        },
        {
         "hoverinfo": "text",
         "marker": {
          "color": "rgb(255,65,54)"
         },
         "mode": "lines",
         "type": "scatter",
         "x": [
          482.5,
          482.5,
          510,
          510
         ],
         "xaxis": "x",
         "y": [
          10.547623998605204,
          23.39724308298122,
          23.39724308298122,
          12.9553563794816
         ],
         "yaxis": "y"
        },
        {
         "hoverinfo": "text",
         "marker": {
          "color": "rgb(255,65,54)"
         },
         "mode": "lines",
         "type": "scatter",
         "x": [
          452.5,
          452.5,
          496.25,
          496.25
         ],
         "xaxis": "x",
         "y": [
          14.387199115753916,
          30.18659468693009,
          30.18659468693009,
          23.39724308298122
         ],
         "yaxis": "y"
        },
        {
         "hoverinfo": "text",
         "marker": {
          "color": "rgb(255,65,54)"
         },
         "mode": "lines",
         "type": "scatter",
         "x": [
          430,
          430,
          474.375,
          474.375
         ],
         "xaxis": "x",
         "y": [
          17.650671473083502,
          50.14233037628159,
          50.14233037628159,
          30.18659468693009
         ],
         "yaxis": "y"
        },
        {
         "hoverinfo": "text",
         "marker": {
          "color": "rgb(255,65,54)"
         },
         "mode": "lines",
         "type": "scatter",
         "x": [
          535,
          535,
          545,
          545
         ],
         "xaxis": "x",
         "y": [
          0,
          13.457244125943246,
          13.457244125943246,
          0
         ],
         "yaxis": "y"
        },
        {
         "hoverinfo": "text",
         "marker": {
          "color": "rgb(255,65,54)"
         },
         "mode": "lines",
         "type": "scatter",
         "x": [
          525,
          525,
          540,
          540
         ],
         "xaxis": "x",
         "y": [
          0,
          27.42445153047527,
          27.42445153047527,
          13.457244125943246
         ],
         "yaxis": "y"
        },
        {
         "hoverinfo": "text",
         "marker": {
          "color": "rgb(255,65,54)"
         },
         "mode": "lines",
         "type": "scatter",
         "x": [
          555,
          555,
          565,
          565
         ],
         "xaxis": "x",
         "y": [
          0,
          10.075056173235994,
          10.075056173235994,
          0
         ],
         "yaxis": "y"
        },
        {
         "hoverinfo": "text",
         "marker": {
          "color": "rgb(255,65,54)"
         },
         "mode": "lines",
         "type": "scatter",
         "x": [
          575,
          575,
          585,
          585
         ],
         "xaxis": "x",
         "y": [
          0,
          13.439113235583706,
          13.439113235583706,
          0
         ],
         "yaxis": "y"
        },
        {
         "hoverinfo": "text",
         "marker": {
          "color": "rgb(255,65,54)"
         },
         "mode": "lines",
         "type": "scatter",
         "x": [
          560,
          560,
          580,
          580
         ],
         "xaxis": "x",
         "y": [
          10.075056173235994,
          38.487852833354616,
          38.487852833354616,
          13.439113235583706
         ],
         "yaxis": "y"
        },
        {
         "hoverinfo": "text",
         "marker": {
          "color": "rgb(255,65,54)"
         },
         "mode": "lines",
         "type": "scatter",
         "x": [
          532.5,
          532.5,
          570,
          570
         ],
         "xaxis": "x",
         "y": [
          27.42445153047527,
          64.62790249715904,
          64.62790249715904,
          38.487852833354616
         ],
         "yaxis": "y"
        },
        {
         "hoverinfo": "text",
         "marker": {
          "color": "rgb(255,65,54)"
         },
         "mode": "lines",
         "type": "scatter",
         "x": [
          452.1875,
          452.1875,
          551.25,
          551.25
         ],
         "xaxis": "x",
         "y": [
          50.14233037628159,
          94.27091926342229,
          94.27091926342229,
          64.62790249715904
         ],
         "yaxis": "y"
        },
        {
         "hoverinfo": "text",
         "marker": {
          "color": "rgb(255,65,54)"
         },
         "mode": "lines",
         "type": "scatter",
         "x": [
          605,
          605,
          615,
          615
         ],
         "xaxis": "x",
         "y": [
          0,
          14.200161246102676,
          14.200161246102676,
          0
         ],
         "yaxis": "y"
        },
        {
         "hoverinfo": "text",
         "marker": {
          "color": "rgb(255,65,54)"
         },
         "mode": "lines",
         "type": "scatter",
         "x": [
          595,
          595,
          610,
          610
         ],
         "xaxis": "x",
         "y": [
          0,
          43.90100244083503,
          43.90100244083503,
          14.200161246102676
         ],
         "yaxis": "y"
        },
        {
         "hoverinfo": "text",
         "marker": {
          "color": "rgb(255,65,54)"
         },
         "mode": "lines",
         "type": "scatter",
         "x": [
          645,
          645,
          655,
          655
         ],
         "xaxis": "x",
         "y": [
          0,
          7.507753958925258,
          7.507753958925258,
          0
         ],
         "yaxis": "y"
        },
        {
         "hoverinfo": "text",
         "marker": {
          "color": "rgb(255,65,54)"
         },
         "mode": "lines",
         "type": "scatter",
         "x": [
          635,
          635,
          650,
          650
         ],
         "xaxis": "x",
         "y": [
          0,
          13.267708250379572,
          13.267708250379572,
          7.507753958925258
         ],
         "yaxis": "y"
        },
        {
         "hoverinfo": "text",
         "marker": {
          "color": "rgb(255,65,54)"
         },
         "mode": "lines",
         "type": "scatter",
         "x": [
          625,
          625,
          642.5,
          642.5
         ],
         "xaxis": "x",
         "y": [
          0,
          20.49197727905235,
          20.49197727905235,
          13.267708250379572
         ],
         "yaxis": "y"
        },
        {
         "hoverinfo": "text",
         "marker": {
          "color": "rgb(255,65,54)"
         },
         "mode": "lines",
         "type": "scatter",
         "x": [
          675,
          675,
          685,
          685
         ],
         "xaxis": "x",
         "y": [
          0,
          11.597872544246643,
          11.597872544246643,
          0
         ],
         "yaxis": "y"
        },
        {
         "hoverinfo": "text",
         "marker": {
          "color": "rgb(255,65,54)"
         },
         "mode": "lines",
         "type": "scatter",
         "x": [
          705,
          705,
          715,
          715
         ],
         "xaxis": "x",
         "y": [
          0,
          7.808211438063549,
          7.808211438063549,
          0
         ],
         "yaxis": "y"
        },
        {
         "hoverinfo": "text",
         "marker": {
          "color": "rgb(255,65,54)"
         },
         "mode": "lines",
         "type": "scatter",
         "x": [
          695,
          695,
          710,
          710
         ],
         "xaxis": "x",
         "y": [
          0,
          19.282962973959066,
          19.282962973959066,
          7.808211438063549
         ],
         "yaxis": "y"
        },
        {
         "hoverinfo": "text",
         "marker": {
          "color": "rgb(255,65,54)"
         },
         "mode": "lines",
         "type": "scatter",
         "x": [
          680,
          680,
          702.5,
          702.5
         ],
         "xaxis": "x",
         "y": [
          11.597872544246643,
          28.528265015475668,
          28.528265015475668,
          19.282962973959066
         ],
         "yaxis": "y"
        },
        {
         "hoverinfo": "text",
         "marker": {
          "color": "rgb(255,65,54)"
         },
         "mode": "lines",
         "type": "scatter",
         "x": [
          665,
          665,
          691.25,
          691.25
         ],
         "xaxis": "x",
         "y": [
          0,
          37.09506043437392,
          37.09506043437392,
          28.528265015475668
         ],
         "yaxis": "y"
        },
        {
         "hoverinfo": "text",
         "marker": {
          "color": "rgb(255,65,54)"
         },
         "mode": "lines",
         "type": "scatter",
         "x": [
          633.75,
          633.75,
          678.125,
          678.125
         ],
         "xaxis": "x",
         "y": [
          20.49197727905235,
          65.01795212794848,
          65.01795212794848,
          37.09506043437392
         ],
         "yaxis": "y"
        },
        {
         "hoverinfo": "text",
         "marker": {
          "color": "rgb(255,65,54)"
         },
         "mode": "lines",
         "type": "scatter",
         "x": [
          602.5,
          602.5,
          655.9375,
          655.9375
         ],
         "xaxis": "x",
         "y": [
          43.90100244083503,
          95.81839233779901,
          95.81839233779901,
          65.01795212794848
         ],
         "yaxis": "y"
        },
        {
         "hoverinfo": "text",
         "marker": {
          "color": "rgb(255,65,54)"
         },
         "mode": "lines",
         "type": "scatter",
         "x": [
          501.71875,
          501.71875,
          629.21875,
          629.21875
         ],
         "xaxis": "x",
         "y": [
          94.27091926342229,
          136.4328128507406,
          136.4328128507406,
          95.81839233779901
         ],
         "yaxis": "y"
        },
        {
         "hoverinfo": "text",
         "marker": {
          "color": "rgb(35,205,205)"
         },
         "mode": "lines",
         "type": "scatter",
         "x": [
          735,
          735,
          745,
          745
         ],
         "xaxis": "x",
         "y": [
          0,
          5.229743174922385,
          5.229743174922385,
          0
         ],
         "yaxis": "y"
        },
        {
         "hoverinfo": "text",
         "marker": {
          "color": "rgb(35,205,205)"
         },
         "mode": "lines",
         "type": "scatter",
         "x": [
          725,
          725,
          740,
          740
         ],
         "xaxis": "x",
         "y": [
          0,
          8.052008979757058,
          8.052008979757058,
          5.229743174922385
         ],
         "yaxis": "y"
        },
        {
         "hoverinfo": "text",
         "marker": {
          "color": "rgb(35,205,205)"
         },
         "mode": "lines",
         "type": "scatter",
         "x": [
          765,
          765,
          775,
          775
         ],
         "xaxis": "x",
         "y": [
          0,
          3.0893617265196207,
          3.0893617265196207,
          0
         ],
         "yaxis": "y"
        },
        {
         "hoverinfo": "text",
         "marker": {
          "color": "rgb(35,205,205)"
         },
         "mode": "lines",
         "type": "scatter",
         "x": [
          755,
          755,
          770,
          770
         ],
         "xaxis": "x",
         "y": [
          0,
          4.599068321817247,
          4.599068321817247,
          3.0893617265196207
         ],
         "yaxis": "y"
        },
        {
         "hoverinfo": "text",
         "marker": {
          "color": "rgb(35,205,205)"
         },
         "mode": "lines",
         "type": "scatter",
         "x": [
          785,
          785,
          795,
          795
         ],
         "xaxis": "x",
         "y": [
          0,
          6.340824927456996,
          6.340824927456996,
          0
         ],
         "yaxis": "y"
        },
        {
         "hoverinfo": "text",
         "marker": {
          "color": "rgb(35,205,205)"
         },
         "mode": "lines",
         "type": "scatter",
         "x": [
          762.5,
          762.5,
          790,
          790
         ],
         "xaxis": "x",
         "y": [
          4.599068321817247,
          12.653677560675902,
          12.653677560675902,
          6.340824927456996
         ],
         "yaxis": "y"
        },
        {
         "hoverinfo": "text",
         "marker": {
          "color": "rgb(35,205,205)"
         },
         "mode": "lines",
         "type": "scatter",
         "x": [
          732.5,
          732.5,
          776.25,
          776.25
         ],
         "xaxis": "x",
         "y": [
          8.052008979757058,
          19.52572318973377,
          19.52572318973377,
          12.653677560675902
         ],
         "yaxis": "y"
        },
        {
         "hoverinfo": "text",
         "marker": {
          "color": "rgb(35,205,205)"
         },
         "mode": "lines",
         "type": "scatter",
         "x": [
          805,
          805,
          815,
          815
         ],
         "xaxis": "x",
         "y": [
          0,
          3.850076033503781,
          3.850076033503781,
          0
         ],
         "yaxis": "y"
        },
        {
         "hoverinfo": "text",
         "marker": {
          "color": "rgb(35,205,205)"
         },
         "mode": "lines",
         "type": "scatter",
         "x": [
          825,
          825,
          835,
          835
         ],
         "xaxis": "x",
         "y": [
          0,
          8.672307138788534,
          8.672307138788534,
          0
         ],
         "yaxis": "y"
        },
        {
         "hoverinfo": "text",
         "marker": {
          "color": "rgb(35,205,205)"
         },
         "mode": "lines",
         "type": "scatter",
         "x": [
          810,
          810,
          830,
          830
         ],
         "xaxis": "x",
         "y": [
          3.850076033503781,
          11.823032552559521,
          11.823032552559521,
          8.672307138788534
         ],
         "yaxis": "y"
        },
        {
         "hoverinfo": "text",
         "marker": {
          "color": "rgb(35,205,205)"
         },
         "mode": "lines",
         "type": "scatter",
         "x": [
          845,
          845,
          855,
          855
         ],
         "xaxis": "x",
         "y": [
          0,
          7.676144239081846,
          7.676144239081846,
          0
         ],
         "yaxis": "y"
        },
        {
         "hoverinfo": "text",
         "marker": {
          "color": "rgb(35,205,205)"
         },
         "mode": "lines",
         "type": "scatter",
         "x": [
          875,
          875,
          885,
          885
         ],
         "xaxis": "x",
         "y": [
          0,
          5.969189703576505,
          5.969189703576505,
          0
         ],
         "yaxis": "y"
        },
        {
         "hoverinfo": "text",
         "marker": {
          "color": "rgb(35,205,205)"
         },
         "mode": "lines",
         "type": "scatter",
         "x": [
          865,
          865,
          880,
          880
         ],
         "xaxis": "x",
         "y": [
          0,
          13.006428574747279,
          13.006428574747279,
          5.969189703576505
         ],
         "yaxis": "y"
        },
        {
         "hoverinfo": "text",
         "marker": {
          "color": "rgb(35,205,205)"
         },
         "mode": "lines",
         "type": "scatter",
         "x": [
          850,
          850,
          872.5,
          872.5
         ],
         "xaxis": "x",
         "y": [
          7.676144239081846,
          15.471230844655587,
          15.471230844655587,
          13.006428574747279
         ],
         "yaxis": "y"
        },
        {
         "hoverinfo": "text",
         "marker": {
          "color": "rgb(35,205,205)"
         },
         "mode": "lines",
         "type": "scatter",
         "x": [
          820,
          820,
          861.25,
          861.25
         ],
         "xaxis": "x",
         "y": [
          11.823032552559521,
          27.449971266148264,
          27.449971266148264,
          15.471230844655587
         ],
         "yaxis": "y"
        },
        {
         "hoverinfo": "text",
         "marker": {
          "color": "rgb(35,205,205)"
         },
         "mode": "lines",
         "type": "scatter",
         "x": [
          754.375,
          754.375,
          840.625,
          840.625
         ],
         "xaxis": "x",
         "y": [
          19.52572318973377,
          52.90211090527346,
          52.90211090527346,
          27.449971266148264
         ],
         "yaxis": "y"
        },
        {
         "hoverinfo": "text",
         "marker": {
          "color": "rgb(35,205,205)"
         },
         "mode": "lines",
         "type": "scatter",
         "x": [
          905,
          905,
          915,
          915
         ],
         "xaxis": "x",
         "y": [
          0,
          5.387005165601967,
          5.387005165601967,
          0
         ],
         "yaxis": "y"
        },
        {
         "hoverinfo": "text",
         "marker": {
          "color": "rgb(35,205,205)"
         },
         "mode": "lines",
         "type": "scatter",
         "x": [
          895,
          895,
          910,
          910
         ],
         "xaxis": "x",
         "y": [
          0,
          18.170032370605426,
          18.170032370605426,
          5.387005165601967
         ],
         "yaxis": "y"
        },
        {
         "hoverinfo": "text",
         "marker": {
          "color": "rgb(35,205,205)"
         },
         "mode": "lines",
         "type": "scatter",
         "x": [
          945,
          945,
          955,
          955
         ],
         "xaxis": "x",
         "y": [
          0,
          4.573626603008292,
          4.573626603008292,
          0
         ],
         "yaxis": "y"
        },
        {
         "hoverinfo": "text",
         "marker": {
          "color": "rgb(35,205,205)"
         },
         "mode": "lines",
         "type": "scatter",
         "x": [
          935,
          935,
          950,
          950
         ],
         "xaxis": "x",
         "y": [
          0,
          6.2457258713883625,
          6.2457258713883625,
          4.573626603008292
         ],
         "yaxis": "y"
        },
        {
         "hoverinfo": "text",
         "marker": {
          "color": "rgb(35,205,205)"
         },
         "mode": "lines",
         "type": "scatter",
         "x": [
          925,
          925,
          942.5,
          942.5
         ],
         "xaxis": "x",
         "y": [
          0,
          10.576792271634291,
          10.576792271634291,
          6.2457258713883625
         ],
         "yaxis": "y"
        },
        {
         "hoverinfo": "text",
         "marker": {
          "color": "rgb(35,205,205)"
         },
         "mode": "lines",
         "type": "scatter",
         "x": [
          965,
          965,
          975,
          975
         ],
         "xaxis": "x",
         "y": [
          0,
          5.190137810098315,
          5.190137810098315,
          0
         ],
         "yaxis": "y"
        },
        {
         "hoverinfo": "text",
         "marker": {
          "color": "rgb(35,205,205)"
         },
         "mode": "lines",
         "type": "scatter",
         "x": [
          995,
          995,
          1005,
          1005
         ],
         "xaxis": "x",
         "y": [
          0,
          3.2266097632954103,
          3.2266097632954103,
          0
         ],
         "yaxis": "y"
        },
        {
         "hoverinfo": "text",
         "marker": {
          "color": "rgb(35,205,205)"
         },
         "mode": "lines",
         "type": "scatter",
         "x": [
          985,
          985,
          1000,
          1000
         ],
         "xaxis": "x",
         "y": [
          0,
          7.08969781055885,
          7.08969781055885,
          3.2266097632954103
         ],
         "yaxis": "y"
        },
        {
         "hoverinfo": "text",
         "marker": {
          "color": "rgb(35,205,205)"
         },
         "mode": "lines",
         "type": "scatter",
         "x": [
          970,
          970,
          992.5,
          992.5
         ],
         "xaxis": "x",
         "y": [
          5.190137810098315,
          14.718210814319312,
          14.718210814319312,
          7.08969781055885
         ],
         "yaxis": "y"
        },
        {
         "hoverinfo": "text",
         "marker": {
          "color": "rgb(35,205,205)"
         },
         "mode": "lines",
         "type": "scatter",
         "x": [
          933.75,
          933.75,
          981.25,
          981.25
         ],
         "xaxis": "x",
         "y": [
          10.576792271634291,
          31.496124881586574,
          31.496124881586574,
          14.718210814319312
         ],
         "yaxis": "y"
        },
        {
         "hoverinfo": "text",
         "marker": {
          "color": "rgb(35,205,205)"
         },
         "mode": "lines",
         "type": "scatter",
         "x": [
          902.5,
          902.5,
          957.5,
          957.5
         ],
         "xaxis": "x",
         "y": [
          18.170032370605426,
          55.48659944458928,
          55.48659944458928,
          31.496124881586574
         ],
         "yaxis": "y"
        },
        {
         "hoverinfo": "text",
         "marker": {
          "color": "rgb(35,205,205)"
         },
         "mode": "lines",
         "type": "scatter",
         "x": [
          797.5,
          797.5,
          930,
          930
         ],
         "xaxis": "x",
         "y": [
          52.90211090527346,
          114.60680820152608,
          114.60680820152608,
          55.48659944458928
         ],
         "yaxis": "y"
        },
        {
         "hoverinfo": "text",
         "marker": {
          "color": "rgb(35,205,205)"
         },
         "mode": "lines",
         "type": "scatter",
         "x": [
          1025,
          1025,
          1035,
          1035
         ],
         "xaxis": "x",
         "y": [
          0,
          14.22004738312306,
          14.22004738312306,
          0
         ],
         "yaxis": "y"
        },
        {
         "hoverinfo": "text",
         "marker": {
          "color": "rgb(35,205,205)"
         },
         "mode": "lines",
         "type": "scatter",
         "x": [
          1055,
          1055,
          1065,
          1065
         ],
         "xaxis": "x",
         "y": [
          0,
          14.475334608951663,
          14.475334608951663,
          0
         ],
         "yaxis": "y"
        },
        {
         "hoverinfo": "text",
         "marker": {
          "color": "rgb(35,205,205)"
         },
         "mode": "lines",
         "type": "scatter",
         "x": [
          1045,
          1045,
          1060,
          1060
         ],
         "xaxis": "x",
         "y": [
          0,
          27.356499440508422,
          27.356499440508422,
          14.475334608951663
         ],
         "yaxis": "y"
        },
        {
         "hoverinfo": "text",
         "marker": {
          "color": "rgb(35,205,205)"
         },
         "mode": "lines",
         "type": "scatter",
         "x": [
          1030,
          1030,
          1052.5,
          1052.5
         ],
         "xaxis": "x",
         "y": [
          14.22004738312306,
          38.327570848327575,
          38.327570848327575,
          27.356499440508422
         ],
         "yaxis": "y"
        },
        {
         "hoverinfo": "text",
         "marker": {
          "color": "rgb(35,205,205)"
         },
         "mode": "lines",
         "type": "scatter",
         "x": [
          1015,
          1015,
          1041.25,
          1041.25
         ],
         "xaxis": "x",
         "y": [
          0,
          73.1778760177366,
          73.1778760177366,
          38.327570848327575
         ],
         "yaxis": "y"
        },
        {
         "hoverinfo": "text",
         "marker": {
          "color": "rgb(35,205,205)"
         },
         "mode": "lines",
         "type": "scatter",
         "x": [
          1085,
          1085,
          1095,
          1095
         ],
         "xaxis": "x",
         "y": [
          0,
          5.105811479229149,
          5.105811479229149,
          0
         ],
         "yaxis": "y"
        },
        {
         "hoverinfo": "text",
         "marker": {
          "color": "rgb(35,205,205)"
         },
         "mode": "lines",
         "type": "scatter",
         "x": [
          1075,
          1075,
          1090,
          1090
         ],
         "xaxis": "x",
         "y": [
          0,
          10.18596816595126,
          10.18596816595126,
          5.105811479229149
         ],
         "yaxis": "y"
        },
        {
         "hoverinfo": "text",
         "marker": {
          "color": "rgb(35,205,205)"
         },
         "mode": "lines",
         "type": "scatter",
         "x": [
          1105,
          1105,
          1115,
          1115
         ],
         "xaxis": "x",
         "y": [
          0,
          5.0002057649238685,
          5.0002057649238685,
          0
         ],
         "yaxis": "y"
        },
        {
         "hoverinfo": "text",
         "marker": {
          "color": "rgb(35,205,205)"
         },
         "mode": "lines",
         "type": "scatter",
         "x": [
          1125,
          1125,
          1135,
          1135
         ],
         "xaxis": "x",
         "y": [
          0,
          9.763879010584539,
          9.763879010584539,
          0
         ],
         "yaxis": "y"
        },
        {
         "hoverinfo": "text",
         "marker": {
          "color": "rgb(35,205,205)"
         },
         "mode": "lines",
         "type": "scatter",
         "x": [
          1110,
          1110,
          1130,
          1130
         ],
         "xaxis": "x",
         "y": [
          5.0002057649238685,
          12.624816886248798,
          12.624816886248798,
          9.763879010584539
         ],
         "yaxis": "y"
        },
        {
         "hoverinfo": "text",
         "marker": {
          "color": "rgb(35,205,205)"
         },
         "mode": "lines",
         "type": "scatter",
         "x": [
          1082.5,
          1082.5,
          1120,
          1120
         ],
         "xaxis": "x",
         "y": [
          10.18596816595126,
          23.564097925699393,
          23.564097925699393,
          12.624816886248798
         ],
         "yaxis": "y"
        },
        {
         "hoverinfo": "text",
         "marker": {
          "color": "rgb(35,205,205)"
         },
         "mode": "lines",
         "type": "scatter",
         "x": [
          1165,
          1165,
          1175,
          1175
         ],
         "xaxis": "x",
         "y": [
          0,
          6.487249164301582,
          6.487249164301582,
          0
         ],
         "yaxis": "y"
        },
        {
         "hoverinfo": "text",
         "marker": {
          "color": "rgb(35,205,205)"
         },
         "mode": "lines",
         "type": "scatter",
         "x": [
          1155,
          1155,
          1170,
          1170
         ],
         "xaxis": "x",
         "y": [
          0,
          13.102908488118869,
          13.102908488118869,
          6.487249164301582
         ],
         "yaxis": "y"
        },
        {
         "hoverinfo": "text",
         "marker": {
          "color": "rgb(35,205,205)"
         },
         "mode": "lines",
         "type": "scatter",
         "x": [
          1145,
          1145,
          1162.5,
          1162.5
         ],
         "xaxis": "x",
         "y": [
          0,
          27.6956725789086,
          27.6956725789086,
          13.102908488118869
         ],
         "yaxis": "y"
        },
        {
         "hoverinfo": "text",
         "marker": {
          "color": "rgb(35,205,205)"
         },
         "mode": "lines",
         "type": "scatter",
         "x": [
          1101.25,
          1101.25,
          1153.75,
          1153.75
         ],
         "xaxis": "x",
         "y": [
          23.564097925699393,
          44.86103790793568,
          44.86103790793568,
          27.6956725789086
         ],
         "yaxis": "y"
        },
        {
         "hoverinfo": "text",
         "marker": {
          "color": "rgb(35,205,205)"
         },
         "mode": "lines",
         "type": "scatter",
         "x": [
          1185,
          1185,
          1195,
          1195
         ],
         "xaxis": "x",
         "y": [
          0,
          17.502126396209942,
          17.502126396209942,
          0
         ],
         "yaxis": "y"
        },
        {
         "hoverinfo": "text",
         "marker": {
          "color": "rgb(35,205,205)"
         },
         "mode": "lines",
         "type": "scatter",
         "x": [
          1215,
          1215,
          1225,
          1225
         ],
         "xaxis": "x",
         "y": [
          0,
          11.582430789036202,
          11.582430789036202,
          0
         ],
         "yaxis": "y"
        },
        {
         "hoverinfo": "text",
         "marker": {
          "color": "rgb(35,205,205)"
         },
         "mode": "lines",
         "type": "scatter",
         "x": [
          1205,
          1205,
          1220,
          1220
         ],
         "xaxis": "x",
         "y": [
          0,
          14.899952038377727,
          14.899952038377727,
          11.582430789036202
         ],
         "yaxis": "y"
        },
        {
         "hoverinfo": "text",
         "marker": {
          "color": "rgb(35,205,205)"
         },
         "mode": "lines",
         "type": "scatter",
         "x": [
          1235,
          1235,
          1245,
          1245
         ],
         "xaxis": "x",
         "y": [
          0,
          7.085938248612705,
          7.085938248612705,
          0
         ],
         "yaxis": "y"
        },
        {
         "hoverinfo": "text",
         "marker": {
          "color": "rgb(35,205,205)"
         },
         "mode": "lines",
         "type": "scatter",
         "x": [
          1255,
          1255,
          1265,
          1265
         ],
         "xaxis": "x",
         "y": [
          0,
          13.786785741219099,
          13.786785741219099,
          0
         ],
         "yaxis": "y"
        },
        {
         "hoverinfo": "text",
         "marker": {
          "color": "rgb(35,205,205)"
         },
         "mode": "lines",
         "type": "scatter",
         "x": [
          1240,
          1240,
          1260,
          1260
         ],
         "xaxis": "x",
         "y": [
          7.085938248612705,
          25.8606289912691,
          25.8606289912691,
          13.786785741219099
         ],
         "yaxis": "y"
        },
        {
         "hoverinfo": "text",
         "marker": {
          "color": "rgb(35,205,205)"
         },
         "mode": "lines",
         "type": "scatter",
         "x": [
          1212.5,
          1212.5,
          1250,
          1250
         ],
         "xaxis": "x",
         "y": [
          14.899952038377727,
          40.32086931556505,
          40.32086931556505,
          25.8606289912691
         ],
         "yaxis": "y"
        },
        {
         "hoverinfo": "text",
         "marker": {
          "color": "rgb(35,205,205)"
         },
         "mode": "lines",
         "type": "scatter",
         "x": [
          1190,
          1190,
          1231.25,
          1231.25
         ],
         "xaxis": "x",
         "y": [
          17.502126396209942,
          48.86316418526127,
          48.86316418526127,
          40.32086931556505
         ],
         "yaxis": "y"
        },
        {
         "hoverinfo": "text",
         "marker": {
          "color": "rgb(35,205,205)"
         },
         "mode": "lines",
         "type": "scatter",
         "x": [
          1127.5,
          1127.5,
          1210.625,
          1210.625
         ],
         "xaxis": "x",
         "y": [
          44.86103790793568,
          81.64644582322265,
          81.64644582322265,
          48.86316418526127
         ],
         "yaxis": "y"
        },
        {
         "hoverinfo": "text",
         "marker": {
          "color": "rgb(35,205,205)"
         },
         "mode": "lines",
         "type": "scatter",
         "x": [
          1028.125,
          1028.125,
          1169.0625,
          1169.0625
         ],
         "xaxis": "x",
         "y": [
          73.1778760177366,
          118.04979558978339,
          118.04979558978339,
          81.64644582322265
         ],
         "yaxis": "y"
        },
        {
         "hoverinfo": "text",
         "marker": {
          "color": "rgb(35,205,205)"
         },
         "mode": "lines",
         "type": "scatter",
         "x": [
          1275,
          1275,
          1285,
          1285
         ],
         "xaxis": "x",
         "y": [
          0,
          14.412602210804256,
          14.412602210804256,
          0
         ],
         "yaxis": "y"
        },
        {
         "hoverinfo": "text",
         "marker": {
          "color": "rgb(35,205,205)"
         },
         "mode": "lines",
         "type": "scatter",
         "x": [
          1295,
          1295,
          1305,
          1305
         ],
         "xaxis": "x",
         "y": [
          0,
          12.828619484113942,
          12.828619484113942,
          0
         ],
         "yaxis": "y"
        },
        {
         "hoverinfo": "text",
         "marker": {
          "color": "rgb(35,205,205)"
         },
         "mode": "lines",
         "type": "scatter",
         "x": [
          1325,
          1325,
          1335,
          1335
         ],
         "xaxis": "x",
         "y": [
          0,
          14.068427111872268,
          14.068427111872268,
          0
         ],
         "yaxis": "y"
        },
        {
         "hoverinfo": "text",
         "marker": {
          "color": "rgb(35,205,205)"
         },
         "mode": "lines",
         "type": "scatter",
         "x": [
          1315,
          1315,
          1330,
          1330
         ],
         "xaxis": "x",
         "y": [
          0,
          23.437861108329262,
          23.437861108329262,
          14.068427111872268
         ],
         "yaxis": "y"
        },
        {
         "hoverinfo": "text",
         "marker": {
          "color": "rgb(35,205,205)"
         },
         "mode": "lines",
         "type": "scatter",
         "x": [
          1300,
          1300,
          1322.5,
          1322.5
         ],
         "xaxis": "x",
         "y": [
          12.828619484113942,
          36.21349120236059,
          36.21349120236059,
          23.437861108329262
         ],
         "yaxis": "y"
        },
        {
         "hoverinfo": "text",
         "marker": {
          "color": "rgb(35,205,205)"
         },
         "mode": "lines",
         "type": "scatter",
         "x": [
          1280,
          1280,
          1311.25,
          1311.25
         ],
         "xaxis": "x",
         "y": [
          14.412602210804256,
          60.76224683985066,
          60.76224683985066,
          36.21349120236059
         ],
         "yaxis": "y"
        },
        {
         "hoverinfo": "text",
         "marker": {
          "color": "rgb(35,205,205)"
         },
         "mode": "lines",
         "type": "scatter",
         "x": [
          1355,
          1355,
          1365,
          1365
         ],
         "xaxis": "x",
         "y": [
          0,
          6.483507175123259,
          6.483507175123259,
          0
         ],
         "yaxis": "y"
        },
        {
         "hoverinfo": "text",
         "marker": {
          "color": "rgb(35,205,205)"
         },
         "mode": "lines",
         "type": "scatter",
         "x": [
          1345,
          1345,
          1360,
          1360
         ],
         "xaxis": "x",
         "y": [
          0,
          16.575248633029922,
          16.575248633029922,
          6.483507175123259
         ],
         "yaxis": "y"
        },
        {
         "hoverinfo": "text",
         "marker": {
          "color": "rgb(35,205,205)"
         },
         "mode": "lines",
         "type": "scatter",
         "x": [
          1385,
          1385,
          1395,
          1395
         ],
         "xaxis": "x",
         "y": [
          0,
          11.490862981615656,
          11.490862981615656,
          0
         ],
         "yaxis": "y"
        },
        {
         "hoverinfo": "text",
         "marker": {
          "color": "rgb(35,205,205)"
         },
         "mode": "lines",
         "type": "scatter",
         "x": [
          1375,
          1375,
          1390,
          1390
         ],
         "xaxis": "x",
         "y": [
          0,
          19.931095367795148,
          19.931095367795148,
          11.490862981615656
         ],
         "yaxis": "y"
        },
        {
         "hoverinfo": "text",
         "marker": {
          "color": "rgb(35,205,205)"
         },
         "mode": "lines",
         "type": "scatter",
         "x": [
          1352.5,
          1352.5,
          1382.5,
          1382.5
         ],
         "xaxis": "x",
         "y": [
          16.575248633029922,
          38.50116175757175,
          38.50116175757175,
          19.931095367795148
         ],
         "yaxis": "y"
        },
        {
         "hoverinfo": "text",
         "marker": {
          "color": "rgb(35,205,205)"
         },
         "mode": "lines",
         "type": "scatter",
         "x": [
          1415,
          1415,
          1425,
          1425
         ],
         "xaxis": "x",
         "y": [
          0,
          11.737606339839033,
          11.737606339839033,
          0
         ],
         "yaxis": "y"
        },
        {
         "hoverinfo": "text",
         "marker": {
          "color": "rgb(35,205,205)"
         },
         "mode": "lines",
         "type": "scatter",
         "x": [
          1405,
          1405,
          1420,
          1420
         ],
         "xaxis": "x",
         "y": [
          0,
          22.114659838246453,
          22.114659838246453,
          11.737606339839033
         ],
         "yaxis": "y"
        },
        {
         "hoverinfo": "text",
         "marker": {
          "color": "rgb(35,205,205)"
         },
         "mode": "lines",
         "type": "scatter",
         "x": [
          1445,
          1445,
          1455,
          1455
         ],
         "xaxis": "x",
         "y": [
          0,
          8.144180968619962,
          8.144180968619962,
          0
         ],
         "yaxis": "y"
        },
        {
         "hoverinfo": "text",
         "marker": {
          "color": "rgb(35,205,205)"
         },
         "mode": "lines",
         "type": "scatter",
         "x": [
          1435,
          1435,
          1450,
          1450
         ],
         "xaxis": "x",
         "y": [
          0,
          23.24830913295429,
          23.24830913295429,
          8.144180968619962
         ],
         "yaxis": "y"
        },
        {
         "hoverinfo": "text",
         "marker": {
          "color": "rgb(35,205,205)"
         },
         "mode": "lines",
         "type": "scatter",
         "x": [
          1412.5,
          1412.5,
          1442.5,
          1442.5
         ],
         "xaxis": "x",
         "y": [
          22.114659838246453,
          42.73177631788212,
          42.73177631788212,
          23.24830913295429
         ],
         "yaxis": "y"
        },
        {
         "hoverinfo": "text",
         "marker": {
          "color": "rgb(35,205,205)"
         },
         "mode": "lines",
         "type": "scatter",
         "x": [
          1367.5,
          1367.5,
          1427.5,
          1427.5
         ],
         "xaxis": "x",
         "y": [
          38.50116175757175,
          64.72264329905741,
          64.72264329905741,
          42.73177631788212
         ],
         "yaxis": "y"
        },
        {
         "hoverinfo": "text",
         "marker": {
          "color": "rgb(35,205,205)"
         },
         "mode": "lines",
         "type": "scatter",
         "x": [
          1295.625,
          1295.625,
          1397.5,
          1397.5
         ],
         "xaxis": "x",
         "y": [
          60.76224683985066,
          121.4153343544338,
          121.4153343544338,
          64.72264329905741
         ],
         "yaxis": "y"
        },
        {
         "hoverinfo": "text",
         "marker": {
          "color": "rgb(35,205,205)"
         },
         "mode": "lines",
         "type": "scatter",
         "x": [
          1098.59375,
          1098.59375,
          1346.5625,
          1346.5625
         ],
         "xaxis": "x",
         "y": [
          118.04979558978339,
          177.47194048667305,
          177.47194048667305,
          121.4153343544338
         ],
         "yaxis": "y"
        },
        {
         "hoverinfo": "text",
         "marker": {
          "color": "rgb(35,205,205)"
         },
         "mode": "lines",
         "type": "scatter",
         "x": [
          863.75,
          863.75,
          1222.578125,
          1222.578125
         ],
         "xaxis": "x",
         "y": [
          114.60680820152608,
          223.242075409334,
          223.242075409334,
          177.47194048667305
         ],
         "yaxis": "y"
        },
        {
         "hoverinfo": "text",
         "marker": {
          "color": "rgb(0,116,217)"
         },
         "mode": "lines",
         "type": "scatter",
         "x": [
          565.46875,
          565.46875,
          1043.1640625,
          1043.1640625
         ],
         "xaxis": "x",
         "y": [
          136.4328128507406,
          261.25648320034105,
          261.25648320034105,
          223.242075409334
         ],
         "yaxis": "y"
        },
        {
         "hoverinfo": "text",
         "marker": {
          "color": "rgb(0,116,217)"
         },
         "mode": "lines",
         "type": "scatter",
         "x": [
          174.84375,
          174.84375,
          804.31640625,
          804.31640625
         ],
         "xaxis": "x",
         "y": [
          161.22533205161832,
          387.96517854073954,
          387.96517854073954,
          261.25648320034105
         ],
         "yaxis": "y"
        },
        {
         "hoverinfo": "text",
         "marker": {
          "color": "rgb(133,20,75)"
         },
         "mode": "lines",
         "type": "scatter",
         "x": [
          1475,
          1475,
          1485,
          1485
         ],
         "xaxis": "x",
         "y": [
          0,
          8.633021271114947,
          8.633021271114947,
          0
         ],
         "yaxis": "y"
        },
        {
         "hoverinfo": "text",
         "marker": {
          "color": "rgb(133,20,75)"
         },
         "mode": "lines",
         "type": "scatter",
         "x": [
          1465,
          1465,
          1480,
          1480
         ],
         "xaxis": "x",
         "y": [
          0,
          11.926399031542935,
          11.926399031542935,
          8.633021271114947
         ],
         "yaxis": "y"
        },
        {
         "hoverinfo": "text",
         "marker": {
          "color": "rgb(133,20,75)"
         },
         "mode": "lines",
         "type": "scatter",
         "x": [
          1505,
          1505,
          1515,
          1515
         ],
         "xaxis": "x",
         "y": [
          0,
          14.962573974304505,
          14.962573974304505,
          0
         ],
         "yaxis": "y"
        },
        {
         "hoverinfo": "text",
         "marker": {
          "color": "rgb(133,20,75)"
         },
         "mode": "lines",
         "type": "scatter",
         "x": [
          1495,
          1495,
          1510,
          1510
         ],
         "xaxis": "x",
         "y": [
          0,
          20.10269361743217,
          20.10269361743217,
          14.962573974304505
         ],
         "yaxis": "y"
        },
        {
         "hoverinfo": "text",
         "marker": {
          "color": "rgb(133,20,75)"
         },
         "mode": "lines",
         "type": "scatter",
         "x": [
          1472.5,
          1472.5,
          1502.5,
          1502.5
         ],
         "xaxis": "x",
         "y": [
          11.926399031542935,
          25.967549532803783,
          25.967549532803783,
          20.10269361743217
         ],
         "yaxis": "y"
        },
        {
         "hoverinfo": "text",
         "marker": {
          "color": "rgb(133,20,75)"
         },
         "mode": "lines",
         "type": "scatter",
         "x": [
          1535,
          1535,
          1545,
          1545
         ],
         "xaxis": "x",
         "y": [
          0,
          5.797432860541288,
          5.797432860541288,
          0
         ],
         "yaxis": "y"
        },
        {
         "hoverinfo": "text",
         "marker": {
          "color": "rgb(133,20,75)"
         },
         "mode": "lines",
         "type": "scatter",
         "x": [
          1525,
          1525,
          1540,
          1540
         ],
         "xaxis": "x",
         "y": [
          0,
          32.535762214072875,
          32.535762214072875,
          5.797432860541288
         ],
         "yaxis": "y"
        },
        {
         "hoverinfo": "text",
         "marker": {
          "color": "rgb(133,20,75)"
         },
         "mode": "lines",
         "type": "scatter",
         "x": [
          1487.5,
          1487.5,
          1532.5,
          1532.5
         ],
         "xaxis": "x",
         "y": [
          25.967549532803783,
          59.897179972701146,
          59.897179972701146,
          32.535762214072875
         ],
         "yaxis": "y"
        },
        {
         "hoverinfo": "text",
         "marker": {
          "color": "rgb(133,20,75)"
         },
         "mode": "lines",
         "type": "scatter",
         "x": [
          1575,
          1575,
          1585,
          1585
         ],
         "xaxis": "x",
         "y": [
          0,
          8.088640952662026,
          8.088640952662026,
          0
         ],
         "yaxis": "y"
        },
        {
         "hoverinfo": "text",
         "marker": {
          "color": "rgb(133,20,75)"
         },
         "mode": "lines",
         "type": "scatter",
         "x": [
          1565,
          1565,
          1580,
          1580
         ],
         "xaxis": "x",
         "y": [
          0,
          15.166336221132312,
          15.166336221132312,
          8.088640952662026
         ],
         "yaxis": "y"
        },
        {
         "hoverinfo": "text",
         "marker": {
          "color": "rgb(133,20,75)"
         },
         "mode": "lines",
         "type": "scatter",
         "x": [
          1555,
          1555,
          1572.5,
          1572.5
         ],
         "xaxis": "x",
         "y": [
          0,
          26.249631778582177,
          26.249631778582177,
          15.166336221132312
         ],
         "yaxis": "y"
        },
        {
         "hoverinfo": "text",
         "marker": {
          "color": "rgb(133,20,75)"
         },
         "mode": "lines",
         "type": "scatter",
         "x": [
          1595,
          1595,
          1605,
          1605
         ],
         "xaxis": "x",
         "y": [
          0,
          5.892472183471838,
          5.892472183471838,
          0
         ],
         "yaxis": "y"
        },
        {
         "hoverinfo": "text",
         "marker": {
          "color": "rgb(133,20,75)"
         },
         "mode": "lines",
         "type": "scatter",
         "x": [
          1615,
          1615,
          1625,
          1625
         ],
         "xaxis": "x",
         "y": [
          0,
          12.323586517895679,
          12.323586517895679,
          0
         ],
         "yaxis": "y"
        },
        {
         "hoverinfo": "text",
         "marker": {
          "color": "rgb(133,20,75)"
         },
         "mode": "lines",
         "type": "scatter",
         "x": [
          1600,
          1600,
          1620,
          1620
         ],
         "xaxis": "x",
         "y": [
          5.892472183471838,
          26.5953289374648,
          26.5953289374648,
          12.323586517895679
         ],
         "yaxis": "y"
        },
        {
         "hoverinfo": "text",
         "marker": {
          "color": "rgb(133,20,75)"
         },
         "mode": "lines",
         "type": "scatter",
         "x": [
          1645,
          1645,
          1655,
          1655
         ],
         "xaxis": "x",
         "y": [
          0,
          9.090721606578173,
          9.090721606578173,
          0
         ],
         "yaxis": "y"
        },
        {
         "hoverinfo": "text",
         "marker": {
          "color": "rgb(133,20,75)"
         },
         "mode": "lines",
         "type": "scatter",
         "x": [
          1635,
          1635,
          1650,
          1650
         ],
         "xaxis": "x",
         "y": [
          0,
          14.630036053750528,
          14.630036053750528,
          9.090721606578173
         ],
         "yaxis": "y"
        },
        {
         "hoverinfo": "text",
         "marker": {
          "color": "rgb(133,20,75)"
         },
         "mode": "lines",
         "type": "scatter",
         "x": [
          1665,
          1665,
          1675,
          1675
         ],
         "xaxis": "x",
         "y": [
          0,
          21.875468290029282,
          21.875468290029282,
          0
         ],
         "yaxis": "y"
        },
        {
         "hoverinfo": "text",
         "marker": {
          "color": "rgb(133,20,75)"
         },
         "mode": "lines",
         "type": "scatter",
         "x": [
          1642.5,
          1642.5,
          1670,
          1670
         ],
         "xaxis": "x",
         "y": [
          14.630036053750528,
          29.312014427566073,
          29.312014427566073,
          21.875468290029282
         ],
         "yaxis": "y"
        },
        {
         "hoverinfo": "text",
         "marker": {
          "color": "rgb(133,20,75)"
         },
         "mode": "lines",
         "type": "scatter",
         "x": [
          1610,
          1610,
          1656.25,
          1656.25
         ],
         "xaxis": "x",
         "y": [
          26.5953289374648,
          59.90766417241713,
          59.90766417241713,
          29.312014427566073
         ],
         "yaxis": "y"
        },
        {
         "hoverinfo": "text",
         "marker": {
          "color": "rgb(133,20,75)"
         },
         "mode": "lines",
         "type": "scatter",
         "x": [
          1563.75,
          1563.75,
          1633.125,
          1633.125
         ],
         "xaxis": "x",
         "y": [
          26.249631778582177,
          66.94530560186097,
          66.94530560186097,
          59.90766417241713
         ],
         "yaxis": "y"
        },
        {
         "hoverinfo": "text",
         "marker": {
          "color": "rgb(133,20,75)"
         },
         "mode": "lines",
         "type": "scatter",
         "x": [
          1695,
          1695,
          1705,
          1705
         ],
         "xaxis": "x",
         "y": [
          0,
          7.294788320793341,
          7.294788320793341,
          0
         ],
         "yaxis": "y"
        },
        {
         "hoverinfo": "text",
         "marker": {
          "color": "rgb(133,20,75)"
         },
         "mode": "lines",
         "type": "scatter",
         "x": [
          1685,
          1685,
          1700,
          1700
         ],
         "xaxis": "x",
         "y": [
          0,
          12.816972008557542,
          12.816972008557542,
          7.294788320793341
         ],
         "yaxis": "y"
        },
        {
         "hoverinfo": "text",
         "marker": {
          "color": "rgb(133,20,75)"
         },
         "mode": "lines",
         "type": "scatter",
         "x": [
          1735,
          1735,
          1745,
          1745
         ],
         "xaxis": "x",
         "y": [
          0,
          9.51941730621111,
          9.51941730621111,
          0
         ],
         "yaxis": "y"
        },
        {
         "hoverinfo": "text",
         "marker": {
          "color": "rgb(133,20,75)"
         },
         "mode": "lines",
         "type": "scatter",
         "x": [
          1725,
          1725,
          1740,
          1740
         ],
         "xaxis": "x",
         "y": [
          0,
          15.470058647439268,
          15.470058647439268,
          9.51941730621111
         ],
         "yaxis": "y"
        },
        {
         "hoverinfo": "text",
         "marker": {
          "color": "rgb(133,20,75)"
         },
         "mode": "lines",
         "type": "scatter",
         "x": [
          1715,
          1715,
          1732.5,
          1732.5
         ],
         "xaxis": "x",
         "y": [
          0,
          20.905492085016228,
          20.905492085016228,
          15.470058647439268
         ],
         "yaxis": "y"
        },
        {
         "hoverinfo": "text",
         "marker": {
          "color": "rgb(133,20,75)"
         },
         "mode": "lines",
         "type": "scatter",
         "x": [
          1692.5,
          1692.5,
          1723.75,
          1723.75
         ],
         "xaxis": "x",
         "y": [
          12.816972008557542,
          29.752511161984838,
          29.752511161984838,
          20.905492085016228
         ],
         "yaxis": "y"
        },
        {
         "hoverinfo": "text",
         "marker": {
          "color": "rgb(133,20,75)"
         },
         "mode": "lines",
         "type": "scatter",
         "x": [
          1755,
          1755,
          1765,
          1765
         ],
         "xaxis": "x",
         "y": [
          0,
          9.110486840929699,
          9.110486840929699,
          0
         ],
         "yaxis": "y"
        },
        {
         "hoverinfo": "text",
         "marker": {
          "color": "rgb(133,20,75)"
         },
         "mode": "lines",
         "type": "scatter",
         "x": [
          1785,
          1785,
          1795,
          1795
         ],
         "xaxis": "x",
         "y": [
          0,
          13.958902065564581,
          13.958902065564581,
          0
         ],
         "yaxis": "y"
        },
        {
         "hoverinfo": "text",
         "marker": {
          "color": "rgb(133,20,75)"
         },
         "mode": "lines",
         "type": "scatter",
         "x": [
          1775,
          1775,
          1790,
          1790
         ],
         "xaxis": "x",
         "y": [
          0,
          16.071771445544233,
          16.071771445544233,
          13.958902065564581
         ],
         "yaxis": "y"
        },
        {
         "hoverinfo": "text",
         "marker": {
          "color": "rgb(133,20,75)"
         },
         "mode": "lines",
         "type": "scatter",
         "x": [
          1760,
          1760,
          1782.5,
          1782.5
         ],
         "xaxis": "x",
         "y": [
          9.110486840929699,
          33.54969288982341,
          33.54969288982341,
          16.071771445544233
         ],
         "yaxis": "y"
        },
        {
         "hoverinfo": "text",
         "marker": {
          "color": "rgb(133,20,75)"
         },
         "mode": "lines",
         "type": "scatter",
         "x": [
          1708.125,
          1708.125,
          1771.25,
          1771.25
         ],
         "xaxis": "x",
         "y": [
          29.752511161984838,
          35.614785393290354,
          35.614785393290354,
          33.54969288982341
         ],
         "yaxis": "y"
        },
        {
         "hoverinfo": "text",
         "marker": {
          "color": "rgb(133,20,75)"
         },
         "mode": "lines",
         "type": "scatter",
         "x": [
          1815,
          1815,
          1825,
          1825
         ],
         "xaxis": "x",
         "y": [
          0,
          5.010938254605851,
          5.010938254605851,
          0
         ],
         "yaxis": "y"
        },
        {
         "hoverinfo": "text",
         "marker": {
          "color": "rgb(133,20,75)"
         },
         "mode": "lines",
         "type": "scatter",
         "x": [
          1805,
          1805,
          1820,
          1820
         ],
         "xaxis": "x",
         "y": [
          0,
          12.569668153918364,
          12.569668153918364,
          5.010938254605851
         ],
         "yaxis": "y"
        },
        {
         "hoverinfo": "text",
         "marker": {
          "color": "rgb(133,20,75)"
         },
         "mode": "lines",
         "type": "scatter",
         "x": [
          1835,
          1835,
          1845,
          1845
         ],
         "xaxis": "x",
         "y": [
          0,
          11.031066781876746,
          11.031066781876746,
          0
         ],
         "yaxis": "y"
        },
        {
         "hoverinfo": "text",
         "marker": {
          "color": "rgb(133,20,75)"
         },
         "mode": "lines",
         "type": "scatter",
         "x": [
          1875,
          1875,
          1885,
          1885
         ],
         "xaxis": "x",
         "y": [
          0,
          2.490628694284975,
          2.490628694284975,
          0
         ],
         "yaxis": "y"
        },
        {
         "hoverinfo": "text",
         "marker": {
          "color": "rgb(133,20,75)"
         },
         "mode": "lines",
         "type": "scatter",
         "x": [
          1865,
          1865,
          1880,
          1880
         ],
         "xaxis": "x",
         "y": [
          0,
          8.183193499768098,
          8.183193499768098,
          2.490628694284975
         ],
         "yaxis": "y"
        },
        {
         "hoverinfo": "text",
         "marker": {
          "color": "rgb(133,20,75)"
         },
         "mode": "lines",
         "type": "scatter",
         "x": [
          1855,
          1855,
          1872.5,
          1872.5
         ],
         "xaxis": "x",
         "y": [
          0,
          11.743656033139558,
          11.743656033139558,
          8.183193499768098
         ],
         "yaxis": "y"
        },
        {
         "hoverinfo": "text",
         "marker": {
          "color": "rgb(133,20,75)"
         },
         "mode": "lines",
         "type": "scatter",
         "x": [
          1840,
          1840,
          1863.75,
          1863.75
         ],
         "xaxis": "x",
         "y": [
          11.031066781876746,
          23.330343608705146,
          23.330343608705146,
          11.743656033139558
         ],
         "yaxis": "y"
        },
        {
         "hoverinfo": "text",
         "marker": {
          "color": "rgb(133,20,75)"
         },
         "mode": "lines",
         "type": "scatter",
         "x": [
          1812.5,
          1812.5,
          1851.875,
          1851.875
         ],
         "xaxis": "x",
         "y": [
          12.569668153918364,
          34.03204684356904,
          34.03204684356904,
          23.330343608705146
         ],
         "yaxis": "y"
        },
        {
         "hoverinfo": "text",
         "marker": {
          "color": "rgb(133,20,75)"
         },
         "mode": "lines",
         "type": "scatter",
         "x": [
          1895,
          1895,
          1905,
          1905
         ],
         "xaxis": "x",
         "y": [
          0,
          16.83100660040364,
          16.83100660040364,
          0
         ],
         "yaxis": "y"
        },
        {
         "hoverinfo": "text",
         "marker": {
          "color": "rgb(133,20,75)"
         },
         "mode": "lines",
         "type": "scatter",
         "x": [
          1925,
          1925,
          1935,
          1935
         ],
         "xaxis": "x",
         "y": [
          0,
          4.590245169368343,
          4.590245169368343,
          0
         ],
         "yaxis": "y"
        },
        {
         "hoverinfo": "text",
         "marker": {
          "color": "rgb(133,20,75)"
         },
         "mode": "lines",
         "type": "scatter",
         "x": [
          1915,
          1915,
          1930,
          1930
         ],
         "xaxis": "x",
         "y": [
          0,
          18.735633257978485,
          18.735633257978485,
          4.590245169368343
         ],
         "yaxis": "y"
        },
        {
         "hoverinfo": "text",
         "marker": {
          "color": "rgb(133,20,75)"
         },
         "mode": "lines",
         "type": "scatter",
         "x": [
          1900,
          1900,
          1922.5,
          1922.5
         ],
         "xaxis": "x",
         "y": [
          16.83100660040364,
          46.95861190172463,
          46.95861190172463,
          18.735633257978485
         ],
         "yaxis": "y"
        },
        {
         "hoverinfo": "text",
         "marker": {
          "color": "rgb(133,20,75)"
         },
         "mode": "lines",
         "type": "scatter",
         "x": [
          1832.1875,
          1832.1875,
          1911.25,
          1911.25
         ],
         "xaxis": "x",
         "y": [
          34.03204684356904,
          53.67960620861307,
          53.67960620861307,
          46.95861190172463
         ],
         "yaxis": "y"
        },
        {
         "hoverinfo": "text",
         "marker": {
          "color": "rgb(133,20,75)"
         },
         "mode": "lines",
         "type": "scatter",
         "x": [
          1739.6875,
          1739.6875,
          1871.71875,
          1871.71875
         ],
         "xaxis": "x",
         "y": [
          35.614785393290354,
          90.82899501984387,
          90.82899501984387,
          53.67960620861307
         ],
         "yaxis": "y"
        },
        {
         "hoverinfo": "text",
         "marker": {
          "color": "rgb(133,20,75)"
         },
         "mode": "lines",
         "type": "scatter",
         "x": [
          1598.4375,
          1598.4375,
          1805.703125,
          1805.703125
         ],
         "xaxis": "x",
         "y": [
          66.94530560186097,
          143.1431282619887,
          143.1431282619887,
          90.82899501984387
         ],
         "yaxis": "y"
        },
        {
         "hoverinfo": "text",
         "marker": {
          "color": "rgb(133,20,75)"
         },
         "mode": "lines",
         "type": "scatter",
         "x": [
          1510,
          1510,
          1702.0703125,
          1702.0703125
         ],
         "xaxis": "x",
         "y": [
          59.897179972701146,
          190.2497942408816,
          190.2497942408816,
          143.1431282619887
         ],
         "yaxis": "y"
        },
        {
         "hoverinfo": "text",
         "marker": {
          "color": "rgb(255,220,0)"
         },
         "mode": "lines",
         "type": "scatter",
         "x": [
          1955,
          1955,
          1965,
          1965
         ],
         "xaxis": "x",
         "y": [
          0,
          40.582642962689455,
          40.582642962689455,
          0
         ],
         "yaxis": "y"
        },
        {
         "hoverinfo": "text",
         "marker": {
          "color": "rgb(255,220,0)"
         },
         "mode": "lines",
         "type": "scatter",
         "x": [
          1945,
          1945,
          1960,
          1960
         ],
         "xaxis": "x",
         "y": [
          0,
          107.5155765491795,
          107.5155765491795,
          40.582642962689455
         ],
         "yaxis": "y"
        },
        {
         "hoverinfo": "text",
         "marker": {
          "color": "rgb(255,220,0)"
         },
         "mode": "lines",
         "type": "scatter",
         "x": [
          1975,
          1975,
          1985,
          1985
         ],
         "xaxis": "x",
         "y": [
          0,
          126.90034164440748,
          126.90034164440748,
          0
         ],
         "yaxis": "y"
        },
        {
         "hoverinfo": "text",
         "marker": {
          "color": "rgb(255,220,0)"
         },
         "mode": "lines",
         "type": "scatter",
         "x": [
          1952.5,
          1952.5,
          1980,
          1980
         ],
         "xaxis": "x",
         "y": [
          107.5155765491795,
          259.85905604939074,
          259.85905604939074,
          126.90034164440748
         ],
         "yaxis": "y"
        },
        {
         "hoverinfo": "text",
         "marker": {
          "color": "rgb(0,116,217)"
         },
         "mode": "lines",
         "type": "scatter",
         "x": [
          1606.03515625,
          1606.03515625,
          1966.25,
          1966.25
         ],
         "xaxis": "x",
         "y": [
          190.2497942408816,
          477.19970226901086,
          477.19970226901086,
          259.85905604939074
         ],
         "yaxis": "y"
        },
        {
         "hoverinfo": "text",
         "marker": {
          "color": "rgb(0,116,217)"
         },
         "mode": "lines",
         "type": "scatter",
         "x": [
          489.580078125,
          489.580078125,
          1786.142578125,
          1786.142578125
         ],
         "xaxis": "x",
         "y": [
          387.96517854073954,
          718.0309923476678,
          718.0309923476678,
          477.19970226901086
         ],
         "yaxis": "y"
        }
       ],
       "layout": {
        "autosize": false,
        "height": 600,
        "hovermode": "closest",
        "shapes": [
         {
          "line": {
           "color": "Black",
           "dash": "dash"
          },
          "type": "line",
          "x0": 0,
          "x1": 1985,
          "y0": 260,
          "y1": 260
         }
        ],
        "showlegend": false,
        "template": {
         "data": {
          "bar": [
           {
            "error_x": {
             "color": "#2a3f5f"
            },
            "error_y": {
             "color": "#2a3f5f"
            },
            "marker": {
             "line": {
              "color": "#E5ECF6",
              "width": 0.5
             }
            },
            "type": "bar"
           }
          ],
          "barpolar": [
           {
            "marker": {
             "line": {
              "color": "#E5ECF6",
              "width": 0.5
             }
            },
            "type": "barpolar"
           }
          ],
          "carpet": [
           {
            "aaxis": {
             "endlinecolor": "#2a3f5f",
             "gridcolor": "white",
             "linecolor": "white",
             "minorgridcolor": "white",
             "startlinecolor": "#2a3f5f"
            },
            "baxis": {
             "endlinecolor": "#2a3f5f",
             "gridcolor": "white",
             "linecolor": "white",
             "minorgridcolor": "white",
             "startlinecolor": "#2a3f5f"
            },
            "type": "carpet"
           }
          ],
          "choropleth": [
           {
            "colorbar": {
             "outlinewidth": 0,
             "ticks": ""
            },
            "type": "choropleth"
           }
          ],
          "contour": [
           {
            "colorbar": {
             "outlinewidth": 0,
             "ticks": ""
            },
            "colorscale": [
             [
              0,
              "#0d0887"
             ],
             [
              0.1111111111111111,
              "#46039f"
             ],
             [
              0.2222222222222222,
              "#7201a8"
             ],
             [
              0.3333333333333333,
              "#9c179e"
             ],
             [
              0.4444444444444444,
              "#bd3786"
             ],
             [
              0.5555555555555556,
              "#d8576b"
             ],
             [
              0.6666666666666666,
              "#ed7953"
             ],
             [
              0.7777777777777778,
              "#fb9f3a"
             ],
             [
              0.8888888888888888,
              "#fdca26"
             ],
             [
              1,
              "#f0f921"
             ]
            ],
            "type": "contour"
           }
          ],
          "contourcarpet": [
           {
            "colorbar": {
             "outlinewidth": 0,
             "ticks": ""
            },
            "type": "contourcarpet"
           }
          ],
          "heatmap": [
           {
            "colorbar": {
             "outlinewidth": 0,
             "ticks": ""
            },
            "colorscale": [
             [
              0,
              "#0d0887"
             ],
             [
              0.1111111111111111,
              "#46039f"
             ],
             [
              0.2222222222222222,
              "#7201a8"
             ],
             [
              0.3333333333333333,
              "#9c179e"
             ],
             [
              0.4444444444444444,
              "#bd3786"
             ],
             [
              0.5555555555555556,
              "#d8576b"
             ],
             [
              0.6666666666666666,
              "#ed7953"
             ],
             [
              0.7777777777777778,
              "#fb9f3a"
             ],
             [
              0.8888888888888888,
              "#fdca26"
             ],
             [
              1,
              "#f0f921"
             ]
            ],
            "type": "heatmap"
           }
          ],
          "heatmapgl": [
           {
            "colorbar": {
             "outlinewidth": 0,
             "ticks": ""
            },
            "colorscale": [
             [
              0,
              "#0d0887"
             ],
             [
              0.1111111111111111,
              "#46039f"
             ],
             [
              0.2222222222222222,
              "#7201a8"
             ],
             [
              0.3333333333333333,
              "#9c179e"
             ],
             [
              0.4444444444444444,
              "#bd3786"
             ],
             [
              0.5555555555555556,
              "#d8576b"
             ],
             [
              0.6666666666666666,
              "#ed7953"
             ],
             [
              0.7777777777777778,
              "#fb9f3a"
             ],
             [
              0.8888888888888888,
              "#fdca26"
             ],
             [
              1,
              "#f0f921"
             ]
            ],
            "type": "heatmapgl"
           }
          ],
          "histogram": [
           {
            "marker": {
             "colorbar": {
              "outlinewidth": 0,
              "ticks": ""
             }
            },
            "type": "histogram"
           }
          ],
          "histogram2d": [
           {
            "colorbar": {
             "outlinewidth": 0,
             "ticks": ""
            },
            "colorscale": [
             [
              0,
              "#0d0887"
             ],
             [
              0.1111111111111111,
              "#46039f"
             ],
             [
              0.2222222222222222,
              "#7201a8"
             ],
             [
              0.3333333333333333,
              "#9c179e"
             ],
             [
              0.4444444444444444,
              "#bd3786"
             ],
             [
              0.5555555555555556,
              "#d8576b"
             ],
             [
              0.6666666666666666,
              "#ed7953"
             ],
             [
              0.7777777777777778,
              "#fb9f3a"
             ],
             [
              0.8888888888888888,
              "#fdca26"
             ],
             [
              1,
              "#f0f921"
             ]
            ],
            "type": "histogram2d"
           }
          ],
          "histogram2dcontour": [
           {
            "colorbar": {
             "outlinewidth": 0,
             "ticks": ""
            },
            "colorscale": [
             [
              0,
              "#0d0887"
             ],
             [
              0.1111111111111111,
              "#46039f"
             ],
             [
              0.2222222222222222,
              "#7201a8"
             ],
             [
              0.3333333333333333,
              "#9c179e"
             ],
             [
              0.4444444444444444,
              "#bd3786"
             ],
             [
              0.5555555555555556,
              "#d8576b"
             ],
             [
              0.6666666666666666,
              "#ed7953"
             ],
             [
              0.7777777777777778,
              "#fb9f3a"
             ],
             [
              0.8888888888888888,
              "#fdca26"
             ],
             [
              1,
              "#f0f921"
             ]
            ],
            "type": "histogram2dcontour"
           }
          ],
          "mesh3d": [
           {
            "colorbar": {
             "outlinewidth": 0,
             "ticks": ""
            },
            "type": "mesh3d"
           }
          ],
          "parcoords": [
           {
            "line": {
             "colorbar": {
              "outlinewidth": 0,
              "ticks": ""
             }
            },
            "type": "parcoords"
           }
          ],
          "pie": [
           {
            "automargin": true,
            "type": "pie"
           }
          ],
          "scatter": [
           {
            "marker": {
             "colorbar": {
              "outlinewidth": 0,
              "ticks": ""
             }
            },
            "type": "scatter"
           }
          ],
          "scatter3d": [
           {
            "line": {
             "colorbar": {
              "outlinewidth": 0,
              "ticks": ""
             }
            },
            "marker": {
             "colorbar": {
              "outlinewidth": 0,
              "ticks": ""
             }
            },
            "type": "scatter3d"
           }
          ],
          "scattercarpet": [
           {
            "marker": {
             "colorbar": {
              "outlinewidth": 0,
              "ticks": ""
             }
            },
            "type": "scattercarpet"
           }
          ],
          "scattergeo": [
           {
            "marker": {
             "colorbar": {
              "outlinewidth": 0,
              "ticks": ""
             }
            },
            "type": "scattergeo"
           }
          ],
          "scattergl": [
           {
            "marker": {
             "colorbar": {
              "outlinewidth": 0,
              "ticks": ""
             }
            },
            "type": "scattergl"
           }
          ],
          "scattermapbox": [
           {
            "marker": {
             "colorbar": {
              "outlinewidth": 0,
              "ticks": ""
             }
            },
            "type": "scattermapbox"
           }
          ],
          "scatterpolar": [
           {
            "marker": {
             "colorbar": {
              "outlinewidth": 0,
              "ticks": ""
             }
            },
            "type": "scatterpolar"
           }
          ],
          "scatterpolargl": [
           {
            "marker": {
             "colorbar": {
              "outlinewidth": 0,
              "ticks": ""
             }
            },
            "type": "scatterpolargl"
           }
          ],
          "scatterternary": [
           {
            "marker": {
             "colorbar": {
              "outlinewidth": 0,
              "ticks": ""
             }
            },
            "type": "scatterternary"
           }
          ],
          "surface": [
           {
            "colorbar": {
             "outlinewidth": 0,
             "ticks": ""
            },
            "colorscale": [
             [
              0,
              "#0d0887"
             ],
             [
              0.1111111111111111,
              "#46039f"
             ],
             [
              0.2222222222222222,
              "#7201a8"
             ],
             [
              0.3333333333333333,
              "#9c179e"
             ],
             [
              0.4444444444444444,
              "#bd3786"
             ],
             [
              0.5555555555555556,
              "#d8576b"
             ],
             [
              0.6666666666666666,
              "#ed7953"
             ],
             [
              0.7777777777777778,
              "#fb9f3a"
             ],
             [
              0.8888888888888888,
              "#fdca26"
             ],
             [
              1,
              "#f0f921"
             ]
            ],
            "type": "surface"
           }
          ],
          "table": [
           {
            "cells": {
             "fill": {
              "color": "#EBF0F8"
             },
             "line": {
              "color": "white"
             }
            },
            "header": {
             "fill": {
              "color": "#C8D4E3"
             },
             "line": {
              "color": "white"
             }
            },
            "type": "table"
           }
          ]
         },
         "layout": {
          "annotationdefaults": {
           "arrowcolor": "#2a3f5f",
           "arrowhead": 0,
           "arrowwidth": 1
          },
          "autotypenumbers": "strict",
          "coloraxis": {
           "colorbar": {
            "outlinewidth": 0,
            "ticks": ""
           }
          },
          "colorscale": {
           "diverging": [
            [
             0,
             "#8e0152"
            ],
            [
             0.1,
             "#c51b7d"
            ],
            [
             0.2,
             "#de77ae"
            ],
            [
             0.3,
             "#f1b6da"
            ],
            [
             0.4,
             "#fde0ef"
            ],
            [
             0.5,
             "#f7f7f7"
            ],
            [
             0.6,
             "#e6f5d0"
            ],
            [
             0.7,
             "#b8e186"
            ],
            [
             0.8,
             "#7fbc41"
            ],
            [
             0.9,
             "#4d9221"
            ],
            [
             1,
             "#276419"
            ]
           ],
           "sequential": [
            [
             0,
             "#0d0887"
            ],
            [
             0.1111111111111111,
             "#46039f"
            ],
            [
             0.2222222222222222,
             "#7201a8"
            ],
            [
             0.3333333333333333,
             "#9c179e"
            ],
            [
             0.4444444444444444,
             "#bd3786"
            ],
            [
             0.5555555555555556,
             "#d8576b"
            ],
            [
             0.6666666666666666,
             "#ed7953"
            ],
            [
             0.7777777777777778,
             "#fb9f3a"
            ],
            [
             0.8888888888888888,
             "#fdca26"
            ],
            [
             1,
             "#f0f921"
            ]
           ],
           "sequentialminus": [
            [
             0,
             "#0d0887"
            ],
            [
             0.1111111111111111,
             "#46039f"
            ],
            [
             0.2222222222222222,
             "#7201a8"
            ],
            [
             0.3333333333333333,
             "#9c179e"
            ],
            [
             0.4444444444444444,
             "#bd3786"
            ],
            [
             0.5555555555555556,
             "#d8576b"
            ],
            [
             0.6666666666666666,
             "#ed7953"
            ],
            [
             0.7777777777777778,
             "#fb9f3a"
            ],
            [
             0.8888888888888888,
             "#fdca26"
            ],
            [
             1,
             "#f0f921"
            ]
           ]
          },
          "colorway": [
           "#636efa",
           "#EF553B",
           "#00cc96",
           "#ab63fa",
           "#FFA15A",
           "#19d3f3",
           "#FF6692",
           "#B6E880",
           "#FF97FF",
           "#FECB52"
          ],
          "font": {
           "color": "#2a3f5f"
          },
          "geo": {
           "bgcolor": "white",
           "lakecolor": "white",
           "landcolor": "#E5ECF6",
           "showlakes": true,
           "showland": true,
           "subunitcolor": "white"
          },
          "hoverlabel": {
           "align": "left"
          },
          "hovermode": "closest",
          "mapbox": {
           "style": "light"
          },
          "paper_bgcolor": "white",
          "plot_bgcolor": "#E5ECF6",
          "polar": {
           "angularaxis": {
            "gridcolor": "white",
            "linecolor": "white",
            "ticks": ""
           },
           "bgcolor": "#E5ECF6",
           "radialaxis": {
            "gridcolor": "white",
            "linecolor": "white",
            "ticks": ""
           }
          },
          "scene": {
           "xaxis": {
            "backgroundcolor": "#E5ECF6",
            "gridcolor": "white",
            "gridwidth": 2,
            "linecolor": "white",
            "showbackground": true,
            "ticks": "",
            "zerolinecolor": "white"
           },
           "yaxis": {
            "backgroundcolor": "#E5ECF6",
            "gridcolor": "white",
            "gridwidth": 2,
            "linecolor": "white",
            "showbackground": true,
            "ticks": "",
            "zerolinecolor": "white"
           },
           "zaxis": {
            "backgroundcolor": "#E5ECF6",
            "gridcolor": "white",
            "gridwidth": 2,
            "linecolor": "white",
            "showbackground": true,
            "ticks": "",
            "zerolinecolor": "white"
           }
          },
          "shapedefaults": {
           "line": {
            "color": "#2a3f5f"
           }
          },
          "ternary": {
           "aaxis": {
            "gridcolor": "white",
            "linecolor": "white",
            "ticks": ""
           },
           "baxis": {
            "gridcolor": "white",
            "linecolor": "white",
            "ticks": ""
           },
           "bgcolor": "#E5ECF6",
           "caxis": {
            "gridcolor": "white",
            "linecolor": "white",
            "ticks": ""
           }
          },
          "title": {
           "x": 0.05
          },
          "xaxis": {
           "automargin": true,
           "gridcolor": "white",
           "linecolor": "white",
           "ticks": "",
           "title": {
            "standoff": 15
           },
           "zerolinecolor": "white",
           "zerolinewidth": 2
          },
          "yaxis": {
           "automargin": true,
           "gridcolor": "white",
           "linecolor": "white",
           "ticks": "",
           "title": {
            "standoff": 15
           },
           "zerolinecolor": "white",
           "zerolinewidth": 2
          }
         }
        },
        "width": 1000,
        "xaxis": {
         "mirror": "allticks",
         "rangemode": "tozero",
         "showgrid": false,
         "showline": true,
         "showticklabels": false,
         "tickmode": "array",
         "ticks": "outside",
         "ticktext": [
          "73",
          "84",
          "44",
          "87",
          "89",
          "114",
          "76",
          "86",
          "60",
          "13",
          "10",
          "26",
          "2",
          "82",
          "98",
          "4",
          "32",
          "66",
          "18",
          "33",
          "59",
          "71",
          "21",
          "36",
          "61",
          "16",
          "31",
          "0",
          "27",
          "83",
          "11",
          "24",
          "43",
          "5",
          "20",
          "3",
          "6",
          "51",
          "58",
          "19",
          "7",
          "14",
          "97",
          "113",
          "96",
          "105",
          "130",
          "125",
          "112",
          "140",
          "85",
          "133",
          "63",
          "110",
          "142",
          "90",
          "106",
          "92",
          "116",
          "135",
          "103",
          "115",
          "161",
          "143",
          "153",
          "158",
          "164",
          "107",
          "129",
          "123",
          "121",
          "144",
          "1",
          "37",
          "54",
          "28",
          "8",
          "48",
          "81",
          "88",
          "15",
          "49",
          "78",
          "120",
          "17",
          "29",
          "53",
          "9",
          "65",
          "52",
          "95",
          "127",
          "38",
          "25",
          "79",
          "94",
          "50",
          "62",
          "101",
          "34",
          "42",
          "131",
          "74",
          "117",
          "102",
          "72",
          "93",
          "70",
          "40",
          "47",
          "22",
          "23",
          "12",
          "45",
          "75",
          "30",
          "39",
          "57",
          "35",
          "41",
          "80",
          "77",
          "99",
          "100",
          "119",
          "56",
          "109",
          "104",
          "132",
          "64",
          "108",
          "46",
          "55",
          "68",
          "91",
          "126",
          "128",
          "122",
          "67",
          "69",
          "148",
          "124",
          "150",
          "138",
          "118",
          "149",
          "190",
          "188",
          "189",
          "186",
          "185",
          "187",
          "191",
          "192",
          "193",
          "137",
          "111",
          "134",
          "139",
          "146",
          "157",
          "147",
          "165",
          "154",
          "136",
          "141",
          "151",
          "159",
          "180",
          "183",
          "184",
          "167",
          "176",
          "174",
          "177",
          "178",
          "179",
          "182",
          "175",
          "181",
          "168",
          "152",
          "156",
          "145",
          "155",
          "173",
          "166",
          "162",
          "163",
          "170",
          "172",
          "160",
          "169",
          "171",
          "194",
          "195",
          "196",
          "197",
          "198"
         ],
         "tickvals": [
          5,
          15,
          25,
          35,
          45,
          55,
          65,
          75,
          85,
          95,
          105,
          115,
          125,
          135,
          145,
          155,
          165,
          175,
          185,
          195,
          205,
          215,
          225,
          235,
          245,
          255,
          265,
          275,
          285,
          295,
          305,
          315,
          325,
          335,
          345,
          355,
          365,
          375,
          385,
          395,
          405,
          415,
          425,
          435,
          445,
          455,
          465,
          475,
          485,
          495,
          505,
          515,
          525,
          535,
          545,
          555,
          565,
          575,
          585,
          595,
          605,
          615,
          625,
          635,
          645,
          655,
          665,
          675,
          685,
          695,
          705,
          715,
          725,
          735,
          745,
          755,
          765,
          775,
          785,
          795,
          805,
          815,
          825,
          835,
          845,
          855,
          865,
          875,
          885,
          895,
          905,
          915,
          925,
          935,
          945,
          955,
          965,
          975,
          985,
          995,
          1005,
          1015,
          1025,
          1035,
          1045,
          1055,
          1065,
          1075,
          1085,
          1095,
          1105,
          1115,
          1125,
          1135,
          1145,
          1155,
          1165,
          1175,
          1185,
          1195,
          1205,
          1215,
          1225,
          1235,
          1245,
          1255,
          1265,
          1275,
          1285,
          1295,
          1305,
          1315,
          1325,
          1335,
          1345,
          1355,
          1365,
          1375,
          1385,
          1395,
          1405,
          1415,
          1425,
          1435,
          1445,
          1455,
          1465,
          1475,
          1485,
          1495,
          1505,
          1515,
          1525,
          1535,
          1545,
          1555,
          1565,
          1575,
          1585,
          1595,
          1605,
          1615,
          1625,
          1635,
          1645,
          1655,
          1665,
          1675,
          1685,
          1695,
          1705,
          1715,
          1725,
          1735,
          1745,
          1755,
          1765,
          1775,
          1785,
          1795,
          1805,
          1815,
          1825,
          1835,
          1845,
          1855,
          1865,
          1875,
          1885,
          1895,
          1905,
          1915,
          1925,
          1935,
          1945,
          1955,
          1965,
          1975,
          1985
         ],
         "title": {
          "text": "Sample index"
         },
         "type": "linear",
         "zeroline": false
        },
        "yaxis": {
         "mirror": "allticks",
         "rangemode": "tozero",
         "showgrid": false,
         "showline": true,
         "showticklabels": true,
         "ticks": "outside",
         "title": {
          "text": "Cluster distance"
         },
         "type": "linear",
         "zeroline": false
        }
       }
      },
      "text/html": [
       "<div>                            <div id=\"2230b15d-901e-487c-89f8-a2fe4b179278\" class=\"plotly-graph-div\" style=\"height:600px; width:1000px;\"></div>            <script type=\"text/javascript\">                require([\"plotly\"], function(Plotly) {                    window.PLOTLYENV=window.PLOTLYENV || {};                                    if (document.getElementById(\"2230b15d-901e-487c-89f8-a2fe4b179278\")) {                    Plotly.newPlot(                        \"2230b15d-901e-487c-89f8-a2fe4b179278\",                        [{\"hoverinfo\": \"text\", \"marker\": {\"color\": \"rgb(61,153,112)\"}, \"mode\": \"lines\", \"type\": \"scatter\", \"x\": [25.0, 25.0, 35.0, 35.0], \"xaxis\": \"x\", \"y\": [0.0, 3.0283510064199732, 3.0283510064199732, 0.0], \"yaxis\": \"y\"}, {\"hoverinfo\": \"text\", \"marker\": {\"color\": \"rgb(61,153,112)\"}, \"mode\": \"lines\", \"type\": \"scatter\", \"x\": [15.0, 15.0, 30.0, 30.0], \"xaxis\": \"x\", \"y\": [0.0, 6.152606297363946, 6.152606297363946, 3.0283510064199732], \"yaxis\": \"y\"}, {\"hoverinfo\": \"text\", \"marker\": {\"color\": \"rgb(61,153,112)\"}, \"mode\": \"lines\", \"type\": \"scatter\", \"x\": [5.0, 5.0, 22.5, 22.5], \"xaxis\": \"x\", \"y\": [0.0, 6.596613352054572, 6.596613352054572, 6.152606297363946], \"yaxis\": \"y\"}, {\"hoverinfo\": \"text\", \"marker\": {\"color\": \"rgb(61,153,112)\"}, \"mode\": \"lines\", \"type\": \"scatter\", \"x\": [65.0, 65.0, 75.0, 75.0], \"xaxis\": \"x\", \"y\": [0.0, 2.8776810444112817, 2.8776810444112817, 0.0], \"yaxis\": \"y\"}, {\"hoverinfo\": \"text\", \"marker\": {\"color\": \"rgb(61,153,112)\"}, \"mode\": \"lines\", \"type\": \"scatter\", \"x\": [55.0, 55.0, 70.0, 70.0], \"xaxis\": \"x\", \"y\": [0.0, 5.446129785964572, 5.446129785964572, 2.8776810444112817], \"yaxis\": \"y\"}, {\"hoverinfo\": \"text\", \"marker\": {\"color\": \"rgb(61,153,112)\"}, \"mode\": \"lines\", \"type\": \"scatter\", \"x\": [45.0, 45.0, 62.5, 62.5], \"xaxis\": \"x\", \"y\": [0.0, 9.490179559341893, 9.490179559341893, 5.446129785964572], \"yaxis\": \"y\"}, {\"hoverinfo\": \"text\", \"marker\": {\"color\": \"rgb(61,153,112)\"}, \"mode\": \"lines\", \"type\": \"scatter\", \"x\": [13.75, 13.75, 53.75, 53.75], \"xaxis\": \"x\", \"y\": [6.596613352054572, 22.808212550250104, 22.808212550250104, 9.490179559341893], \"yaxis\": \"y\"}, {\"hoverinfo\": \"text\", \"marker\": {\"color\": \"rgb(61,153,112)\"}, \"mode\": \"lines\", \"type\": \"scatter\", \"x\": [105.0, 105.0, 115.0, 115.0], \"xaxis\": \"x\", \"y\": [0.0, 4.6557697989289375, 4.6557697989289375, 0.0], \"yaxis\": \"y\"}, {\"hoverinfo\": \"text\", \"marker\": {\"color\": \"rgb(61,153,112)\"}, \"mode\": \"lines\", \"type\": \"scatter\", \"x\": [95.0, 95.0, 110.0, 110.0], \"xaxis\": \"x\", \"y\": [0.0, 5.8334755722058915, 5.8334755722058915, 4.6557697989289375], \"yaxis\": \"y\"}, {\"hoverinfo\": \"text\", \"marker\": {\"color\": \"rgb(61,153,112)\"}, \"mode\": \"lines\", \"type\": \"scatter\", \"x\": [85.0, 85.0, 102.5, 102.5], \"xaxis\": \"x\", \"y\": [0.0, 11.77245509364251, 11.77245509364251, 5.8334755722058915], \"yaxis\": \"y\"}, {\"hoverinfo\": \"text\", \"marker\": {\"color\": \"rgb(61,153,112)\"}, \"mode\": \"lines\", \"type\": \"scatter\", \"x\": [135.0, 135.0, 145.0, 145.0], \"xaxis\": \"x\", \"y\": [0.0, 4.736609513972928, 4.736609513972928, 0.0], \"yaxis\": \"y\"}, {\"hoverinfo\": \"text\", \"marker\": {\"color\": \"rgb(61,153,112)\"}, \"mode\": \"lines\", \"type\": \"scatter\", \"x\": [125.0, 125.0, 140.0, 140.0], \"xaxis\": \"x\", \"y\": [0.0, 12.346681024626863, 12.346681024626863, 4.736609513972928], \"yaxis\": \"y\"}, {\"hoverinfo\": \"text\", \"marker\": {\"color\": \"rgb(61,153,112)\"}, \"mode\": \"lines\", \"type\": \"scatter\", \"x\": [93.75, 93.75, 132.5, 132.5], \"xaxis\": \"x\", \"y\": [11.77245509364251, 25.824962584567174, 25.824962584567174, 12.346681024626863], \"yaxis\": \"y\"}, {\"hoverinfo\": \"text\", \"marker\": {\"color\": \"rgb(61,153,112)\"}, \"mode\": \"lines\", \"type\": \"scatter\", \"x\": [33.75, 33.75, 113.125, 113.125], \"xaxis\": \"x\", \"y\": [22.808212550250104, 55.5164076639732, 55.5164076639732, 25.824962584567174], \"yaxis\": \"y\"}, {\"hoverinfo\": \"text\", \"marker\": {\"color\": \"rgb(61,153,112)\"}, \"mode\": \"lines\", \"type\": \"scatter\", \"x\": [155.0, 155.0, 165.0, 165.0], \"xaxis\": \"x\", \"y\": [0.0, 5.8334755722058915, 5.8334755722058915, 0.0], \"yaxis\": \"y\"}, {\"hoverinfo\": \"text\", \"marker\": {\"color\": \"rgb(61,153,112)\"}, \"mode\": \"lines\", \"type\": \"scatter\", \"x\": [195.0, 195.0, 205.0, 205.0], \"xaxis\": \"x\", \"y\": [0.0, 2.6771140975768404, 2.6771140975768404, 0.0], \"yaxis\": \"y\"}, {\"hoverinfo\": \"text\", \"marker\": {\"color\": \"rgb(61,153,112)\"}, \"mode\": \"lines\", \"type\": \"scatter\", \"x\": [185.0, 185.0, 200.0, 200.0], \"xaxis\": \"x\", \"y\": [0.0, 5.0794352303102555, 5.0794352303102555, 2.6771140975768404], \"yaxis\": \"y\"}, {\"hoverinfo\": \"text\", \"marker\": {\"color\": \"rgb(61,153,112)\"}, \"mode\": \"lines\", \"type\": \"scatter\", \"x\": [175.0, 175.0, 192.5, 192.5], \"xaxis\": \"x\", \"y\": [0.0, 8.191465763751486, 8.191465763751486, 5.0794352303102555], \"yaxis\": \"y\"}, {\"hoverinfo\": \"text\", \"marker\": {\"color\": \"rgb(61,153,112)\"}, \"mode\": \"lines\", \"type\": \"scatter\", \"x\": [160.0, 160.0, 183.75, 183.75], \"xaxis\": \"x\", \"y\": [5.8334755722058915, 15.780021915717668, 15.780021915717668, 8.191465763751486], \"yaxis\": \"y\"}, {\"hoverinfo\": \"text\", \"marker\": {\"color\": \"rgb(61,153,112)\"}, \"mode\": \"lines\", \"type\": \"scatter\", \"x\": [225.0, 225.0, 235.0, 235.0], \"xaxis\": \"x\", \"y\": [0.0, 2.3981178050308123, 2.3981178050308123, 0.0], \"yaxis\": \"y\"}, {\"hoverinfo\": \"text\", \"marker\": {\"color\": \"rgb(61,153,112)\"}, \"mode\": \"lines\", \"type\": \"scatter\", \"x\": [215.0, 215.0, 230.0, 230.0], \"xaxis\": \"x\", \"y\": [0.0, 9.824575417976298, 9.824575417976298, 2.3981178050308123], \"yaxis\": \"y\"}, {\"hoverinfo\": \"text\", \"marker\": {\"color\": \"rgb(61,153,112)\"}, \"mode\": \"lines\", \"type\": \"scatter\", \"x\": [255.0, 255.0, 265.0, 265.0], \"xaxis\": \"x\", \"y\": [0.0, 3.76393202250021, 3.76393202250021, 0.0], \"yaxis\": \"y\"}, {\"hoverinfo\": \"text\", \"marker\": {\"color\": \"rgb(61,153,112)\"}, \"mode\": \"lines\", \"type\": \"scatter\", \"x\": [275.0, 275.0, 285.0, 285.0], \"xaxis\": \"x\", \"y\": [0.0, 5.1724064755938, 5.1724064755938, 0.0], \"yaxis\": \"y\"}, {\"hoverinfo\": \"text\", \"marker\": {\"color\": \"rgb(61,153,112)\"}, \"mode\": \"lines\", \"type\": \"scatter\", \"x\": [260.0, 260.0, 280.0, 280.0], \"xaxis\": \"x\", \"y\": [3.76393202250021, 5.803054771382332, 5.803054771382332, 5.1724064755938], \"yaxis\": \"y\"}, {\"hoverinfo\": \"text\", \"marker\": {\"color\": \"rgb(61,153,112)\"}, \"mode\": \"lines\", \"type\": \"scatter\", \"x\": [245.0, 245.0, 270.0, 270.0], \"xaxis\": \"x\", \"y\": [0.0, 11.611824789386187, 11.611824789386187, 5.803054771382332], \"yaxis\": \"y\"}, {\"hoverinfo\": \"text\", \"marker\": {\"color\": \"rgb(61,153,112)\"}, \"mode\": \"lines\", \"type\": \"scatter\", \"x\": [222.5, 222.5, 257.5, 257.5], \"xaxis\": \"x\", \"y\": [9.824575417976298, 21.33393014896874, 21.33393014896874, 11.611824789386187], \"yaxis\": \"y\"}, {\"hoverinfo\": \"text\", \"marker\": {\"color\": \"rgb(61,153,112)\"}, \"mode\": \"lines\", \"type\": \"scatter\", \"x\": [171.875, 171.875, 240.0, 240.0], \"xaxis\": \"x\", \"y\": [15.780021915717668, 42.45059090375515, 42.45059090375515, 21.33393014896874], \"yaxis\": \"y\"}, {\"hoverinfo\": \"text\", \"marker\": {\"color\": \"rgb(61,153,112)\"}, \"mode\": \"lines\", \"type\": \"scatter\", \"x\": [305.0, 305.0, 315.0, 315.0], \"xaxis\": \"x\", \"y\": [0.0, 2.4153652956609433, 2.4153652956609433, 0.0], \"yaxis\": \"y\"}, {\"hoverinfo\": \"text\", \"marker\": {\"color\": \"rgb(61,153,112)\"}, \"mode\": \"lines\", \"type\": \"scatter\", \"x\": [295.0, 295.0, 310.0, 310.0], \"xaxis\": \"x\", \"y\": [0.0, 5.940680684220854, 5.940680684220854, 2.4153652956609433], \"yaxis\": \"y\"}, {\"hoverinfo\": \"text\", \"marker\": {\"color\": \"rgb(61,153,112)\"}, \"mode\": \"lines\", \"type\": \"scatter\", \"x\": [335.0, 335.0, 345.0, 345.0], \"xaxis\": \"x\", \"y\": [0.0, 3.446082486447894, 3.446082486447894, 0.0], \"yaxis\": \"y\"}, {\"hoverinfo\": \"text\", \"marker\": {\"color\": \"rgb(61,153,112)\"}, \"mode\": \"lines\", \"type\": \"scatter\", \"x\": [325.0, 325.0, 340.0, 340.0], \"xaxis\": \"x\", \"y\": [0.0, 7.227063537723986, 7.227063537723986, 3.446082486447894], \"yaxis\": \"y\"}, {\"hoverinfo\": \"text\", \"marker\": {\"color\": \"rgb(61,153,112)\"}, \"mode\": \"lines\", \"type\": \"scatter\", \"x\": [302.5, 302.5, 332.5, 332.5], \"xaxis\": \"x\", \"y\": [5.940680684220854, 18.52445923087333, 18.52445923087333, 7.227063537723986], \"yaxis\": \"y\"}, {\"hoverinfo\": \"text\", \"marker\": {\"color\": \"rgb(61,153,112)\"}, \"mode\": \"lines\", \"type\": \"scatter\", \"x\": [355.0, 355.0, 365.0, 365.0], \"xaxis\": \"x\", \"y\": [0.0, 7.214965564020444, 7.214965564020444, 0.0], \"yaxis\": \"y\"}, {\"hoverinfo\": \"text\", \"marker\": {\"color\": \"rgb(61,153,112)\"}, \"mode\": \"lines\", \"type\": \"scatter\", \"x\": [375.0, 375.0, 385.0, 385.0], \"xaxis\": \"x\", \"y\": [0.0, 2.280071518082201, 2.280071518082201, 0.0], \"yaxis\": \"y\"}, {\"hoverinfo\": \"text\", \"marker\": {\"color\": \"rgb(61,153,112)\"}, \"mode\": \"lines\", \"type\": \"scatter\", \"x\": [405.0, 405.0, 415.0, 415.0], \"xaxis\": \"x\", \"y\": [0.0, 5.058022551847833, 5.058022551847833, 0.0], \"yaxis\": \"y\"}, {\"hoverinfo\": \"text\", \"marker\": {\"color\": \"rgb(61,153,112)\"}, \"mode\": \"lines\", \"type\": \"scatter\", \"x\": [395.0, 395.0, 410.0, 410.0], \"xaxis\": \"x\", \"y\": [0.0, 6.471126988663018, 6.471126988663018, 5.058022551847833], \"yaxis\": \"y\"}, {\"hoverinfo\": \"text\", \"marker\": {\"color\": \"rgb(61,153,112)\"}, \"mode\": \"lines\", \"type\": \"scatter\", \"x\": [380.0, 380.0, 402.5, 402.5], \"xaxis\": \"x\", \"y\": [2.280071518082201, 10.44099078780018, 10.44099078780018, 6.471126988663018], \"yaxis\": \"y\"}, {\"hoverinfo\": \"text\", \"marker\": {\"color\": \"rgb(61,153,112)\"}, \"mode\": \"lines\", \"type\": \"scatter\", \"x\": [360.0, 360.0, 391.25, 391.25], \"xaxis\": \"x\", \"y\": [7.214965564020444, 22.035961339024926, 22.035961339024926, 10.44099078780018], \"yaxis\": \"y\"}, {\"hoverinfo\": \"text\", \"marker\": {\"color\": \"rgb(61,153,112)\"}, \"mode\": \"lines\", \"type\": \"scatter\", \"x\": [317.5, 317.5, 375.625, 375.625], \"xaxis\": \"x\", \"y\": [18.52445923087333, 48.08356722677221, 48.08356722677221, 22.035961339024926], \"yaxis\": \"y\"}, {\"hoverinfo\": \"text\", \"marker\": {\"color\": \"rgb(61,153,112)\"}, \"mode\": \"lines\", \"type\": \"scatter\", \"x\": [205.9375, 205.9375, 346.5625, 346.5625], \"xaxis\": \"x\", \"y\": [42.45059090375515, 100.50643838022161, 100.50643838022161, 48.08356722677221], \"yaxis\": \"y\"}, {\"hoverinfo\": \"text\", \"marker\": {\"color\": \"rgb(61,153,112)\"}, \"mode\": \"lines\", \"type\": \"scatter\", \"x\": [73.4375, 73.4375, 276.25, 276.25], \"xaxis\": \"x\", \"y\": [55.5164076639732, 161.22533205161832, 161.22533205161832, 100.50643838022161], \"yaxis\": \"y\"}, {\"hoverinfo\": \"text\", \"marker\": {\"color\": \"rgb(255,65,54)\"}, \"mode\": \"lines\", \"type\": \"scatter\", \"x\": [425.0, 425.0, 435.0, 435.0], \"xaxis\": \"x\", \"y\": [0.0, 17.650671473083502, 17.650671473083502, 0.0], \"yaxis\": \"y\"}, {\"hoverinfo\": \"text\", \"marker\": {\"color\": \"rgb(255,65,54)\"}, \"mode\": \"lines\", \"type\": \"scatter\", \"x\": [455.0, 455.0, 465.0, 465.0], \"xaxis\": \"x\", \"y\": [0.0, 8.211078158487101, 8.211078158487101, 0.0], \"yaxis\": \"y\"}, {\"hoverinfo\": \"text\", \"marker\": {\"color\": \"rgb(255,65,54)\"}, \"mode\": \"lines\", \"type\": \"scatter\", \"x\": [445.0, 445.0, 460.0, 460.0], \"xaxis\": \"x\", \"y\": [0.0, 14.387199115753916, 14.387199115753916, 8.211078158487101], \"yaxis\": \"y\"}, {\"hoverinfo\": \"text\", \"marker\": {\"color\": \"rgb(255,65,54)\"}, \"mode\": \"lines\", \"type\": \"scatter\", \"x\": [485.0, 485.0, 495.0, 495.0], \"xaxis\": \"x\", \"y\": [0.0, 6.494266014950424, 6.494266014950424, 0.0], \"yaxis\": \"y\"}, {\"hoverinfo\": \"text\", \"marker\": {\"color\": \"rgb(255,65,54)\"}, \"mode\": \"lines\", \"type\": \"scatter\", \"x\": [475.0, 475.0, 490.0, 490.0], \"xaxis\": \"x\", \"y\": [0.0, 10.547623998605204, 10.547623998605204, 6.494266014950424], \"yaxis\": \"y\"}, {\"hoverinfo\": \"text\", \"marker\": {\"color\": \"rgb(255,65,54)\"}, \"mode\": \"lines\", \"type\": \"scatter\", \"x\": [505.0, 505.0, 515.0, 515.0], \"xaxis\": \"x\", \"y\": [0.0, 12.9553563794816, 12.9553563794816, 0.0], \"yaxis\": \"y\"}, {\"hoverinfo\": \"text\", \"marker\": {\"color\": \"rgb(255,65,54)\"}, \"mode\": \"lines\", \"type\": \"scatter\", \"x\": [482.5, 482.5, 510.0, 510.0], \"xaxis\": \"x\", \"y\": [10.547623998605204, 23.39724308298122, 23.39724308298122, 12.9553563794816], \"yaxis\": \"y\"}, {\"hoverinfo\": \"text\", \"marker\": {\"color\": \"rgb(255,65,54)\"}, \"mode\": \"lines\", \"type\": \"scatter\", \"x\": [452.5, 452.5, 496.25, 496.25], \"xaxis\": \"x\", \"y\": [14.387199115753916, 30.18659468693009, 30.18659468693009, 23.39724308298122], \"yaxis\": \"y\"}, {\"hoverinfo\": \"text\", \"marker\": {\"color\": \"rgb(255,65,54)\"}, \"mode\": \"lines\", \"type\": \"scatter\", \"x\": [430.0, 430.0, 474.375, 474.375], \"xaxis\": \"x\", \"y\": [17.650671473083502, 50.14233037628159, 50.14233037628159, 30.18659468693009], \"yaxis\": \"y\"}, {\"hoverinfo\": \"text\", \"marker\": {\"color\": \"rgb(255,65,54)\"}, \"mode\": \"lines\", \"type\": \"scatter\", \"x\": [535.0, 535.0, 545.0, 545.0], \"xaxis\": \"x\", \"y\": [0.0, 13.457244125943246, 13.457244125943246, 0.0], \"yaxis\": \"y\"}, {\"hoverinfo\": \"text\", \"marker\": {\"color\": \"rgb(255,65,54)\"}, \"mode\": \"lines\", \"type\": \"scatter\", \"x\": [525.0, 525.0, 540.0, 540.0], \"xaxis\": \"x\", \"y\": [0.0, 27.42445153047527, 27.42445153047527, 13.457244125943246], \"yaxis\": \"y\"}, {\"hoverinfo\": \"text\", \"marker\": {\"color\": \"rgb(255,65,54)\"}, \"mode\": \"lines\", \"type\": \"scatter\", \"x\": [555.0, 555.0, 565.0, 565.0], \"xaxis\": \"x\", \"y\": [0.0, 10.075056173235994, 10.075056173235994, 0.0], \"yaxis\": \"y\"}, {\"hoverinfo\": \"text\", \"marker\": {\"color\": \"rgb(255,65,54)\"}, \"mode\": \"lines\", \"type\": \"scatter\", \"x\": [575.0, 575.0, 585.0, 585.0], \"xaxis\": \"x\", \"y\": [0.0, 13.439113235583706, 13.439113235583706, 0.0], \"yaxis\": \"y\"}, {\"hoverinfo\": \"text\", \"marker\": {\"color\": \"rgb(255,65,54)\"}, \"mode\": \"lines\", \"type\": \"scatter\", \"x\": [560.0, 560.0, 580.0, 580.0], \"xaxis\": \"x\", \"y\": [10.075056173235994, 38.487852833354616, 38.487852833354616, 13.439113235583706], \"yaxis\": \"y\"}, {\"hoverinfo\": \"text\", \"marker\": {\"color\": \"rgb(255,65,54)\"}, \"mode\": \"lines\", \"type\": \"scatter\", \"x\": [532.5, 532.5, 570.0, 570.0], \"xaxis\": \"x\", \"y\": [27.42445153047527, 64.62790249715904, 64.62790249715904, 38.487852833354616], \"yaxis\": \"y\"}, {\"hoverinfo\": \"text\", \"marker\": {\"color\": \"rgb(255,65,54)\"}, \"mode\": \"lines\", \"type\": \"scatter\", \"x\": [452.1875, 452.1875, 551.25, 551.25], \"xaxis\": \"x\", \"y\": [50.14233037628159, 94.27091926342229, 94.27091926342229, 64.62790249715904], \"yaxis\": \"y\"}, {\"hoverinfo\": \"text\", \"marker\": {\"color\": \"rgb(255,65,54)\"}, \"mode\": \"lines\", \"type\": \"scatter\", \"x\": [605.0, 605.0, 615.0, 615.0], \"xaxis\": \"x\", \"y\": [0.0, 14.200161246102676, 14.200161246102676, 0.0], \"yaxis\": \"y\"}, {\"hoverinfo\": \"text\", \"marker\": {\"color\": \"rgb(255,65,54)\"}, \"mode\": \"lines\", \"type\": \"scatter\", \"x\": [595.0, 595.0, 610.0, 610.0], \"xaxis\": \"x\", \"y\": [0.0, 43.90100244083503, 43.90100244083503, 14.200161246102676], \"yaxis\": \"y\"}, {\"hoverinfo\": \"text\", \"marker\": {\"color\": \"rgb(255,65,54)\"}, \"mode\": \"lines\", \"type\": \"scatter\", \"x\": [645.0, 645.0, 655.0, 655.0], \"xaxis\": \"x\", \"y\": [0.0, 7.507753958925258, 7.507753958925258, 0.0], \"yaxis\": \"y\"}, {\"hoverinfo\": \"text\", \"marker\": {\"color\": \"rgb(255,65,54)\"}, \"mode\": \"lines\", \"type\": \"scatter\", \"x\": [635.0, 635.0, 650.0, 650.0], \"xaxis\": \"x\", \"y\": [0.0, 13.267708250379572, 13.267708250379572, 7.507753958925258], \"yaxis\": \"y\"}, {\"hoverinfo\": \"text\", \"marker\": {\"color\": \"rgb(255,65,54)\"}, \"mode\": \"lines\", \"type\": \"scatter\", \"x\": [625.0, 625.0, 642.5, 642.5], \"xaxis\": \"x\", \"y\": [0.0, 20.49197727905235, 20.49197727905235, 13.267708250379572], \"yaxis\": \"y\"}, {\"hoverinfo\": \"text\", \"marker\": {\"color\": \"rgb(255,65,54)\"}, \"mode\": \"lines\", \"type\": \"scatter\", \"x\": [675.0, 675.0, 685.0, 685.0], \"xaxis\": \"x\", \"y\": [0.0, 11.597872544246643, 11.597872544246643, 0.0], \"yaxis\": \"y\"}, {\"hoverinfo\": \"text\", \"marker\": {\"color\": \"rgb(255,65,54)\"}, \"mode\": \"lines\", \"type\": \"scatter\", \"x\": [705.0, 705.0, 715.0, 715.0], \"xaxis\": \"x\", \"y\": [0.0, 7.808211438063549, 7.808211438063549, 0.0], \"yaxis\": \"y\"}, {\"hoverinfo\": \"text\", \"marker\": {\"color\": \"rgb(255,65,54)\"}, \"mode\": \"lines\", \"type\": \"scatter\", \"x\": [695.0, 695.0, 710.0, 710.0], \"xaxis\": \"x\", \"y\": [0.0, 19.282962973959066, 19.282962973959066, 7.808211438063549], \"yaxis\": \"y\"}, {\"hoverinfo\": \"text\", \"marker\": {\"color\": \"rgb(255,65,54)\"}, \"mode\": \"lines\", \"type\": \"scatter\", \"x\": [680.0, 680.0, 702.5, 702.5], \"xaxis\": \"x\", \"y\": [11.597872544246643, 28.528265015475668, 28.528265015475668, 19.282962973959066], \"yaxis\": \"y\"}, {\"hoverinfo\": \"text\", \"marker\": {\"color\": \"rgb(255,65,54)\"}, \"mode\": \"lines\", \"type\": \"scatter\", \"x\": [665.0, 665.0, 691.25, 691.25], \"xaxis\": \"x\", \"y\": [0.0, 37.09506043437392, 37.09506043437392, 28.528265015475668], \"yaxis\": \"y\"}, {\"hoverinfo\": \"text\", \"marker\": {\"color\": \"rgb(255,65,54)\"}, \"mode\": \"lines\", \"type\": \"scatter\", \"x\": [633.75, 633.75, 678.125, 678.125], \"xaxis\": \"x\", \"y\": [20.49197727905235, 65.01795212794848, 65.01795212794848, 37.09506043437392], \"yaxis\": \"y\"}, {\"hoverinfo\": \"text\", \"marker\": {\"color\": \"rgb(255,65,54)\"}, \"mode\": \"lines\", \"type\": \"scatter\", \"x\": [602.5, 602.5, 655.9375, 655.9375], \"xaxis\": \"x\", \"y\": [43.90100244083503, 95.81839233779901, 95.81839233779901, 65.01795212794848], \"yaxis\": \"y\"}, {\"hoverinfo\": \"text\", \"marker\": {\"color\": \"rgb(255,65,54)\"}, \"mode\": \"lines\", \"type\": \"scatter\", \"x\": [501.71875, 501.71875, 629.21875, 629.21875], \"xaxis\": \"x\", \"y\": [94.27091926342229, 136.4328128507406, 136.4328128507406, 95.81839233779901], \"yaxis\": \"y\"}, {\"hoverinfo\": \"text\", \"marker\": {\"color\": \"rgb(35,205,205)\"}, \"mode\": \"lines\", \"type\": \"scatter\", \"x\": [735.0, 735.0, 745.0, 745.0], \"xaxis\": \"x\", \"y\": [0.0, 5.229743174922385, 5.229743174922385, 0.0], \"yaxis\": \"y\"}, {\"hoverinfo\": \"text\", \"marker\": {\"color\": \"rgb(35,205,205)\"}, \"mode\": \"lines\", \"type\": \"scatter\", \"x\": [725.0, 725.0, 740.0, 740.0], \"xaxis\": \"x\", \"y\": [0.0, 8.052008979757058, 8.052008979757058, 5.229743174922385], \"yaxis\": \"y\"}, {\"hoverinfo\": \"text\", \"marker\": {\"color\": \"rgb(35,205,205)\"}, \"mode\": \"lines\", \"type\": \"scatter\", \"x\": [765.0, 765.0, 775.0, 775.0], \"xaxis\": \"x\", \"y\": [0.0, 3.0893617265196207, 3.0893617265196207, 0.0], \"yaxis\": \"y\"}, {\"hoverinfo\": \"text\", \"marker\": {\"color\": \"rgb(35,205,205)\"}, \"mode\": \"lines\", \"type\": \"scatter\", \"x\": [755.0, 755.0, 770.0, 770.0], \"xaxis\": \"x\", \"y\": [0.0, 4.599068321817247, 4.599068321817247, 3.0893617265196207], \"yaxis\": \"y\"}, {\"hoverinfo\": \"text\", \"marker\": {\"color\": \"rgb(35,205,205)\"}, \"mode\": \"lines\", \"type\": \"scatter\", \"x\": [785.0, 785.0, 795.0, 795.0], \"xaxis\": \"x\", \"y\": [0.0, 6.340824927456996, 6.340824927456996, 0.0], \"yaxis\": \"y\"}, {\"hoverinfo\": \"text\", \"marker\": {\"color\": \"rgb(35,205,205)\"}, \"mode\": \"lines\", \"type\": \"scatter\", \"x\": [762.5, 762.5, 790.0, 790.0], \"xaxis\": \"x\", \"y\": [4.599068321817247, 12.653677560675902, 12.653677560675902, 6.340824927456996], \"yaxis\": \"y\"}, {\"hoverinfo\": \"text\", \"marker\": {\"color\": \"rgb(35,205,205)\"}, \"mode\": \"lines\", \"type\": \"scatter\", \"x\": [732.5, 732.5, 776.25, 776.25], \"xaxis\": \"x\", \"y\": [8.052008979757058, 19.52572318973377, 19.52572318973377, 12.653677560675902], \"yaxis\": \"y\"}, {\"hoverinfo\": \"text\", \"marker\": {\"color\": \"rgb(35,205,205)\"}, \"mode\": \"lines\", \"type\": \"scatter\", \"x\": [805.0, 805.0, 815.0, 815.0], \"xaxis\": \"x\", \"y\": [0.0, 3.850076033503781, 3.850076033503781, 0.0], \"yaxis\": \"y\"}, {\"hoverinfo\": \"text\", \"marker\": {\"color\": \"rgb(35,205,205)\"}, \"mode\": \"lines\", \"type\": \"scatter\", \"x\": [825.0, 825.0, 835.0, 835.0], \"xaxis\": \"x\", \"y\": [0.0, 8.672307138788534, 8.672307138788534, 0.0], \"yaxis\": \"y\"}, {\"hoverinfo\": \"text\", \"marker\": {\"color\": \"rgb(35,205,205)\"}, \"mode\": \"lines\", \"type\": \"scatter\", \"x\": [810.0, 810.0, 830.0, 830.0], \"xaxis\": \"x\", \"y\": [3.850076033503781, 11.823032552559521, 11.823032552559521, 8.672307138788534], \"yaxis\": \"y\"}, {\"hoverinfo\": \"text\", \"marker\": {\"color\": \"rgb(35,205,205)\"}, \"mode\": \"lines\", \"type\": \"scatter\", \"x\": [845.0, 845.0, 855.0, 855.0], \"xaxis\": \"x\", \"y\": [0.0, 7.676144239081846, 7.676144239081846, 0.0], \"yaxis\": \"y\"}, {\"hoverinfo\": \"text\", \"marker\": {\"color\": \"rgb(35,205,205)\"}, \"mode\": \"lines\", \"type\": \"scatter\", \"x\": [875.0, 875.0, 885.0, 885.0], \"xaxis\": \"x\", \"y\": [0.0, 5.969189703576505, 5.969189703576505, 0.0], \"yaxis\": \"y\"}, {\"hoverinfo\": \"text\", \"marker\": {\"color\": \"rgb(35,205,205)\"}, \"mode\": \"lines\", \"type\": \"scatter\", \"x\": [865.0, 865.0, 880.0, 880.0], \"xaxis\": \"x\", \"y\": [0.0, 13.006428574747279, 13.006428574747279, 5.969189703576505], \"yaxis\": \"y\"}, {\"hoverinfo\": \"text\", \"marker\": {\"color\": \"rgb(35,205,205)\"}, \"mode\": \"lines\", \"type\": \"scatter\", \"x\": [850.0, 850.0, 872.5, 872.5], \"xaxis\": \"x\", \"y\": [7.676144239081846, 15.471230844655587, 15.471230844655587, 13.006428574747279], \"yaxis\": \"y\"}, {\"hoverinfo\": \"text\", \"marker\": {\"color\": \"rgb(35,205,205)\"}, \"mode\": \"lines\", \"type\": \"scatter\", \"x\": [820.0, 820.0, 861.25, 861.25], \"xaxis\": \"x\", \"y\": [11.823032552559521, 27.449971266148264, 27.449971266148264, 15.471230844655587], \"yaxis\": \"y\"}, {\"hoverinfo\": \"text\", \"marker\": {\"color\": \"rgb(35,205,205)\"}, \"mode\": \"lines\", \"type\": \"scatter\", \"x\": [754.375, 754.375, 840.625, 840.625], \"xaxis\": \"x\", \"y\": [19.52572318973377, 52.90211090527346, 52.90211090527346, 27.449971266148264], \"yaxis\": \"y\"}, {\"hoverinfo\": \"text\", \"marker\": {\"color\": \"rgb(35,205,205)\"}, \"mode\": \"lines\", \"type\": \"scatter\", \"x\": [905.0, 905.0, 915.0, 915.0], \"xaxis\": \"x\", \"y\": [0.0, 5.387005165601967, 5.387005165601967, 0.0], \"yaxis\": \"y\"}, {\"hoverinfo\": \"text\", \"marker\": {\"color\": \"rgb(35,205,205)\"}, \"mode\": \"lines\", \"type\": \"scatter\", \"x\": [895.0, 895.0, 910.0, 910.0], \"xaxis\": \"x\", \"y\": [0.0, 18.170032370605426, 18.170032370605426, 5.387005165601967], \"yaxis\": \"y\"}, {\"hoverinfo\": \"text\", \"marker\": {\"color\": \"rgb(35,205,205)\"}, \"mode\": \"lines\", \"type\": \"scatter\", \"x\": [945.0, 945.0, 955.0, 955.0], \"xaxis\": \"x\", \"y\": [0.0, 4.573626603008292, 4.573626603008292, 0.0], \"yaxis\": \"y\"}, {\"hoverinfo\": \"text\", \"marker\": {\"color\": \"rgb(35,205,205)\"}, \"mode\": \"lines\", \"type\": \"scatter\", \"x\": [935.0, 935.0, 950.0, 950.0], \"xaxis\": \"x\", \"y\": [0.0, 6.2457258713883625, 6.2457258713883625, 4.573626603008292], \"yaxis\": \"y\"}, {\"hoverinfo\": \"text\", \"marker\": {\"color\": \"rgb(35,205,205)\"}, \"mode\": \"lines\", \"type\": \"scatter\", \"x\": [925.0, 925.0, 942.5, 942.5], \"xaxis\": \"x\", \"y\": [0.0, 10.576792271634291, 10.576792271634291, 6.2457258713883625], \"yaxis\": \"y\"}, {\"hoverinfo\": \"text\", \"marker\": {\"color\": \"rgb(35,205,205)\"}, \"mode\": \"lines\", \"type\": \"scatter\", \"x\": [965.0, 965.0, 975.0, 975.0], \"xaxis\": \"x\", \"y\": [0.0, 5.190137810098315, 5.190137810098315, 0.0], \"yaxis\": \"y\"}, {\"hoverinfo\": \"text\", \"marker\": {\"color\": \"rgb(35,205,205)\"}, \"mode\": \"lines\", \"type\": \"scatter\", \"x\": [995.0, 995.0, 1005.0, 1005.0], \"xaxis\": \"x\", \"y\": [0.0, 3.2266097632954103, 3.2266097632954103, 0.0], \"yaxis\": \"y\"}, {\"hoverinfo\": \"text\", \"marker\": {\"color\": \"rgb(35,205,205)\"}, \"mode\": \"lines\", \"type\": \"scatter\", \"x\": [985.0, 985.0, 1000.0, 1000.0], \"xaxis\": \"x\", \"y\": [0.0, 7.08969781055885, 7.08969781055885, 3.2266097632954103], \"yaxis\": \"y\"}, {\"hoverinfo\": \"text\", \"marker\": {\"color\": \"rgb(35,205,205)\"}, \"mode\": \"lines\", \"type\": \"scatter\", \"x\": [970.0, 970.0, 992.5, 992.5], \"xaxis\": \"x\", \"y\": [5.190137810098315, 14.718210814319312, 14.718210814319312, 7.08969781055885], \"yaxis\": \"y\"}, {\"hoverinfo\": \"text\", \"marker\": {\"color\": \"rgb(35,205,205)\"}, \"mode\": \"lines\", \"type\": \"scatter\", \"x\": [933.75, 933.75, 981.25, 981.25], \"xaxis\": \"x\", \"y\": [10.576792271634291, 31.496124881586574, 31.496124881586574, 14.718210814319312], \"yaxis\": \"y\"}, {\"hoverinfo\": \"text\", \"marker\": {\"color\": \"rgb(35,205,205)\"}, \"mode\": \"lines\", \"type\": \"scatter\", \"x\": [902.5, 902.5, 957.5, 957.5], \"xaxis\": \"x\", \"y\": [18.170032370605426, 55.48659944458928, 55.48659944458928, 31.496124881586574], \"yaxis\": \"y\"}, {\"hoverinfo\": \"text\", \"marker\": {\"color\": \"rgb(35,205,205)\"}, \"mode\": \"lines\", \"type\": \"scatter\", \"x\": [797.5, 797.5, 930.0, 930.0], \"xaxis\": \"x\", \"y\": [52.90211090527346, 114.60680820152608, 114.60680820152608, 55.48659944458928], \"yaxis\": \"y\"}, {\"hoverinfo\": \"text\", \"marker\": {\"color\": \"rgb(35,205,205)\"}, \"mode\": \"lines\", \"type\": \"scatter\", \"x\": [1025.0, 1025.0, 1035.0, 1035.0], \"xaxis\": \"x\", \"y\": [0.0, 14.22004738312306, 14.22004738312306, 0.0], \"yaxis\": \"y\"}, {\"hoverinfo\": \"text\", \"marker\": {\"color\": \"rgb(35,205,205)\"}, \"mode\": \"lines\", \"type\": \"scatter\", \"x\": [1055.0, 1055.0, 1065.0, 1065.0], \"xaxis\": \"x\", \"y\": [0.0, 14.475334608951663, 14.475334608951663, 0.0], \"yaxis\": \"y\"}, {\"hoverinfo\": \"text\", \"marker\": {\"color\": \"rgb(35,205,205)\"}, \"mode\": \"lines\", \"type\": \"scatter\", \"x\": [1045.0, 1045.0, 1060.0, 1060.0], \"xaxis\": \"x\", \"y\": [0.0, 27.356499440508422, 27.356499440508422, 14.475334608951663], \"yaxis\": \"y\"}, {\"hoverinfo\": \"text\", \"marker\": {\"color\": \"rgb(35,205,205)\"}, \"mode\": \"lines\", \"type\": \"scatter\", \"x\": [1030.0, 1030.0, 1052.5, 1052.5], \"xaxis\": \"x\", \"y\": [14.22004738312306, 38.327570848327575, 38.327570848327575, 27.356499440508422], \"yaxis\": \"y\"}, {\"hoverinfo\": \"text\", \"marker\": {\"color\": \"rgb(35,205,205)\"}, \"mode\": \"lines\", \"type\": \"scatter\", \"x\": [1015.0, 1015.0, 1041.25, 1041.25], \"xaxis\": \"x\", \"y\": [0.0, 73.1778760177366, 73.1778760177366, 38.327570848327575], \"yaxis\": \"y\"}, {\"hoverinfo\": \"text\", \"marker\": {\"color\": \"rgb(35,205,205)\"}, \"mode\": \"lines\", \"type\": \"scatter\", \"x\": [1085.0, 1085.0, 1095.0, 1095.0], \"xaxis\": \"x\", \"y\": [0.0, 5.105811479229149, 5.105811479229149, 0.0], \"yaxis\": \"y\"}, {\"hoverinfo\": \"text\", \"marker\": {\"color\": \"rgb(35,205,205)\"}, \"mode\": \"lines\", \"type\": \"scatter\", \"x\": [1075.0, 1075.0, 1090.0, 1090.0], \"xaxis\": \"x\", \"y\": [0.0, 10.18596816595126, 10.18596816595126, 5.105811479229149], \"yaxis\": \"y\"}, {\"hoverinfo\": \"text\", \"marker\": {\"color\": \"rgb(35,205,205)\"}, \"mode\": \"lines\", \"type\": \"scatter\", \"x\": [1105.0, 1105.0, 1115.0, 1115.0], \"xaxis\": \"x\", \"y\": [0.0, 5.0002057649238685, 5.0002057649238685, 0.0], \"yaxis\": \"y\"}, {\"hoverinfo\": \"text\", \"marker\": {\"color\": \"rgb(35,205,205)\"}, \"mode\": \"lines\", \"type\": \"scatter\", \"x\": [1125.0, 1125.0, 1135.0, 1135.0], \"xaxis\": \"x\", \"y\": [0.0, 9.763879010584539, 9.763879010584539, 0.0], \"yaxis\": \"y\"}, {\"hoverinfo\": \"text\", \"marker\": {\"color\": \"rgb(35,205,205)\"}, \"mode\": \"lines\", \"type\": \"scatter\", \"x\": [1110.0, 1110.0, 1130.0, 1130.0], \"xaxis\": \"x\", \"y\": [5.0002057649238685, 12.624816886248798, 12.624816886248798, 9.763879010584539], \"yaxis\": \"y\"}, {\"hoverinfo\": \"text\", \"marker\": {\"color\": \"rgb(35,205,205)\"}, \"mode\": \"lines\", \"type\": \"scatter\", \"x\": [1082.5, 1082.5, 1120.0, 1120.0], \"xaxis\": \"x\", \"y\": [10.18596816595126, 23.564097925699393, 23.564097925699393, 12.624816886248798], \"yaxis\": \"y\"}, {\"hoverinfo\": \"text\", \"marker\": {\"color\": \"rgb(35,205,205)\"}, \"mode\": \"lines\", \"type\": \"scatter\", \"x\": [1165.0, 1165.0, 1175.0, 1175.0], \"xaxis\": \"x\", \"y\": [0.0, 6.487249164301582, 6.487249164301582, 0.0], \"yaxis\": \"y\"}, {\"hoverinfo\": \"text\", \"marker\": {\"color\": \"rgb(35,205,205)\"}, \"mode\": \"lines\", \"type\": \"scatter\", \"x\": [1155.0, 1155.0, 1170.0, 1170.0], \"xaxis\": \"x\", \"y\": [0.0, 13.102908488118869, 13.102908488118869, 6.487249164301582], \"yaxis\": \"y\"}, {\"hoverinfo\": \"text\", \"marker\": {\"color\": \"rgb(35,205,205)\"}, \"mode\": \"lines\", \"type\": \"scatter\", \"x\": [1145.0, 1145.0, 1162.5, 1162.5], \"xaxis\": \"x\", \"y\": [0.0, 27.6956725789086, 27.6956725789086, 13.102908488118869], \"yaxis\": \"y\"}, {\"hoverinfo\": \"text\", \"marker\": {\"color\": \"rgb(35,205,205)\"}, \"mode\": \"lines\", \"type\": \"scatter\", \"x\": [1101.25, 1101.25, 1153.75, 1153.75], \"xaxis\": \"x\", \"y\": [23.564097925699393, 44.86103790793568, 44.86103790793568, 27.6956725789086], \"yaxis\": \"y\"}, {\"hoverinfo\": \"text\", \"marker\": {\"color\": \"rgb(35,205,205)\"}, \"mode\": \"lines\", \"type\": \"scatter\", \"x\": [1185.0, 1185.0, 1195.0, 1195.0], \"xaxis\": \"x\", \"y\": [0.0, 17.502126396209942, 17.502126396209942, 0.0], \"yaxis\": \"y\"}, {\"hoverinfo\": \"text\", \"marker\": {\"color\": \"rgb(35,205,205)\"}, \"mode\": \"lines\", \"type\": \"scatter\", \"x\": [1215.0, 1215.0, 1225.0, 1225.0], \"xaxis\": \"x\", \"y\": [0.0, 11.582430789036202, 11.582430789036202, 0.0], \"yaxis\": \"y\"}, {\"hoverinfo\": \"text\", \"marker\": {\"color\": \"rgb(35,205,205)\"}, \"mode\": \"lines\", \"type\": \"scatter\", \"x\": [1205.0, 1205.0, 1220.0, 1220.0], \"xaxis\": \"x\", \"y\": [0.0, 14.899952038377727, 14.899952038377727, 11.582430789036202], \"yaxis\": \"y\"}, {\"hoverinfo\": \"text\", \"marker\": {\"color\": \"rgb(35,205,205)\"}, \"mode\": \"lines\", \"type\": \"scatter\", \"x\": [1235.0, 1235.0, 1245.0, 1245.0], \"xaxis\": \"x\", \"y\": [0.0, 7.085938248612705, 7.085938248612705, 0.0], \"yaxis\": \"y\"}, {\"hoverinfo\": \"text\", \"marker\": {\"color\": \"rgb(35,205,205)\"}, \"mode\": \"lines\", \"type\": \"scatter\", \"x\": [1255.0, 1255.0, 1265.0, 1265.0], \"xaxis\": \"x\", \"y\": [0.0, 13.786785741219099, 13.786785741219099, 0.0], \"yaxis\": \"y\"}, {\"hoverinfo\": \"text\", \"marker\": {\"color\": \"rgb(35,205,205)\"}, \"mode\": \"lines\", \"type\": \"scatter\", \"x\": [1240.0, 1240.0, 1260.0, 1260.0], \"xaxis\": \"x\", \"y\": [7.085938248612705, 25.8606289912691, 25.8606289912691, 13.786785741219099], \"yaxis\": \"y\"}, {\"hoverinfo\": \"text\", \"marker\": {\"color\": \"rgb(35,205,205)\"}, \"mode\": \"lines\", \"type\": \"scatter\", \"x\": [1212.5, 1212.5, 1250.0, 1250.0], \"xaxis\": \"x\", \"y\": [14.899952038377727, 40.32086931556505, 40.32086931556505, 25.8606289912691], \"yaxis\": \"y\"}, {\"hoverinfo\": \"text\", \"marker\": {\"color\": \"rgb(35,205,205)\"}, \"mode\": \"lines\", \"type\": \"scatter\", \"x\": [1190.0, 1190.0, 1231.25, 1231.25], \"xaxis\": \"x\", \"y\": [17.502126396209942, 48.86316418526127, 48.86316418526127, 40.32086931556505], \"yaxis\": \"y\"}, {\"hoverinfo\": \"text\", \"marker\": {\"color\": \"rgb(35,205,205)\"}, \"mode\": \"lines\", \"type\": \"scatter\", \"x\": [1127.5, 1127.5, 1210.625, 1210.625], \"xaxis\": \"x\", \"y\": [44.86103790793568, 81.64644582322265, 81.64644582322265, 48.86316418526127], \"yaxis\": \"y\"}, {\"hoverinfo\": \"text\", \"marker\": {\"color\": \"rgb(35,205,205)\"}, \"mode\": \"lines\", \"type\": \"scatter\", \"x\": [1028.125, 1028.125, 1169.0625, 1169.0625], \"xaxis\": \"x\", \"y\": [73.1778760177366, 118.04979558978339, 118.04979558978339, 81.64644582322265], \"yaxis\": \"y\"}, {\"hoverinfo\": \"text\", \"marker\": {\"color\": \"rgb(35,205,205)\"}, \"mode\": \"lines\", \"type\": \"scatter\", \"x\": [1275.0, 1275.0, 1285.0, 1285.0], \"xaxis\": \"x\", \"y\": [0.0, 14.412602210804256, 14.412602210804256, 0.0], \"yaxis\": \"y\"}, {\"hoverinfo\": \"text\", \"marker\": {\"color\": \"rgb(35,205,205)\"}, \"mode\": \"lines\", \"type\": \"scatter\", \"x\": [1295.0, 1295.0, 1305.0, 1305.0], \"xaxis\": \"x\", \"y\": [0.0, 12.828619484113942, 12.828619484113942, 0.0], \"yaxis\": \"y\"}, {\"hoverinfo\": \"text\", \"marker\": {\"color\": \"rgb(35,205,205)\"}, \"mode\": \"lines\", \"type\": \"scatter\", \"x\": [1325.0, 1325.0, 1335.0, 1335.0], \"xaxis\": \"x\", \"y\": [0.0, 14.068427111872268, 14.068427111872268, 0.0], \"yaxis\": \"y\"}, {\"hoverinfo\": \"text\", \"marker\": {\"color\": \"rgb(35,205,205)\"}, \"mode\": \"lines\", \"type\": \"scatter\", \"x\": [1315.0, 1315.0, 1330.0, 1330.0], \"xaxis\": \"x\", \"y\": [0.0, 23.437861108329262, 23.437861108329262, 14.068427111872268], \"yaxis\": \"y\"}, {\"hoverinfo\": \"text\", \"marker\": {\"color\": \"rgb(35,205,205)\"}, \"mode\": \"lines\", \"type\": \"scatter\", \"x\": [1300.0, 1300.0, 1322.5, 1322.5], \"xaxis\": \"x\", \"y\": [12.828619484113942, 36.21349120236059, 36.21349120236059, 23.437861108329262], \"yaxis\": \"y\"}, {\"hoverinfo\": \"text\", \"marker\": {\"color\": \"rgb(35,205,205)\"}, \"mode\": \"lines\", \"type\": \"scatter\", \"x\": [1280.0, 1280.0, 1311.25, 1311.25], \"xaxis\": \"x\", \"y\": [14.412602210804256, 60.76224683985066, 60.76224683985066, 36.21349120236059], \"yaxis\": \"y\"}, {\"hoverinfo\": \"text\", \"marker\": {\"color\": \"rgb(35,205,205)\"}, \"mode\": \"lines\", \"type\": \"scatter\", \"x\": [1355.0, 1355.0, 1365.0, 1365.0], \"xaxis\": \"x\", \"y\": [0.0, 6.483507175123259, 6.483507175123259, 0.0], \"yaxis\": \"y\"}, {\"hoverinfo\": \"text\", \"marker\": {\"color\": \"rgb(35,205,205)\"}, \"mode\": \"lines\", \"type\": \"scatter\", \"x\": [1345.0, 1345.0, 1360.0, 1360.0], \"xaxis\": \"x\", \"y\": [0.0, 16.575248633029922, 16.575248633029922, 6.483507175123259], \"yaxis\": \"y\"}, {\"hoverinfo\": \"text\", \"marker\": {\"color\": \"rgb(35,205,205)\"}, \"mode\": \"lines\", \"type\": \"scatter\", \"x\": [1385.0, 1385.0, 1395.0, 1395.0], \"xaxis\": \"x\", \"y\": [0.0, 11.490862981615656, 11.490862981615656, 0.0], \"yaxis\": \"y\"}, {\"hoverinfo\": \"text\", \"marker\": {\"color\": \"rgb(35,205,205)\"}, \"mode\": \"lines\", \"type\": \"scatter\", \"x\": [1375.0, 1375.0, 1390.0, 1390.0], \"xaxis\": \"x\", \"y\": [0.0, 19.931095367795148, 19.931095367795148, 11.490862981615656], \"yaxis\": \"y\"}, {\"hoverinfo\": \"text\", \"marker\": {\"color\": \"rgb(35,205,205)\"}, \"mode\": \"lines\", \"type\": \"scatter\", \"x\": [1352.5, 1352.5, 1382.5, 1382.5], \"xaxis\": \"x\", \"y\": [16.575248633029922, 38.50116175757175, 38.50116175757175, 19.931095367795148], \"yaxis\": \"y\"}, {\"hoverinfo\": \"text\", \"marker\": {\"color\": \"rgb(35,205,205)\"}, \"mode\": \"lines\", \"type\": \"scatter\", \"x\": [1415.0, 1415.0, 1425.0, 1425.0], \"xaxis\": \"x\", \"y\": [0.0, 11.737606339839033, 11.737606339839033, 0.0], \"yaxis\": \"y\"}, {\"hoverinfo\": \"text\", \"marker\": {\"color\": \"rgb(35,205,205)\"}, \"mode\": \"lines\", \"type\": \"scatter\", \"x\": [1405.0, 1405.0, 1420.0, 1420.0], \"xaxis\": \"x\", \"y\": [0.0, 22.114659838246453, 22.114659838246453, 11.737606339839033], \"yaxis\": \"y\"}, {\"hoverinfo\": \"text\", \"marker\": {\"color\": \"rgb(35,205,205)\"}, \"mode\": \"lines\", \"type\": \"scatter\", \"x\": [1445.0, 1445.0, 1455.0, 1455.0], \"xaxis\": \"x\", \"y\": [0.0, 8.144180968619962, 8.144180968619962, 0.0], \"yaxis\": \"y\"}, {\"hoverinfo\": \"text\", \"marker\": {\"color\": \"rgb(35,205,205)\"}, \"mode\": \"lines\", \"type\": \"scatter\", \"x\": [1435.0, 1435.0, 1450.0, 1450.0], \"xaxis\": \"x\", \"y\": [0.0, 23.24830913295429, 23.24830913295429, 8.144180968619962], \"yaxis\": \"y\"}, {\"hoverinfo\": \"text\", \"marker\": {\"color\": \"rgb(35,205,205)\"}, \"mode\": \"lines\", \"type\": \"scatter\", \"x\": [1412.5, 1412.5, 1442.5, 1442.5], \"xaxis\": \"x\", \"y\": [22.114659838246453, 42.73177631788212, 42.73177631788212, 23.24830913295429], \"yaxis\": \"y\"}, {\"hoverinfo\": \"text\", \"marker\": {\"color\": \"rgb(35,205,205)\"}, \"mode\": \"lines\", \"type\": \"scatter\", \"x\": [1367.5, 1367.5, 1427.5, 1427.5], \"xaxis\": \"x\", \"y\": [38.50116175757175, 64.72264329905741, 64.72264329905741, 42.73177631788212], \"yaxis\": \"y\"}, {\"hoverinfo\": \"text\", \"marker\": {\"color\": \"rgb(35,205,205)\"}, \"mode\": \"lines\", \"type\": \"scatter\", \"x\": [1295.625, 1295.625, 1397.5, 1397.5], \"xaxis\": \"x\", \"y\": [60.76224683985066, 121.4153343544338, 121.4153343544338, 64.72264329905741], \"yaxis\": \"y\"}, {\"hoverinfo\": \"text\", \"marker\": {\"color\": \"rgb(35,205,205)\"}, \"mode\": \"lines\", \"type\": \"scatter\", \"x\": [1098.59375, 1098.59375, 1346.5625, 1346.5625], \"xaxis\": \"x\", \"y\": [118.04979558978339, 177.47194048667305, 177.47194048667305, 121.4153343544338], \"yaxis\": \"y\"}, {\"hoverinfo\": \"text\", \"marker\": {\"color\": \"rgb(35,205,205)\"}, \"mode\": \"lines\", \"type\": \"scatter\", \"x\": [863.75, 863.75, 1222.578125, 1222.578125], \"xaxis\": \"x\", \"y\": [114.60680820152608, 223.242075409334, 223.242075409334, 177.47194048667305], \"yaxis\": \"y\"}, {\"hoverinfo\": \"text\", \"marker\": {\"color\": \"rgb(0,116,217)\"}, \"mode\": \"lines\", \"type\": \"scatter\", \"x\": [565.46875, 565.46875, 1043.1640625, 1043.1640625], \"xaxis\": \"x\", \"y\": [136.4328128507406, 261.25648320034105, 261.25648320034105, 223.242075409334], \"yaxis\": \"y\"}, {\"hoverinfo\": \"text\", \"marker\": {\"color\": \"rgb(0,116,217)\"}, \"mode\": \"lines\", \"type\": \"scatter\", \"x\": [174.84375, 174.84375, 804.31640625, 804.31640625], \"xaxis\": \"x\", \"y\": [161.22533205161832, 387.96517854073954, 387.96517854073954, 261.25648320034105], \"yaxis\": \"y\"}, {\"hoverinfo\": \"text\", \"marker\": {\"color\": \"rgb(133,20,75)\"}, \"mode\": \"lines\", \"type\": \"scatter\", \"x\": [1475.0, 1475.0, 1485.0, 1485.0], \"xaxis\": \"x\", \"y\": [0.0, 8.633021271114947, 8.633021271114947, 0.0], \"yaxis\": \"y\"}, {\"hoverinfo\": \"text\", \"marker\": {\"color\": \"rgb(133,20,75)\"}, \"mode\": \"lines\", \"type\": \"scatter\", \"x\": [1465.0, 1465.0, 1480.0, 1480.0], \"xaxis\": \"x\", \"y\": [0.0, 11.926399031542935, 11.926399031542935, 8.633021271114947], \"yaxis\": \"y\"}, {\"hoverinfo\": \"text\", \"marker\": {\"color\": \"rgb(133,20,75)\"}, \"mode\": \"lines\", \"type\": \"scatter\", \"x\": [1505.0, 1505.0, 1515.0, 1515.0], \"xaxis\": \"x\", \"y\": [0.0, 14.962573974304505, 14.962573974304505, 0.0], \"yaxis\": \"y\"}, {\"hoverinfo\": \"text\", \"marker\": {\"color\": \"rgb(133,20,75)\"}, \"mode\": \"lines\", \"type\": \"scatter\", \"x\": [1495.0, 1495.0, 1510.0, 1510.0], \"xaxis\": \"x\", \"y\": [0.0, 20.10269361743217, 20.10269361743217, 14.962573974304505], \"yaxis\": \"y\"}, {\"hoverinfo\": \"text\", \"marker\": {\"color\": \"rgb(133,20,75)\"}, \"mode\": \"lines\", \"type\": \"scatter\", \"x\": [1472.5, 1472.5, 1502.5, 1502.5], \"xaxis\": \"x\", \"y\": [11.926399031542935, 25.967549532803783, 25.967549532803783, 20.10269361743217], \"yaxis\": \"y\"}, {\"hoverinfo\": \"text\", \"marker\": {\"color\": \"rgb(133,20,75)\"}, \"mode\": \"lines\", \"type\": \"scatter\", \"x\": [1535.0, 1535.0, 1545.0, 1545.0], \"xaxis\": \"x\", \"y\": [0.0, 5.797432860541288, 5.797432860541288, 0.0], \"yaxis\": \"y\"}, {\"hoverinfo\": \"text\", \"marker\": {\"color\": \"rgb(133,20,75)\"}, \"mode\": \"lines\", \"type\": \"scatter\", \"x\": [1525.0, 1525.0, 1540.0, 1540.0], \"xaxis\": \"x\", \"y\": [0.0, 32.535762214072875, 32.535762214072875, 5.797432860541288], \"yaxis\": \"y\"}, {\"hoverinfo\": \"text\", \"marker\": {\"color\": \"rgb(133,20,75)\"}, \"mode\": \"lines\", \"type\": \"scatter\", \"x\": [1487.5, 1487.5, 1532.5, 1532.5], \"xaxis\": \"x\", \"y\": [25.967549532803783, 59.897179972701146, 59.897179972701146, 32.535762214072875], \"yaxis\": \"y\"}, {\"hoverinfo\": \"text\", \"marker\": {\"color\": \"rgb(133,20,75)\"}, \"mode\": \"lines\", \"type\": \"scatter\", \"x\": [1575.0, 1575.0, 1585.0, 1585.0], \"xaxis\": \"x\", \"y\": [0.0, 8.088640952662026, 8.088640952662026, 0.0], \"yaxis\": \"y\"}, {\"hoverinfo\": \"text\", \"marker\": {\"color\": \"rgb(133,20,75)\"}, \"mode\": \"lines\", \"type\": \"scatter\", \"x\": [1565.0, 1565.0, 1580.0, 1580.0], \"xaxis\": \"x\", \"y\": [0.0, 15.166336221132312, 15.166336221132312, 8.088640952662026], \"yaxis\": \"y\"}, {\"hoverinfo\": \"text\", \"marker\": {\"color\": \"rgb(133,20,75)\"}, \"mode\": \"lines\", \"type\": \"scatter\", \"x\": [1555.0, 1555.0, 1572.5, 1572.5], \"xaxis\": \"x\", \"y\": [0.0, 26.249631778582177, 26.249631778582177, 15.166336221132312], \"yaxis\": \"y\"}, {\"hoverinfo\": \"text\", \"marker\": {\"color\": \"rgb(133,20,75)\"}, \"mode\": \"lines\", \"type\": \"scatter\", \"x\": [1595.0, 1595.0, 1605.0, 1605.0], \"xaxis\": \"x\", \"y\": [0.0, 5.892472183471838, 5.892472183471838, 0.0], \"yaxis\": \"y\"}, {\"hoverinfo\": \"text\", \"marker\": {\"color\": \"rgb(133,20,75)\"}, \"mode\": \"lines\", \"type\": \"scatter\", \"x\": [1615.0, 1615.0, 1625.0, 1625.0], \"xaxis\": \"x\", \"y\": [0.0, 12.323586517895679, 12.323586517895679, 0.0], \"yaxis\": \"y\"}, {\"hoverinfo\": \"text\", \"marker\": {\"color\": \"rgb(133,20,75)\"}, \"mode\": \"lines\", \"type\": \"scatter\", \"x\": [1600.0, 1600.0, 1620.0, 1620.0], \"xaxis\": \"x\", \"y\": [5.892472183471838, 26.5953289374648, 26.5953289374648, 12.323586517895679], \"yaxis\": \"y\"}, {\"hoverinfo\": \"text\", \"marker\": {\"color\": \"rgb(133,20,75)\"}, \"mode\": \"lines\", \"type\": \"scatter\", \"x\": [1645.0, 1645.0, 1655.0, 1655.0], \"xaxis\": \"x\", \"y\": [0.0, 9.090721606578173, 9.090721606578173, 0.0], \"yaxis\": \"y\"}, {\"hoverinfo\": \"text\", \"marker\": {\"color\": \"rgb(133,20,75)\"}, \"mode\": \"lines\", \"type\": \"scatter\", \"x\": [1635.0, 1635.0, 1650.0, 1650.0], \"xaxis\": \"x\", \"y\": [0.0, 14.630036053750528, 14.630036053750528, 9.090721606578173], \"yaxis\": \"y\"}, {\"hoverinfo\": \"text\", \"marker\": {\"color\": \"rgb(133,20,75)\"}, \"mode\": \"lines\", \"type\": \"scatter\", \"x\": [1665.0, 1665.0, 1675.0, 1675.0], \"xaxis\": \"x\", \"y\": [0.0, 21.875468290029282, 21.875468290029282, 0.0], \"yaxis\": \"y\"}, {\"hoverinfo\": \"text\", \"marker\": {\"color\": \"rgb(133,20,75)\"}, \"mode\": \"lines\", \"type\": \"scatter\", \"x\": [1642.5, 1642.5, 1670.0, 1670.0], \"xaxis\": \"x\", \"y\": [14.630036053750528, 29.312014427566073, 29.312014427566073, 21.875468290029282], \"yaxis\": \"y\"}, {\"hoverinfo\": \"text\", \"marker\": {\"color\": \"rgb(133,20,75)\"}, \"mode\": \"lines\", \"type\": \"scatter\", \"x\": [1610.0, 1610.0, 1656.25, 1656.25], \"xaxis\": \"x\", \"y\": [26.5953289374648, 59.90766417241713, 59.90766417241713, 29.312014427566073], \"yaxis\": \"y\"}, {\"hoverinfo\": \"text\", \"marker\": {\"color\": \"rgb(133,20,75)\"}, \"mode\": \"lines\", \"type\": \"scatter\", \"x\": [1563.75, 1563.75, 1633.125, 1633.125], \"xaxis\": \"x\", \"y\": [26.249631778582177, 66.94530560186097, 66.94530560186097, 59.90766417241713], \"yaxis\": \"y\"}, {\"hoverinfo\": \"text\", \"marker\": {\"color\": \"rgb(133,20,75)\"}, \"mode\": \"lines\", \"type\": \"scatter\", \"x\": [1695.0, 1695.0, 1705.0, 1705.0], \"xaxis\": \"x\", \"y\": [0.0, 7.294788320793341, 7.294788320793341, 0.0], \"yaxis\": \"y\"}, {\"hoverinfo\": \"text\", \"marker\": {\"color\": \"rgb(133,20,75)\"}, \"mode\": \"lines\", \"type\": \"scatter\", \"x\": [1685.0, 1685.0, 1700.0, 1700.0], \"xaxis\": \"x\", \"y\": [0.0, 12.816972008557542, 12.816972008557542, 7.294788320793341], \"yaxis\": \"y\"}, {\"hoverinfo\": \"text\", \"marker\": {\"color\": \"rgb(133,20,75)\"}, \"mode\": \"lines\", \"type\": \"scatter\", \"x\": [1735.0, 1735.0, 1745.0, 1745.0], \"xaxis\": \"x\", \"y\": [0.0, 9.51941730621111, 9.51941730621111, 0.0], \"yaxis\": \"y\"}, {\"hoverinfo\": \"text\", \"marker\": {\"color\": \"rgb(133,20,75)\"}, \"mode\": \"lines\", \"type\": \"scatter\", \"x\": [1725.0, 1725.0, 1740.0, 1740.0], \"xaxis\": \"x\", \"y\": [0.0, 15.470058647439268, 15.470058647439268, 9.51941730621111], \"yaxis\": \"y\"}, {\"hoverinfo\": \"text\", \"marker\": {\"color\": \"rgb(133,20,75)\"}, \"mode\": \"lines\", \"type\": \"scatter\", \"x\": [1715.0, 1715.0, 1732.5, 1732.5], \"xaxis\": \"x\", \"y\": [0.0, 20.905492085016228, 20.905492085016228, 15.470058647439268], \"yaxis\": \"y\"}, {\"hoverinfo\": \"text\", \"marker\": {\"color\": \"rgb(133,20,75)\"}, \"mode\": \"lines\", \"type\": \"scatter\", \"x\": [1692.5, 1692.5, 1723.75, 1723.75], \"xaxis\": \"x\", \"y\": [12.816972008557542, 29.752511161984838, 29.752511161984838, 20.905492085016228], \"yaxis\": \"y\"}, {\"hoverinfo\": \"text\", \"marker\": {\"color\": \"rgb(133,20,75)\"}, \"mode\": \"lines\", \"type\": \"scatter\", \"x\": [1755.0, 1755.0, 1765.0, 1765.0], \"xaxis\": \"x\", \"y\": [0.0, 9.110486840929699, 9.110486840929699, 0.0], \"yaxis\": \"y\"}, {\"hoverinfo\": \"text\", \"marker\": {\"color\": \"rgb(133,20,75)\"}, \"mode\": \"lines\", \"type\": \"scatter\", \"x\": [1785.0, 1785.0, 1795.0, 1795.0], \"xaxis\": \"x\", \"y\": [0.0, 13.958902065564581, 13.958902065564581, 0.0], \"yaxis\": \"y\"}, {\"hoverinfo\": \"text\", \"marker\": {\"color\": \"rgb(133,20,75)\"}, \"mode\": \"lines\", \"type\": \"scatter\", \"x\": [1775.0, 1775.0, 1790.0, 1790.0], \"xaxis\": \"x\", \"y\": [0.0, 16.071771445544233, 16.071771445544233, 13.958902065564581], \"yaxis\": \"y\"}, {\"hoverinfo\": \"text\", \"marker\": {\"color\": \"rgb(133,20,75)\"}, \"mode\": \"lines\", \"type\": \"scatter\", \"x\": [1760.0, 1760.0, 1782.5, 1782.5], \"xaxis\": \"x\", \"y\": [9.110486840929699, 33.54969288982341, 33.54969288982341, 16.071771445544233], \"yaxis\": \"y\"}, {\"hoverinfo\": \"text\", \"marker\": {\"color\": \"rgb(133,20,75)\"}, \"mode\": \"lines\", \"type\": \"scatter\", \"x\": [1708.125, 1708.125, 1771.25, 1771.25], \"xaxis\": \"x\", \"y\": [29.752511161984838, 35.614785393290354, 35.614785393290354, 33.54969288982341], \"yaxis\": \"y\"}, {\"hoverinfo\": \"text\", \"marker\": {\"color\": \"rgb(133,20,75)\"}, \"mode\": \"lines\", \"type\": \"scatter\", \"x\": [1815.0, 1815.0, 1825.0, 1825.0], \"xaxis\": \"x\", \"y\": [0.0, 5.010938254605851, 5.010938254605851, 0.0], \"yaxis\": \"y\"}, {\"hoverinfo\": \"text\", \"marker\": {\"color\": \"rgb(133,20,75)\"}, \"mode\": \"lines\", \"type\": \"scatter\", \"x\": [1805.0, 1805.0, 1820.0, 1820.0], \"xaxis\": \"x\", \"y\": [0.0, 12.569668153918364, 12.569668153918364, 5.010938254605851], \"yaxis\": \"y\"}, {\"hoverinfo\": \"text\", \"marker\": {\"color\": \"rgb(133,20,75)\"}, \"mode\": \"lines\", \"type\": \"scatter\", \"x\": [1835.0, 1835.0, 1845.0, 1845.0], \"xaxis\": \"x\", \"y\": [0.0, 11.031066781876746, 11.031066781876746, 0.0], \"yaxis\": \"y\"}, {\"hoverinfo\": \"text\", \"marker\": {\"color\": \"rgb(133,20,75)\"}, \"mode\": \"lines\", \"type\": \"scatter\", \"x\": [1875.0, 1875.0, 1885.0, 1885.0], \"xaxis\": \"x\", \"y\": [0.0, 2.490628694284975, 2.490628694284975, 0.0], \"yaxis\": \"y\"}, {\"hoverinfo\": \"text\", \"marker\": {\"color\": \"rgb(133,20,75)\"}, \"mode\": \"lines\", \"type\": \"scatter\", \"x\": [1865.0, 1865.0, 1880.0, 1880.0], \"xaxis\": \"x\", \"y\": [0.0, 8.183193499768098, 8.183193499768098, 2.490628694284975], \"yaxis\": \"y\"}, {\"hoverinfo\": \"text\", \"marker\": {\"color\": \"rgb(133,20,75)\"}, \"mode\": \"lines\", \"type\": \"scatter\", \"x\": [1855.0, 1855.0, 1872.5, 1872.5], \"xaxis\": \"x\", \"y\": [0.0, 11.743656033139558, 11.743656033139558, 8.183193499768098], \"yaxis\": \"y\"}, {\"hoverinfo\": \"text\", \"marker\": {\"color\": \"rgb(133,20,75)\"}, \"mode\": \"lines\", \"type\": \"scatter\", \"x\": [1840.0, 1840.0, 1863.75, 1863.75], \"xaxis\": \"x\", \"y\": [11.031066781876746, 23.330343608705146, 23.330343608705146, 11.743656033139558], \"yaxis\": \"y\"}, {\"hoverinfo\": \"text\", \"marker\": {\"color\": \"rgb(133,20,75)\"}, \"mode\": \"lines\", \"type\": \"scatter\", \"x\": [1812.5, 1812.5, 1851.875, 1851.875], \"xaxis\": \"x\", \"y\": [12.569668153918364, 34.03204684356904, 34.03204684356904, 23.330343608705146], \"yaxis\": \"y\"}, {\"hoverinfo\": \"text\", \"marker\": {\"color\": \"rgb(133,20,75)\"}, \"mode\": \"lines\", \"type\": \"scatter\", \"x\": [1895.0, 1895.0, 1905.0, 1905.0], \"xaxis\": \"x\", \"y\": [0.0, 16.83100660040364, 16.83100660040364, 0.0], \"yaxis\": \"y\"}, {\"hoverinfo\": \"text\", \"marker\": {\"color\": \"rgb(133,20,75)\"}, \"mode\": \"lines\", \"type\": \"scatter\", \"x\": [1925.0, 1925.0, 1935.0, 1935.0], \"xaxis\": \"x\", \"y\": [0.0, 4.590245169368343, 4.590245169368343, 0.0], \"yaxis\": \"y\"}, {\"hoverinfo\": \"text\", \"marker\": {\"color\": \"rgb(133,20,75)\"}, \"mode\": \"lines\", \"type\": \"scatter\", \"x\": [1915.0, 1915.0, 1930.0, 1930.0], \"xaxis\": \"x\", \"y\": [0.0, 18.735633257978485, 18.735633257978485, 4.590245169368343], \"yaxis\": \"y\"}, {\"hoverinfo\": \"text\", \"marker\": {\"color\": \"rgb(133,20,75)\"}, \"mode\": \"lines\", \"type\": \"scatter\", \"x\": [1900.0, 1900.0, 1922.5, 1922.5], \"xaxis\": \"x\", \"y\": [16.83100660040364, 46.95861190172463, 46.95861190172463, 18.735633257978485], \"yaxis\": \"y\"}, {\"hoverinfo\": \"text\", \"marker\": {\"color\": \"rgb(133,20,75)\"}, \"mode\": \"lines\", \"type\": \"scatter\", \"x\": [1832.1875, 1832.1875, 1911.25, 1911.25], \"xaxis\": \"x\", \"y\": [34.03204684356904, 53.67960620861307, 53.67960620861307, 46.95861190172463], \"yaxis\": \"y\"}, {\"hoverinfo\": \"text\", \"marker\": {\"color\": \"rgb(133,20,75)\"}, \"mode\": \"lines\", \"type\": \"scatter\", \"x\": [1739.6875, 1739.6875, 1871.71875, 1871.71875], \"xaxis\": \"x\", \"y\": [35.614785393290354, 90.82899501984387, 90.82899501984387, 53.67960620861307], \"yaxis\": \"y\"}, {\"hoverinfo\": \"text\", \"marker\": {\"color\": \"rgb(133,20,75)\"}, \"mode\": \"lines\", \"type\": \"scatter\", \"x\": [1598.4375, 1598.4375, 1805.703125, 1805.703125], \"xaxis\": \"x\", \"y\": [66.94530560186097, 143.1431282619887, 143.1431282619887, 90.82899501984387], \"yaxis\": \"y\"}, {\"hoverinfo\": \"text\", \"marker\": {\"color\": \"rgb(133,20,75)\"}, \"mode\": \"lines\", \"type\": \"scatter\", \"x\": [1510.0, 1510.0, 1702.0703125, 1702.0703125], \"xaxis\": \"x\", \"y\": [59.897179972701146, 190.2497942408816, 190.2497942408816, 143.1431282619887], \"yaxis\": \"y\"}, {\"hoverinfo\": \"text\", \"marker\": {\"color\": \"rgb(255,220,0)\"}, \"mode\": \"lines\", \"type\": \"scatter\", \"x\": [1955.0, 1955.0, 1965.0, 1965.0], \"xaxis\": \"x\", \"y\": [0.0, 40.582642962689455, 40.582642962689455, 0.0], \"yaxis\": \"y\"}, {\"hoverinfo\": \"text\", \"marker\": {\"color\": \"rgb(255,220,0)\"}, \"mode\": \"lines\", \"type\": \"scatter\", \"x\": [1945.0, 1945.0, 1960.0, 1960.0], \"xaxis\": \"x\", \"y\": [0.0, 107.5155765491795, 107.5155765491795, 40.582642962689455], \"yaxis\": \"y\"}, {\"hoverinfo\": \"text\", \"marker\": {\"color\": \"rgb(255,220,0)\"}, \"mode\": \"lines\", \"type\": \"scatter\", \"x\": [1975.0, 1975.0, 1985.0, 1985.0], \"xaxis\": \"x\", \"y\": [0.0, 126.90034164440748, 126.90034164440748, 0.0], \"yaxis\": \"y\"}, {\"hoverinfo\": \"text\", \"marker\": {\"color\": \"rgb(255,220,0)\"}, \"mode\": \"lines\", \"type\": \"scatter\", \"x\": [1952.5, 1952.5, 1980.0, 1980.0], \"xaxis\": \"x\", \"y\": [107.5155765491795, 259.85905604939074, 259.85905604939074, 126.90034164440748], \"yaxis\": \"y\"}, {\"hoverinfo\": \"text\", \"marker\": {\"color\": \"rgb(0,116,217)\"}, \"mode\": \"lines\", \"type\": \"scatter\", \"x\": [1606.03515625, 1606.03515625, 1966.25, 1966.25], \"xaxis\": \"x\", \"y\": [190.2497942408816, 477.19970226901086, 477.19970226901086, 259.85905604939074], \"yaxis\": \"y\"}, {\"hoverinfo\": \"text\", \"marker\": {\"color\": \"rgb(0,116,217)\"}, \"mode\": \"lines\", \"type\": \"scatter\", \"x\": [489.580078125, 489.580078125, 1786.142578125, 1786.142578125], \"xaxis\": \"x\", \"y\": [387.96517854073954, 718.0309923476678, 718.0309923476678, 477.19970226901086], \"yaxis\": \"y\"}],                        {\"autosize\": false, \"height\": 600, \"hovermode\": \"closest\", \"shapes\": [{\"line\": {\"color\": \"Black\", \"dash\": \"dash\"}, \"type\": \"line\", \"x0\": 0, \"x1\": 1985, \"y0\": 260, \"y1\": 260}], \"showlegend\": false, \"template\": {\"data\": {\"bar\": [{\"error_x\": {\"color\": \"#2a3f5f\"}, \"error_y\": {\"color\": \"#2a3f5f\"}, \"marker\": {\"line\": {\"color\": \"#E5ECF6\", \"width\": 0.5}}, \"type\": \"bar\"}], \"barpolar\": [{\"marker\": {\"line\": {\"color\": \"#E5ECF6\", \"width\": 0.5}}, \"type\": \"barpolar\"}], \"carpet\": [{\"aaxis\": {\"endlinecolor\": \"#2a3f5f\", \"gridcolor\": \"white\", \"linecolor\": \"white\", \"minorgridcolor\": \"white\", \"startlinecolor\": \"#2a3f5f\"}, \"baxis\": {\"endlinecolor\": \"#2a3f5f\", \"gridcolor\": \"white\", \"linecolor\": \"white\", \"minorgridcolor\": \"white\", \"startlinecolor\": \"#2a3f5f\"}, \"type\": \"carpet\"}], \"choropleth\": [{\"colorbar\": {\"outlinewidth\": 0, \"ticks\": \"\"}, \"type\": \"choropleth\"}], \"contour\": [{\"colorbar\": {\"outlinewidth\": 0, \"ticks\": \"\"}, \"colorscale\": [[0.0, \"#0d0887\"], [0.1111111111111111, \"#46039f\"], [0.2222222222222222, \"#7201a8\"], [0.3333333333333333, \"#9c179e\"], [0.4444444444444444, \"#bd3786\"], [0.5555555555555556, \"#d8576b\"], [0.6666666666666666, \"#ed7953\"], [0.7777777777777778, \"#fb9f3a\"], [0.8888888888888888, \"#fdca26\"], [1.0, \"#f0f921\"]], \"type\": \"contour\"}], \"contourcarpet\": [{\"colorbar\": {\"outlinewidth\": 0, \"ticks\": \"\"}, \"type\": \"contourcarpet\"}], \"heatmap\": [{\"colorbar\": {\"outlinewidth\": 0, \"ticks\": \"\"}, \"colorscale\": [[0.0, \"#0d0887\"], [0.1111111111111111, \"#46039f\"], [0.2222222222222222, \"#7201a8\"], [0.3333333333333333, \"#9c179e\"], [0.4444444444444444, \"#bd3786\"], [0.5555555555555556, \"#d8576b\"], [0.6666666666666666, \"#ed7953\"], [0.7777777777777778, \"#fb9f3a\"], [0.8888888888888888, \"#fdca26\"], [1.0, \"#f0f921\"]], \"type\": \"heatmap\"}], \"heatmapgl\": [{\"colorbar\": {\"outlinewidth\": 0, \"ticks\": \"\"}, \"colorscale\": [[0.0, \"#0d0887\"], [0.1111111111111111, \"#46039f\"], [0.2222222222222222, \"#7201a8\"], [0.3333333333333333, \"#9c179e\"], [0.4444444444444444, \"#bd3786\"], [0.5555555555555556, \"#d8576b\"], [0.6666666666666666, \"#ed7953\"], [0.7777777777777778, \"#fb9f3a\"], [0.8888888888888888, \"#fdca26\"], [1.0, \"#f0f921\"]], \"type\": \"heatmapgl\"}], \"histogram\": [{\"marker\": {\"colorbar\": {\"outlinewidth\": 0, \"ticks\": \"\"}}, \"type\": \"histogram\"}], \"histogram2d\": [{\"colorbar\": {\"outlinewidth\": 0, \"ticks\": \"\"}, \"colorscale\": [[0.0, \"#0d0887\"], [0.1111111111111111, \"#46039f\"], [0.2222222222222222, \"#7201a8\"], [0.3333333333333333, \"#9c179e\"], [0.4444444444444444, \"#bd3786\"], [0.5555555555555556, \"#d8576b\"], [0.6666666666666666, \"#ed7953\"], [0.7777777777777778, \"#fb9f3a\"], [0.8888888888888888, \"#fdca26\"], [1.0, \"#f0f921\"]], \"type\": \"histogram2d\"}], \"histogram2dcontour\": [{\"colorbar\": {\"outlinewidth\": 0, \"ticks\": \"\"}, \"colorscale\": [[0.0, \"#0d0887\"], [0.1111111111111111, \"#46039f\"], [0.2222222222222222, \"#7201a8\"], [0.3333333333333333, \"#9c179e\"], [0.4444444444444444, \"#bd3786\"], [0.5555555555555556, \"#d8576b\"], [0.6666666666666666, \"#ed7953\"], [0.7777777777777778, \"#fb9f3a\"], [0.8888888888888888, \"#fdca26\"], [1.0, \"#f0f921\"]], \"type\": \"histogram2dcontour\"}], \"mesh3d\": [{\"colorbar\": {\"outlinewidth\": 0, \"ticks\": \"\"}, \"type\": \"mesh3d\"}], \"parcoords\": [{\"line\": {\"colorbar\": {\"outlinewidth\": 0, \"ticks\": \"\"}}, \"type\": \"parcoords\"}], \"pie\": [{\"automargin\": true, \"type\": \"pie\"}], \"scatter\": [{\"marker\": {\"colorbar\": {\"outlinewidth\": 0, \"ticks\": \"\"}}, \"type\": \"scatter\"}], \"scatter3d\": [{\"line\": {\"colorbar\": {\"outlinewidth\": 0, \"ticks\": \"\"}}, \"marker\": {\"colorbar\": {\"outlinewidth\": 0, \"ticks\": \"\"}}, \"type\": \"scatter3d\"}], \"scattercarpet\": [{\"marker\": {\"colorbar\": {\"outlinewidth\": 0, \"ticks\": \"\"}}, \"type\": \"scattercarpet\"}], \"scattergeo\": [{\"marker\": {\"colorbar\": {\"outlinewidth\": 0, \"ticks\": \"\"}}, \"type\": \"scattergeo\"}], \"scattergl\": [{\"marker\": {\"colorbar\": {\"outlinewidth\": 0, \"ticks\": \"\"}}, \"type\": \"scattergl\"}], \"scattermapbox\": [{\"marker\": {\"colorbar\": {\"outlinewidth\": 0, \"ticks\": \"\"}}, \"type\": \"scattermapbox\"}], \"scatterpolar\": [{\"marker\": {\"colorbar\": {\"outlinewidth\": 0, \"ticks\": \"\"}}, \"type\": \"scatterpolar\"}], \"scatterpolargl\": [{\"marker\": {\"colorbar\": {\"outlinewidth\": 0, \"ticks\": \"\"}}, \"type\": \"scatterpolargl\"}], \"scatterternary\": [{\"marker\": {\"colorbar\": {\"outlinewidth\": 0, \"ticks\": \"\"}}, \"type\": \"scatterternary\"}], \"surface\": [{\"colorbar\": {\"outlinewidth\": 0, \"ticks\": \"\"}, \"colorscale\": [[0.0, \"#0d0887\"], [0.1111111111111111, \"#46039f\"], [0.2222222222222222, \"#7201a8\"], [0.3333333333333333, \"#9c179e\"], [0.4444444444444444, \"#bd3786\"], [0.5555555555555556, \"#d8576b\"], [0.6666666666666666, \"#ed7953\"], [0.7777777777777778, \"#fb9f3a\"], [0.8888888888888888, \"#fdca26\"], [1.0, \"#f0f921\"]], \"type\": \"surface\"}], \"table\": [{\"cells\": {\"fill\": {\"color\": \"#EBF0F8\"}, \"line\": {\"color\": \"white\"}}, \"header\": {\"fill\": {\"color\": \"#C8D4E3\"}, \"line\": {\"color\": \"white\"}}, \"type\": \"table\"}]}, \"layout\": {\"annotationdefaults\": {\"arrowcolor\": \"#2a3f5f\", \"arrowhead\": 0, \"arrowwidth\": 1}, \"autotypenumbers\": \"strict\", \"coloraxis\": {\"colorbar\": {\"outlinewidth\": 0, \"ticks\": \"\"}}, \"colorscale\": {\"diverging\": [[0, \"#8e0152\"], [0.1, \"#c51b7d\"], [0.2, \"#de77ae\"], [0.3, \"#f1b6da\"], [0.4, \"#fde0ef\"], [0.5, \"#f7f7f7\"], [0.6, \"#e6f5d0\"], [0.7, \"#b8e186\"], [0.8, \"#7fbc41\"], [0.9, \"#4d9221\"], [1, \"#276419\"]], \"sequential\": [[0.0, \"#0d0887\"], [0.1111111111111111, \"#46039f\"], [0.2222222222222222, \"#7201a8\"], [0.3333333333333333, \"#9c179e\"], [0.4444444444444444, \"#bd3786\"], [0.5555555555555556, \"#d8576b\"], [0.6666666666666666, \"#ed7953\"], [0.7777777777777778, \"#fb9f3a\"], [0.8888888888888888, \"#fdca26\"], [1.0, \"#f0f921\"]], \"sequentialminus\": [[0.0, \"#0d0887\"], [0.1111111111111111, \"#46039f\"], [0.2222222222222222, \"#7201a8\"], [0.3333333333333333, \"#9c179e\"], [0.4444444444444444, \"#bd3786\"], [0.5555555555555556, \"#d8576b\"], [0.6666666666666666, \"#ed7953\"], [0.7777777777777778, \"#fb9f3a\"], [0.8888888888888888, \"#fdca26\"], [1.0, \"#f0f921\"]]}, \"colorway\": [\"#636efa\", \"#EF553B\", \"#00cc96\", \"#ab63fa\", \"#FFA15A\", \"#19d3f3\", \"#FF6692\", \"#B6E880\", \"#FF97FF\", \"#FECB52\"], \"font\": {\"color\": \"#2a3f5f\"}, \"geo\": {\"bgcolor\": \"white\", \"lakecolor\": \"white\", \"landcolor\": \"#E5ECF6\", \"showlakes\": true, \"showland\": true, \"subunitcolor\": \"white\"}, \"hoverlabel\": {\"align\": \"left\"}, \"hovermode\": \"closest\", \"mapbox\": {\"style\": \"light\"}, \"paper_bgcolor\": \"white\", \"plot_bgcolor\": \"#E5ECF6\", \"polar\": {\"angularaxis\": {\"gridcolor\": \"white\", \"linecolor\": \"white\", \"ticks\": \"\"}, \"bgcolor\": \"#E5ECF6\", \"radialaxis\": {\"gridcolor\": \"white\", \"linecolor\": \"white\", \"ticks\": \"\"}}, \"scene\": {\"xaxis\": {\"backgroundcolor\": \"#E5ECF6\", \"gridcolor\": \"white\", \"gridwidth\": 2, \"linecolor\": \"white\", \"showbackground\": true, \"ticks\": \"\", \"zerolinecolor\": \"white\"}, \"yaxis\": {\"backgroundcolor\": \"#E5ECF6\", \"gridcolor\": \"white\", \"gridwidth\": 2, \"linecolor\": \"white\", \"showbackground\": true, \"ticks\": \"\", \"zerolinecolor\": \"white\"}, \"zaxis\": {\"backgroundcolor\": \"#E5ECF6\", \"gridcolor\": \"white\", \"gridwidth\": 2, \"linecolor\": \"white\", \"showbackground\": true, \"ticks\": \"\", \"zerolinecolor\": \"white\"}}, \"shapedefaults\": {\"line\": {\"color\": \"#2a3f5f\"}}, \"ternary\": {\"aaxis\": {\"gridcolor\": \"white\", \"linecolor\": \"white\", \"ticks\": \"\"}, \"baxis\": {\"gridcolor\": \"white\", \"linecolor\": \"white\", \"ticks\": \"\"}, \"bgcolor\": \"#E5ECF6\", \"caxis\": {\"gridcolor\": \"white\", \"linecolor\": \"white\", \"ticks\": \"\"}}, \"title\": {\"x\": 0.05}, \"xaxis\": {\"automargin\": true, \"gridcolor\": \"white\", \"linecolor\": \"white\", \"ticks\": \"\", \"title\": {\"standoff\": 15}, \"zerolinecolor\": \"white\", \"zerolinewidth\": 2}, \"yaxis\": {\"automargin\": true, \"gridcolor\": \"white\", \"linecolor\": \"white\", \"ticks\": \"\", \"title\": {\"standoff\": 15}, \"zerolinecolor\": \"white\", \"zerolinewidth\": 2}}}, \"width\": 1000, \"xaxis\": {\"mirror\": \"allticks\", \"rangemode\": \"tozero\", \"showgrid\": false, \"showline\": true, \"showticklabels\": false, \"tickmode\": \"array\", \"ticks\": \"outside\", \"ticktext\": [\"73\", \"84\", \"44\", \"87\", \"89\", \"114\", \"76\", \"86\", \"60\", \"13\", \"10\", \"26\", \"2\", \"82\", \"98\", \"4\", \"32\", \"66\", \"18\", \"33\", \"59\", \"71\", \"21\", \"36\", \"61\", \"16\", \"31\", \"0\", \"27\", \"83\", \"11\", \"24\", \"43\", \"5\", \"20\", \"3\", \"6\", \"51\", \"58\", \"19\", \"7\", \"14\", \"97\", \"113\", \"96\", \"105\", \"130\", \"125\", \"112\", \"140\", \"85\", \"133\", \"63\", \"110\", \"142\", \"90\", \"106\", \"92\", \"116\", \"135\", \"103\", \"115\", \"161\", \"143\", \"153\", \"158\", \"164\", \"107\", \"129\", \"123\", \"121\", \"144\", \"1\", \"37\", \"54\", \"28\", \"8\", \"48\", \"81\", \"88\", \"15\", \"49\", \"78\", \"120\", \"17\", \"29\", \"53\", \"9\", \"65\", \"52\", \"95\", \"127\", \"38\", \"25\", \"79\", \"94\", \"50\", \"62\", \"101\", \"34\", \"42\", \"131\", \"74\", \"117\", \"102\", \"72\", \"93\", \"70\", \"40\", \"47\", \"22\", \"23\", \"12\", \"45\", \"75\", \"30\", \"39\", \"57\", \"35\", \"41\", \"80\", \"77\", \"99\", \"100\", \"119\", \"56\", \"109\", \"104\", \"132\", \"64\", \"108\", \"46\", \"55\", \"68\", \"91\", \"126\", \"128\", \"122\", \"67\", \"69\", \"148\", \"124\", \"150\", \"138\", \"118\", \"149\", \"190\", \"188\", \"189\", \"186\", \"185\", \"187\", \"191\", \"192\", \"193\", \"137\", \"111\", \"134\", \"139\", \"146\", \"157\", \"147\", \"165\", \"154\", \"136\", \"141\", \"151\", \"159\", \"180\", \"183\", \"184\", \"167\", \"176\", \"174\", \"177\", \"178\", \"179\", \"182\", \"175\", \"181\", \"168\", \"152\", \"156\", \"145\", \"155\", \"173\", \"166\", \"162\", \"163\", \"170\", \"172\", \"160\", \"169\", \"171\", \"194\", \"195\", \"196\", \"197\", \"198\"], \"tickvals\": [5.0, 15.0, 25.0, 35.0, 45.0, 55.0, 65.0, 75.0, 85.0, 95.0, 105.0, 115.0, 125.0, 135.0, 145.0, 155.0, 165.0, 175.0, 185.0, 195.0, 205.0, 215.0, 225.0, 235.0, 245.0, 255.0, 265.0, 275.0, 285.0, 295.0, 305.0, 315.0, 325.0, 335.0, 345.0, 355.0, 365.0, 375.0, 385.0, 395.0, 405.0, 415.0, 425.0, 435.0, 445.0, 455.0, 465.0, 475.0, 485.0, 495.0, 505.0, 515.0, 525.0, 535.0, 545.0, 555.0, 565.0, 575.0, 585.0, 595.0, 605.0, 615.0, 625.0, 635.0, 645.0, 655.0, 665.0, 675.0, 685.0, 695.0, 705.0, 715.0, 725.0, 735.0, 745.0, 755.0, 765.0, 775.0, 785.0, 795.0, 805.0, 815.0, 825.0, 835.0, 845.0, 855.0, 865.0, 875.0, 885.0, 895.0, 905.0, 915.0, 925.0, 935.0, 945.0, 955.0, 965.0, 975.0, 985.0, 995.0, 1005.0, 1015.0, 1025.0, 1035.0, 1045.0, 1055.0, 1065.0, 1075.0, 1085.0, 1095.0, 1105.0, 1115.0, 1125.0, 1135.0, 1145.0, 1155.0, 1165.0, 1175.0, 1185.0, 1195.0, 1205.0, 1215.0, 1225.0, 1235.0, 1245.0, 1255.0, 1265.0, 1275.0, 1285.0, 1295.0, 1305.0, 1315.0, 1325.0, 1335.0, 1345.0, 1355.0, 1365.0, 1375.0, 1385.0, 1395.0, 1405.0, 1415.0, 1425.0, 1435.0, 1445.0, 1455.0, 1465.0, 1475.0, 1485.0, 1495.0, 1505.0, 1515.0, 1525.0, 1535.0, 1545.0, 1555.0, 1565.0, 1575.0, 1585.0, 1595.0, 1605.0, 1615.0, 1625.0, 1635.0, 1645.0, 1655.0, 1665.0, 1675.0, 1685.0, 1695.0, 1705.0, 1715.0, 1725.0, 1735.0, 1745.0, 1755.0, 1765.0, 1775.0, 1785.0, 1795.0, 1805.0, 1815.0, 1825.0, 1835.0, 1845.0, 1855.0, 1865.0, 1875.0, 1885.0, 1895.0, 1905.0, 1915.0, 1925.0, 1935.0, 1945.0, 1955.0, 1965.0, 1975.0, 1985.0], \"title\": {\"text\": \"Sample index\"}, \"type\": \"linear\", \"zeroline\": false}, \"yaxis\": {\"mirror\": \"allticks\", \"rangemode\": \"tozero\", \"showgrid\": false, \"showline\": true, \"showticklabels\": true, \"ticks\": \"outside\", \"title\": {\"text\": \"Cluster distance\"}, \"type\": \"linear\", \"zeroline\": false}},                        {\"responsive\": true}                    ).then(function(){\n",
       "                            \n",
       "var gd = document.getElementById('2230b15d-901e-487c-89f8-a2fe4b179278');\n",
       "var x = new MutationObserver(function (mutations, observer) {{\n",
       "        var display = window.getComputedStyle(gd).display;\n",
       "        if (!display || display === 'none') {{\n",
       "            console.log([gd, 'removed!']);\n",
       "            Plotly.purge(gd);\n",
       "            observer.disconnect();\n",
       "        }}\n",
       "}});\n",
       "\n",
       "// Listen for the removal of the full notebook cells\n",
       "var notebookContainer = gd.closest('#notebook-container');\n",
       "if (notebookContainer) {{\n",
       "    x.observe(notebookContainer, {childList: true});\n",
       "}}\n",
       "\n",
       "// Listen for the clearing of the current output cell\n",
       "var outputEl = gd.closest('.output');\n",
       "if (outputEl) {{\n",
       "    x.observe(outputEl, {childList: true});\n",
       "}}\n",
       "\n",
       "                        })                };                });            </script>        </div>"
      ]
     },
     "metadata": {},
     "output_type": "display_data"
    }
   ],
   "source": [
    "import plotly.figure_factory as ff\n",
    "import plotly.graph_objects as go\n",
    "from scipy.cluster.hierarchy import ward\n",
    "linkage = ward(X)\n",
    "fig = ff.create_dendrogram(linkage, color_threshold = 260)\n",
    "fig.update_layout(width = 1000, height = 600, yaxis_title = 'Cluster distance', xaxis_title = 'Sample index')\n",
    "fig.update_xaxes(showticklabels=False)\n",
    "fig.add_shape(\n",
    "        type='line',\n",
    "        x0=0,\n",
    "        y0=260,\n",
    "        x1=1985,\n",
    "        y1=260,\n",
    "        line=dict(\n",
    "            color='Black',\n",
    "            dash='dash'\n",
    "        )\n",
    ")\n",
    "fig.show()"
   ]
  },
  {
   "cell_type": "markdown",
   "metadata": {},
   "source": [
    "- __The dendrogram is a tree-like diagram where the top is the root and the bottom part is the leaves. The leaves are made up of individual data points and a new node parent is added for each two clusters that are merged.__\n",
    "\n",
    "- __The vertical axis(cluster distance) depicts the Euclidean distance(in this case). As we move up from the bottom, the leaves merge into branches and this corresponds to the samples/clusters that are similar to each other. The vertical distance represents how similar the clusters are, so for example, the greater the vertical distances before the merge happen, the more dissimilar the clusters are. This can be seen at the merge of the root(the top part), where the left main branch and the right main branch merge together, the vertical distance is as much as 300, which means they are very dissimilar compare to a vertical distance, say 5, which represents very similar clusters.__\n",
    "\n",
    "- __The dashed line show where we choose to cut the dendrogram to get a desired number of clusters. The number of vertical lines before branching under the dashed lines tells us the number of clusters we will have if we cut at the vertical distance(cluster distance). In this dendrogram, we can see there are five clusters when we cut at cluster distance = 260, there is a very tiny(unable to see) vertical line at the rightmost part of the graph(the yellow clusters) before it branches, so there are 5 vertical lines under the dashed lines instead of 6 before branching.__ \n",
    "\n",
    "- __So, using this dendrogram, we can look at each individual clusters and how they merge together to form into a larger cluster from bottom up. This provides us a lot of information since we can inspect each individual samples and examine how similar(or dissimilar) are they with the samples they merge with. Also, we can use this to choose how many clusters we would like to have by cutting at different cluster distances.__\n",
    "- __In practice, people often look at the dendrogram and select by eye a sensible number of clusters, based on the heights of the merge and the numbers of clusters desired.__"
   ]
  },
  {
   "cell_type": "markdown",
   "metadata": {},
   "source": [
    "#### Clustering of half-moon-shaped dataset with Agglomerative Clustering"
   ]
  },
  {
   "cell_type": "code",
   "execution_count": 52,
   "metadata": {
    "scrolled": false
   },
   "outputs": [
    {
     "data": {
      "text/plain": [
       "Text(0, 0.5, 'Feature 1')"
      ]
     },
     "execution_count": 52,
     "metadata": {},
     "output_type": "execute_result"
    },
    {
     "data": {
      "image/png": "[encoded data removed]",
      "text/plain": [
       "<Figure size 432x288 with 1 Axes>"
      ]
     },
     "metadata": {
      "needs_background": "light"
     },
     "output_type": "display_data"
    }
   ],
   "source": [
    "from sklearn.datasets import make_moons\n",
    "x, y = make_moons(n_samples=200, noise=0.05, random_state=0)\n",
    "\n",
    "# cluster the data into two clusters\n",
    "agglo =  AgglomerativeClustering(n_clusters=2, linkage='average')\n",
    "y_pred = agglo.fit_predict(x)\n",
    "\n",
    "  \n",
    "\n",
    "plt.scatter(x[:, 0], x[:, 1], c=y_pred, cmap=mglearn.cm2, s=60)\n",
    "plt.xlabel(\"Feature 0\")\n",
    "plt.ylabel(\"Feature 1\")"
   ]
  },
  {
   "cell_type": "markdown",
   "metadata": {},
   "source": [
    "- __As we can see from the plot above, agglomerative clustering does not deal well with the half-moon-shaped data when we use 'average' linkage.__\n"
   ]
  },
  {
   "cell_type": "code",
   "execution_count": 53,
   "metadata": {},
   "outputs": [
    {
     "data": {
      "text/plain": [
       "Text(0, 0.5, 'Feature 1')"
      ]
     },
     "execution_count": 53,
     "metadata": {},
     "output_type": "execute_result"
    },
    {
     "data": {
      "image/png": "[encoded data removed]",
      "text/plain": [
       "<Figure size 432x288 with 1 Axes>"
      ]
     },
     "metadata": {
      "needs_background": "light"
     },
     "output_type": "display_data"
    }
   ],
   "source": [
    "agglo =  AgglomerativeClustering(n_clusters=2, linkage='single')\n",
    "y_pred = agglo.fit_predict(x)\n",
    "\n",
    "  \n",
    "\n",
    "plt.scatter(x[:, 0], x[:, 1], c=y_pred, cmap=mglearn.cm2, s=60)\n",
    "plt.xlabel(\"Feature 0\")\n",
    "plt.ylabel(\"Feature 1\")"
   ]
  },
  {
   "cell_type": "markdown",
   "metadata": {},
   "source": [
    " - __However, we can correctly clusters the half-moon-shaped data when we use 'single' linkage. This is because 'single' use the minimum distance to identify similar clusters and the gap between the two real clusters are big.__"
   ]
  },
  {
   "cell_type": "markdown",
   "metadata": {},
   "source": [
    "### 3. DBSCAN(Density Based Spatial Clustering of Application with Noise)"
   ]
  }
 ],
 "metadata": {
  "kernelspec": {
   "display_name": "Python 3",
   "language": "python",
   "name": "python3"
  },
  "language_info": {
   "codemirror_mode": {
    "name": "ipython",
    "version": 3
   },
   "file_extension": ".py",
   "mimetype": "text/x-python",
   "name": "python",
   "nbconvert_exporter": "python",
   "pygments_lexer": "ipython3",
   "version": "3.8.5"
  }
 },
 "nbformat": 4,
 "nbformat_minor": 4
}
